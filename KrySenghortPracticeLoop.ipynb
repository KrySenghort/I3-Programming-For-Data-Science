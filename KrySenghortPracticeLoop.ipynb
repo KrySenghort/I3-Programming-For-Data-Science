{
 "cells": [
  {
   "attachments": {},
   "cell_type": "markdown",
   "metadata": {},
   "source": [
    "<p style = \"text-align:center\"><b>004_Python_for_Loop</b><br>March 9, 2023</p>"
   ]
  },
  {
   "attachments": {},
   "cell_type": "markdown",
   "metadata": {},
   "source": [
    "<b> 1. Loop in Python"
   ]
  },
  {
   "attachments": {},
   "cell_type": "markdown",
   "metadata": {},
   "source": [
    "<b> 2 Python for Loop<br></b>\n",
    "we use it when we want to repeat a code block for a fixed number of times."
   ]
  },
  {
   "attachments": {},
   "cell_type": "markdown",
   "metadata": {},
   "source": [
    "<b> 2.1 What is for loop ?<br></b>\n",
    "it is used to iterate over a sequence([string],[list],[dictionary],[set], or [tuple])"
   ]
  },
  {
   "attachments": {},
   "cell_type": "markdown",
   "metadata": {},
   "source": [
    "<b> 2.2 Why we use for Loop<br></b>\n",
    "- Definte iteration\n",
    "- Reduces the code's complexity\n",
    "- Loop through sequences"
   ]
  },
  {
   "attachments": {},
   "cell_type": "markdown",
   "metadata": {},
   "source": [
    "<b> 2.2.1 Syntax:<br></b>\n",
    "for element in sequence:<br>\n",
    "    - body of for loop"
   ]
  },
  {
   "cell_type": "code",
   "execution_count": 1,
   "metadata": {},
   "outputs": [
    {
     "name": "stdout",
     "output_type": "stream",
     "text": [
      "one\n",
      "two\n",
      "three\n",
      "four\n",
      "five\n"
     ]
    }
   ],
   "source": [
    "words = ['one','two','three','four','five']\n",
    "for i in words:\n",
    "  print(i)"
   ]
  },
  {
   "cell_type": "code",
   "execution_count": 2,
   "metadata": {},
   "outputs": [
    {
     "name": "stdout",
     "output_type": "stream",
     "text": [
      "30.0\n"
     ]
    }
   ],
   "source": [
    "numbers = [10,20,30,40,50]\n",
    "sum = 0\n",
    "for i in numbers:\n",
    "  sum = sum+i\n",
    "list_size = len(numbers)\n",
    "average = sum/list_size\n",
    "print(average)"
   ]
  },
  {
   "attachments": {},
   "cell_type": "markdown",
   "metadata": {},
   "source": [
    "<b>2.3 For loops with range() function"
   ]
  },
  {
   "cell_type": "code",
   "execution_count": 3,
   "metadata": {},
   "outputs": [
    {
     "name": "stdout",
     "output_type": "stream",
     "text": [
      "[]\n",
      "[0, 1, 2, 3, 4, 5, 6, 7, 8, 9]\n",
      "[1, 2, 3, 4, 5, 6, 7, 8, 9]\n"
     ]
    }
   ],
   "source": [
    "# empty range\n",
    "print(list(range(0)))\n",
    "\n",
    "# using range(stop)\n",
    "print(list(range(10)))\n",
    "\n",
    "# using range(start,stop)\n",
    "print(list(range(1,10)))"
   ]
  },
  {
   "cell_type": "code",
   "execution_count": 4,
   "metadata": {},
   "outputs": [
    {
     "name": "stdout",
     "output_type": "stream",
     "text": [
      "0\n",
      "1\n",
      "2\n",
      "3\n",
      "4\n",
      "5\n",
      "6\n",
      "7\n",
      "8\n",
      "9\n"
     ]
    }
   ],
   "source": [
    "for num in range(10):\n",
    "  print(num)"
   ]
  },
  {
   "cell_type": "code",
   "execution_count": 5,
   "metadata": {},
   "outputs": [
    {
     "name": "stdout",
     "output_type": "stream",
     "text": [
      "1\n",
      "2\n",
      "3\n",
      "4\n",
      "5\n",
      "6\n",
      "7\n",
      "8\n",
      "9\n",
      "10\n"
     ]
    }
   ],
   "source": [
    "for i in range(1,11):\n",
    "  print(i)"
   ]
  },
  {
   "cell_type": "code",
   "execution_count": 6,
   "metadata": {},
   "outputs": [
    {
     "name": "stdout",
     "output_type": "stream",
     "text": [
      "2\n",
      "4\n",
      "6\n",
      "8\n",
      "10\n"
     ]
    }
   ],
   "source": [
    "for i in range(2,12,2):\n",
    "  print(i)"
   ]
  },
  {
   "cell_type": "code",
   "execution_count": 7,
   "metadata": {},
   "outputs": [
    {
     "name": "stdout",
     "output_type": "stream",
     "text": [
      "2\n",
      "4\n",
      "6\n",
      "8\n",
      "10\n"
     ]
    }
   ],
   "source": [
    "num = 2\n",
    "for a in range(1,6):\n",
    "  print(num*a)"
   ]
  },
  {
   "cell_type": "code",
   "execution_count": 8,
   "metadata": {},
   "outputs": [
    {
     "name": "stdout",
     "output_type": "stream",
     "text": [
      "1\n",
      "3\n",
      "6\n",
      "10\n",
      "15\n",
      "21\n",
      "28\n",
      "36\n",
      "45\n",
      "55\n"
     ]
    }
   ],
   "source": [
    "sum = 0\n",
    "for n in range(1,11):\n",
    "  sum += n\n",
    "  print(sum)"
   ]
  },
  {
   "cell_type": "code",
   "execution_count": 9,
   "metadata": {},
   "outputs": [
    {
     "name": "stdout",
     "output_type": "stream",
     "text": [
      "Case 1:\n",
      "0\n",
      "1\n",
      "2\n",
      "3\n",
      "4\n",
      "Case 2:\n",
      "5\n",
      "6\n",
      "7\n",
      "8\n",
      "9\n",
      "Case 3:\n",
      "5\n",
      "7\n",
      "9\n"
     ]
    }
   ],
   "source": [
    "print(\"Case 1:\")\n",
    "for i in range(5):\n",
    "  print(i)\n",
    "  \n",
    "print(\"Case 2:\")\n",
    "for i in range(5,10):\n",
    "  print(i)\n",
    "\n",
    "print(\"Case 3:\")\n",
    "for i in range(5,10,2):\n",
    "  print(i)"
   ]
  },
  {
   "attachments": {},
   "cell_type": "markdown",
   "metadata": {},
   "source": [
    "<b>2.4 For loop with if-else"
   ]
  },
  {
   "cell_type": "code",
   "execution_count": 1,
   "metadata": {},
   "outputs": [
    {
     "name": "stdout",
     "output_type": "stream",
     "text": [
      "Odd number :  1\n",
      "Even number :  2\n",
      "Odd number :  3\n",
      "Even number :  4\n",
      "Odd number :  5\n",
      "Even number :  6\n",
      "Odd number :  7\n",
      "Even number :  8\n",
      "Odd number :  9\n",
      "Even number :  10\n"
     ]
    }
   ],
   "source": [
    "for i in range(1,11):\n",
    "  if i%2==0:\n",
    "    print(\"Even number : \",i)\n",
    "  else:\n",
    "    print(\"Odd number : \",i)"
   ]
  },
  {
   "attachments": {},
   "cell_type": "markdown",
   "metadata": {},
   "source": [
    "<b>2.5 For loop with else"
   ]
  },
  {
   "cell_type": "code",
   "execution_count": 2,
   "metadata": {},
   "outputs": [
    {
     "name": "stdout",
     "output_type": "stream",
     "text": [
      "0\n",
      "1\n",
      "5\n",
      "No item left\n"
     ]
    }
   ],
   "source": [
    "digits = [0,1,5]\n",
    "for i in digits:\n",
    "  print(i)\n",
    "else:\n",
    "  print(\"No item left\")"
   ]
  },
  {
   "cell_type": "code",
   "execution_count": 3,
   "metadata": {},
   "outputs": [
    {
     "name": "stdout",
     "output_type": "stream",
     "text": [
      "0\n",
      "1\n",
      "2\n",
      "3\n",
      "4\n",
      "5\n",
      "6\n",
      "7\n",
      "8\n",
      "9\n",
      "10\n",
      "The loop stop at 10\n"
     ]
    }
   ],
   "source": [
    "for number in range(11):\n",
    "  print(number)\n",
    "else:\n",
    "  print(\"The loop stop at\",number)"
   ]
  },
  {
   "cell_type": "code",
   "execution_count": 4,
   "metadata": {},
   "outputs": [
    {
     "name": "stdout",
     "output_type": "stream",
     "text": [
      "1\n",
      "2\n",
      "3\n",
      "4\n",
      "5\n",
      "Done\n"
     ]
    }
   ],
   "source": [
    "for i in range(1,6):\n",
    "  print(i)\n",
    "else:\n",
    "  print(\"Done\")"
   ]
  },
  {
   "cell_type": "code",
   "execution_count": 5,
   "metadata": {},
   "outputs": [
    {
     "name": "stdout",
     "output_type": "stream",
     "text": [
      "No entry with that name found\n"
     ]
    }
   ],
   "source": [
    "student_name = 'Arthur'\n",
    "marks = {'Alan':99,'Bill':55,'Cory':77}\n",
    "\n",
    "for student in marks:\n",
    "  if student == student_name:\n",
    "    print(marks[student])\n",
    "    break\n",
    "else:\n",
    "  print('No entry with that name found')"
   ]
  },
  {
   "cell_type": "code",
   "execution_count": 6,
   "metadata": {},
   "outputs": [
    {
     "name": "stdout",
     "output_type": "stream",
     "text": [
      "1\n",
      "2\n"
     ]
    }
   ],
   "source": [
    "count = 0\n",
    "for i in range(1,6):\n",
    "  count+=1\n",
    "  if count>2:\n",
    "    break\n",
    "  else:\n",
    "    print(i)\n",
    "else:\n",
    "  print(\"Done\")"
   ]
  },
  {
   "attachments": {},
   "cell_type": "markdown",
   "metadata": {},
   "source": [
    "<b>2.6 Using Control Statement in for loops in python"
   ]
  },
  {
   "attachments": {},
   "cell_type": "markdown",
   "metadata": {},
   "source": [
    "<b><font size = 3>2.6.1 a) break in for loop"
   ]
  },
  {
   "cell_type": "code",
   "execution_count": 7,
   "metadata": {},
   "outputs": [
    {
     "name": "stdout",
     "output_type": "stream",
     "text": [
      "0\n",
      "1\n",
      "2\n",
      "3\n",
      "4\n",
      "5\n"
     ]
    }
   ],
   "source": [
    "numbers = (0,1,2,3,4,5)\n",
    "for numbers in numbers:\n",
    "  print(numbers)\n",
    "  if number == 3:\n",
    "    break"
   ]
  },
  {
   "cell_type": "code",
   "execution_count": 8,
   "metadata": {},
   "outputs": [
    {
     "name": "stdout",
     "output_type": "stream",
     "text": [
      "Pink\n"
     ]
    }
   ],
   "source": [
    "color = ['Green','Pink','Blue']\n",
    "for i in color:\n",
    "  if(i=='Pink'):\n",
    "    break\n",
    "print(i)"
   ]
  },
  {
   "cell_type": "code",
   "execution_count": 9,
   "metadata": {},
   "outputs": [
    {
     "name": "stdout",
     "output_type": "stream",
     "text": [
      "1\n",
      "4\n",
      "7\n",
      "8\n",
      "15\n"
     ]
    }
   ],
   "source": [
    "numbers = [1,4,7,8,15,20,35,45,55]\n",
    "for i in numbers:\n",
    "  if i>15:\n",
    "    break\n",
    "  else:\n",
    "    print(i)"
   ]
  },
  {
   "cell_type": "code",
   "execution_count": 10,
   "metadata": {},
   "outputs": [
    {
     "name": "stdout",
     "output_type": "stream",
     "text": [
      "1 0\n",
      "2 0\n",
      "2 1\n",
      "3 0\n",
      "3 1\n",
      "3 2\n",
      "4 0\n",
      "4 1\n",
      "4 2\n",
      "4 3\n"
     ]
    }
   ],
   "source": [
    "for i in range(5):\n",
    "  for j in range(5):\n",
    "    if j==i:\n",
    "      break\n",
    "    print(i,j)"
   ]
  },
  {
   "attachments": {},
   "cell_type": "markdown",
   "metadata": {},
   "source": [
    "<font size = 3><b>2.6.2 b) continue in for loop"
   ]
  },
  {
   "cell_type": "code",
   "execution_count": 11,
   "metadata": {},
   "outputs": [
    {
     "name": "stdout",
     "output_type": "stream",
     "text": [
      "Blue\n"
     ]
    }
   ],
   "source": [
    "color = ['Green','Pink','Blue']\n",
    "for i in color:\n",
    "  if(i=='Pink'):\n",
    "    continue\n",
    "print(i)"
   ]
  },
  {
   "cell_type": "code",
   "execution_count": 12,
   "metadata": {},
   "outputs": [
    {
     "name": "stdout",
     "output_type": "stream",
     "text": [
      "0\n",
      "Next number should be  1\n",
      "1\n",
      "Next number should be  2\n",
      "2\n",
      "Next number should be  3\n",
      "3\n",
      "4\n",
      "Next number should be  5\n",
      "5\n",
      "Loop's end\n",
      "outside the loop\n"
     ]
    }
   ],
   "source": [
    "numbers = (0,1,2,3,4,5)\n",
    "for number in numbers:\n",
    "  print(number)\n",
    "  if number == 3:\n",
    "    continue\n",
    "  if number != 5:\n",
    "    print(\"Next number should be \",number+1) \n",
    "  else:\n",
    "    print(\"Loop's end\")\n",
    "print('outside the loop')"
   ]
  },
  {
   "cell_type": "code",
   "execution_count": 13,
   "metadata": {},
   "outputs": [
    {
     "name": "stdout",
     "output_type": "stream",
     "text": [
      "3 * 6 = 18\n",
      "3 * 9 = 27\n",
      "6 * 3 = 18\n",
      "6 * 9 = 54\n",
      "9 * 3 = 27\n",
      "9 * 6 = 54\n"
     ]
    }
   ],
   "source": [
    "first = [3,6,9]\n",
    "second = [3,6,9]\n",
    "for i in first:\n",
    "  for j in second:\n",
    "    if i==j:\n",
    "      continue\n",
    "    print(i,'*',j,'=',i*j)"
   ]
  },
  {
   "cell_type": "code",
   "execution_count": 14,
   "metadata": {},
   "outputs": [
    {
     "name": "stdout",
     "output_type": "stream",
     "text": [
      "Total number of m is: 2\n"
     ]
    }
   ],
   "source": [
    "name = \"mariya mennen\"\n",
    "count = 0\n",
    "for char in name:\n",
    "  if char != 'm':\n",
    "    continue\n",
    "  else:\n",
    "    count += 1\n",
    "print('Total number of m is:',count)"
   ]
  },
  {
   "attachments": {},
   "cell_type": "markdown",
   "metadata": {},
   "source": [
    "<font size = 3><b>2.6.3 c) pass in for loop"
   ]
  },
  {
   "cell_type": "code",
   "execution_count": 15,
   "metadata": {},
   "outputs": [],
   "source": [
    "for number in range(6):\n",
    "  pass"
   ]
  },
  {
   "cell_type": "code",
   "execution_count": 16,
   "metadata": {},
   "outputs": [],
   "source": [
    "num = [1,4,5.3,7,8]\n",
    "for i in num:\n",
    "  pass"
   ]
  },
  {
   "attachments": {},
   "cell_type": "markdown",
   "metadata": {},
   "source": [
    "<b>2.7 Reverse for loop"
   ]
  },
  {
   "attachments": {},
   "cell_type": "markdown",
   "metadata": {},
   "source": [
    "<font size = 3><b>2.7.1 Backward Iteration using the reversed() function"
   ]
  },
  {
   "cell_type": "code",
   "execution_count": 17,
   "metadata": {},
   "outputs": [
    {
     "name": "stdout",
     "output_type": "stream",
     "text": [
      "40\n",
      "30\n",
      "20\n",
      "10\n"
     ]
    }
   ],
   "source": [
    "list1 = [10,20,30,40]\n",
    "for num in reversed(list1):\n",
    "  print(num)"
   ]
  },
  {
   "attachments": {},
   "cell_type": "markdown",
   "metadata": {},
   "source": [
    "<font size = 3><b>2.7.2 Reverse for loop using range()"
   ]
  },
  {
   "cell_type": "code",
   "execution_count": 18,
   "metadata": {},
   "outputs": [
    {
     "name": "stdout",
     "output_type": "stream",
     "text": [
      "Reverse numbers using for loop\n",
      "5\n",
      "4\n",
      "3\n",
      "2\n",
      "1\n",
      "0\n"
     ]
    }
   ],
   "source": [
    "print(\"Reverse numbers using for loop\")\n",
    "num = 5\n",
    "for num in (range(num,-1,-1)):\n",
    "  print(num)"
   ]
  },
  {
   "cell_type": "code",
   "execution_count": 19,
   "metadata": {},
   "outputs": [
    {
     "name": "stdout",
     "output_type": "stream",
     "text": [
      "reversed : \tc;b;a;\n",
      "enuemerated:\t0 = a;1 = b;2 = c;'\n",
      "zip'ed:\n",
      "a : x\n",
      "b : y\n",
      "c : z\n"
     ]
    }
   ],
   "source": [
    "print(\"reversed : \\t\",end=\"\")\n",
    "for ch in reversed(\"abc\"):\n",
    "  print(ch,end=\";\")\n",
    "  \n",
    "print(\"\\nenuemerated:\\t\",end=\"\")\n",
    "for i ,ch in enumerate(\"abc\"):\n",
    "  print(i,\"=\",ch,end=\";\")\n",
    "  \n",
    "print(\"'\\nzip'ed:\")\n",
    "for a,x in zip(\"abc\",\"xyz\"):\n",
    "  print(a,\":\",x)"
   ]
  },
  {
   "attachments": {},
   "cell_type": "markdown",
   "metadata": {},
   "source": [
    "<b>2.8 Nested for loops<br>\n",
    "<font size = 3>2.8.1 for loop inside for loop</font>"
   ]
  },
  {
   "cell_type": "code",
   "execution_count": 21,
   "metadata": {},
   "outputs": [
    {
     "name": "stdout",
     "output_type": "stream",
     "text": [
      "1 2 3 4 5 6 7 8 9 10 \n",
      "2 4 6 8 10 12 14 16 18 20 \n",
      "3 6 9 12 15 18 21 24 27 30 \n",
      "4 8 12 16 20 24 28 32 36 40 \n",
      "5 10 15 20 25 30 35 40 45 50 \n",
      "6 12 18 24 30 36 42 48 54 60 \n",
      "7 14 21 28 35 42 49 56 63 70 \n",
      "8 16 24 32 40 48 56 64 72 80 \n",
      "9 18 27 36 45 54 63 72 81 90 \n",
      "10 20 30 40 50 60 70 80 90 100 \n"
     ]
    }
   ],
   "source": [
    "# printing a multiplication table of the first ten numbers \n",
    "for i in range(1,11):\n",
    "  for j in range(1,11):\n",
    "    print(i*j,end=' ')\n",
    "  print()"
   ]
  },
  {
   "cell_type": "code",
   "execution_count": 22,
   "metadata": {},
   "outputs": [
    {
     "name": "stdout",
     "output_type": "stream",
     "text": [
      "Python\n",
      "Matlab\n",
      "R\n",
      "C\n",
      "C++\n"
     ]
    }
   ],
   "source": [
    "person = {'first_name':'Milan',\n",
    "          'last_name':'Parmar',\n",
    "          'age':96,\n",
    "          'country':'Finland',\n",
    "          'is_married':True,\n",
    "          'skills':['Python','Matlab','R','C','C++'],\n",
    "          'address':{'street':'space street','zipcode':'02210'\n",
    "          }\n",
    "        }\n",
    "for key in person:\n",
    "  if key=='skills':\n",
    "    for skill in person['skills']:\n",
    "      print(skill)"
   ]
  },
  {
   "cell_type": "code",
   "execution_count": 29,
   "metadata": {},
   "outputs": [
    {
     "name": "stdout",
     "output_type": "stream",
     "text": [
      "17\n",
      "19\n",
      "23\n",
      "29\n",
      "31\n",
      "37\n",
      "41\n",
      "43\n",
      "47\n",
      "53\n",
      "340\n"
     ]
    }
   ],
   "source": [
    "# Write a code to add all the prime numbers between 17 to 53 using while loop.\n",
    "sum = 0\n",
    "for i in range(17,54):\n",
    "  for j in range(2,i):\n",
    "    if i%j==0:\n",
    "      break\n",
    "  else:\n",
    "    sum+=i\n",
    "    print(i)\n",
    "print(sum)"
   ]
  },
  {
   "cell_type": "code",
   "execution_count": 30,
   "metadata": {},
   "outputs": [
    {
     "name": "stdout",
     "output_type": "stream",
     "text": [
      "Red floor\n",
      "Red watch\n",
      "Pink floor\n",
      "Pink watch\n"
     ]
    }
   ],
   "source": [
    "# Iterating through nested for loops\n",
    "color = ['Red','Pink']\n",
    "element = ['floor','watch']\n",
    "for i in color:\n",
    "  for j in element:\n",
    "    print(i,j)"
   ]
  },
  {
   "cell_type": "code",
   "execution_count": 32,
   "metadata": {},
   "outputs": [
    {
     "name": "stdout",
     "output_type": "stream",
     "text": [
      "45\n"
     ]
    }
   ],
   "source": [
    "# A use case of a nested for loop in 'list_of_lists' case would be\n",
    "list_of_lists = [[1,2,3],[4,5,6],[7,8,9]]\n",
    "total = 0\n",
    "for list1 in list_of_lists:\n",
    "  for i in list1:\n",
    "    total += i\n",
    "print(total)"
   ]
  },
  {
   "cell_type": "code",
   "execution_count": 36,
   "metadata": {},
   "outputs": [
    {
     "name": "stdout",
     "output_type": "stream",
     "text": [
      "Iteration 0: 1\n",
      "Iteration 1: 2\n",
      "Iteration 2: 3\n",
      "Iteration 3: 4\n",
      "Iteration 4: 5\n",
      "Iteration 5: 6\n"
     ]
    }
   ],
   "source": [
    "numbers = [[1,2,3],[4,5,6]]\n",
    "cnt = 0\n",
    "for i in numbers:\n",
    "  for j in i:\n",
    "    print('Iteration',cnt,end=': ')\n",
    "    print(j)\n",
    "    cnt += 1"
   ]
  },
  {
   "attachments": {},
   "cell_type": "markdown",
   "metadata": {},
   "source": [
    "<b>Example: Nested for loop to print pattern"
   ]
  },
  {
   "cell_type": "code",
   "execution_count": 42,
   "metadata": {},
   "outputs": [
    {
     "name": "stdout",
     "output_type": "stream",
     "text": [
      "* \n",
      "* * \n",
      "* * * \n",
      "* * * * \n",
      "* * * * * \n"
     ]
    }
   ],
   "source": [
    "rows = 5\n",
    "for i in range(1,rows+1):\n",
    "  for j in range(1,i+1):\n",
    "    print('*',end=' ')\n",
    "  print('')"
   ]
  },
  {
   "cell_type": "code",
   "execution_count": 43,
   "metadata": {},
   "outputs": [
    {
     "name": "stdout",
     "output_type": "stream",
     "text": [
      "* \n",
      "* * \n",
      "* * * \n",
      "* * * * \n",
      "* * * * * \n"
     ]
    }
   ],
   "source": [
    "# Print Floyd triangle with user input\n",
    "ran = input(\"How many rows ?\")\n",
    "rang = int(ran)\n",
    "k=1\n",
    "for i in range(1,rang+1):\n",
    "  for j in range(1,i+1):\n",
    "    print(\"*\",end=\" \")\n",
    "  print('')"
   ]
  },
  {
   "cell_type": "code",
   "execution_count": 44,
   "metadata": {},
   "outputs": [
    {
     "name": "stdout",
     "output_type": "stream",
     "text": [
      "1  \n",
      "2 2  \n",
      "3 3 3  \n",
      "4 4 4 4  \n",
      "5 5 5 5 5  \n"
     ]
    }
   ],
   "source": [
    "# 1st method\n",
    "for i in range(1,6):\n",
    "  for j in range(1,i+1):\n",
    "    print(i,end=\" \")\n",
    "  print(' ')"
   ]
  },
  {
   "cell_type": "code",
   "execution_count": 46,
   "metadata": {},
   "outputs": [
    {
     "name": "stdout",
     "output_type": "stream",
     "text": [
      " \n",
      "1  \n",
      "2 2  \n",
      "3 3 3  \n",
      "4 4 4 4  \n",
      "5 5 5 5 5  \n"
     ]
    }
   ],
   "source": [
    "# 2nd method\n",
    "rows = 6\n",
    "for num in range(rows):\n",
    "  for i in range(num):\n",
    "    print(num,end=' ')\n",
    "  print(' ')"
   ]
  },
  {
   "cell_type": "code",
   "execution_count": 47,
   "metadata": {},
   "outputs": [
    {
     "name": "stdout",
     "output_type": "stream",
     "text": [
      "1 \n",
      "2 2 \n",
      "3 3 3 \n",
      "4 4 4 4 \n",
      "5 5 5 5 5 \n"
     ]
    }
   ],
   "source": [
    "# 3rd method\n",
    "n = 5 # giving number of row i want\n",
    "x = 0\n",
    "for i in range(0,n):\n",
    "  x+=1\n",
    "  for j in range(0,i+1):\n",
    "    print(x,end=' ')\n",
    "  print('')"
   ]
  },
  {
   "cell_type": "code",
   "execution_count": 50,
   "metadata": {},
   "outputs": [
    {
     "name": "stdout",
     "output_type": "stream",
     "text": [
      "1  \n",
      "1 2  \n",
      "1 2 3  \n",
      "1 2 3 4  \n",
      "1 2 3 4 5  \n"
     ]
    }
   ],
   "source": [
    "# 4th method\n",
    "rows = 5\n",
    "for row in range(1,rows+1):\n",
    "  for column in range(1,row+1):\n",
    "    print(column,end=' ')\n",
    "  print(' ')"
   ]
  },
  {
   "cell_type": "code",
   "execution_count": 51,
   "metadata": {},
   "outputs": [
    {
     "name": "stdout",
     "output_type": "stream",
     "text": [
      "1 \n",
      "1 2 \n",
      "1 2 3 \n",
      "1 2 3 4 \n",
      "1 2 3 4 5 \n"
     ]
    }
   ],
   "source": [
    "# 5th method\n",
    "for i in range(1,6):\n",
    "  for j in range(i):\n",
    "    print(j+1,end=' ')\n",
    "  print()"
   ]
  },
  {
   "cell_type": "code",
   "execution_count": 53,
   "metadata": {},
   "outputs": [
    {
     "name": "stdout",
     "output_type": "stream",
     "text": [
      "1  \n",
      "2 1  \n",
      "3 2 1  \n",
      "4 3 2 1  \n",
      "5 4 3 2 1  \n"
     ]
    }
   ],
   "source": [
    "# 6th method\n",
    "for i in range(1,6):\n",
    "  for j in range(i,0,-1):\n",
    "    print(j,end=' ')\n",
    "  print(' ')"
   ]
  },
  {
   "cell_type": "code",
   "execution_count": 54,
   "metadata": {},
   "outputs": [
    {
     "name": "stdout",
     "output_type": "stream",
     "text": [
      "1 \n",
      "2 1 \n",
      "3 2 1 \n",
      "4 3 2 1 \n",
      "5 4 3 2 1 \n"
     ]
    }
   ],
   "source": [
    "for i in range(0,5):\n",
    "  for j in range(i+1,0,-1):\n",
    "    print(j,end=' ')\n",
    "  print()"
   ]
  },
  {
   "cell_type": "code",
   "execution_count": 55,
   "metadata": {},
   "outputs": [
    {
     "name": "stdout",
     "output_type": "stream",
     "text": [
      "* * * * * \n",
      "* * * * \n",
      "* * * \n",
      "* * \n",
      "* \n"
     ]
    }
   ],
   "source": [
    "for i in range(1,6):\n",
    "  for j in range(5,i-1,-1):\n",
    "    print('*',end=' ')\n",
    "  print('')"
   ]
  },
  {
   "cell_type": "code",
   "execution_count": 56,
   "metadata": {},
   "outputs": [
    {
     "name": "stdout",
     "output_type": "stream",
     "text": [
      "5 5 5 5 5  \n",
      "4 4 4 4  \n",
      "3 3 3  \n",
      "2 2  \n",
      "1  \n"
     ]
    }
   ],
   "source": [
    "# Example 7: 1st method\n",
    "rows = 5\n",
    "for i in range(rows,0,-1):\n",
    "  num = i\n",
    "  for j in range(0,i):\n",
    "    print(num,end=' ')\n",
    "  print(' ')"
   ]
  },
  {
   "cell_type": "code",
   "execution_count": 63,
   "metadata": {},
   "outputs": [
    {
     "name": "stdout",
     "output_type": "stream",
     "text": [
      "5 5 5 5 5  \n",
      "4 4 4 4  \n",
      "3 3 3  \n",
      "2 2  \n",
      "1  \n"
     ]
    }
   ],
   "source": [
    "# 2nd method\n",
    "for i in range(5,0,-1):\n",
    "  for j in range(0,i):\n",
    "    print(i,end=' ')\n",
    "  print(' ')"
   ]
  },
  {
   "cell_type": "code",
   "execution_count": 62,
   "metadata": {},
   "outputs": [
    {
     "name": "stdout",
     "output_type": "stream",
     "text": [
      "1 2 3 4 5 \n",
      "1 2 3 4 \n",
      "1 2 3 \n",
      "1 2 \n",
      "1 \n"
     ]
    }
   ],
   "source": [
    "# Example 8: 1st method\n",
    "for i in range(5,0,-1):\n",
    "  for j in range(1,i+1):\n",
    "    print(j,end=' ')\n",
    "  print()"
   ]
  },
  {
   "cell_type": "code",
   "execution_count": 64,
   "metadata": {},
   "outputs": [
    {
     "name": "stdout",
     "output_type": "stream",
     "text": [
      "1 2 3 4 5  \n",
      "1 2 3 4  \n",
      "1 2 3  \n",
      "1 2  \n",
      "1  \n"
     ]
    }
   ],
   "source": [
    "# 2nd method\n",
    "for i in range(1,6):\n",
    "  for j in range(6-i):\n",
    "    print(j+1,end=' ')\n",
    "  print(' ')"
   ]
  },
  {
   "attachments": {},
   "cell_type": "markdown",
   "metadata": {},
   "source": [
    "<b>2.8.2. while inside for loop"
   ]
  },
  {
   "cell_type": "code",
   "execution_count": 66,
   "metadata": {},
   "outputs": [
    {
     "name": "stdout",
     "output_type": "stream",
     "text": [
      "Multiplication table of: 1\n",
      "1 2 3 4 5 6 7 8 9 10 \n",
      "\n",
      "Multiplication table of: 2\n",
      "2 4 6 8 10 12 14 16 18 20 \n",
      "\n",
      "Multiplication table of: 3\n",
      "3 6 9 12 15 18 21 24 27 30 \n",
      "\n",
      "Multiplication table of: 4\n",
      "4 8 12 16 20 24 28 32 36 40 \n",
      "\n",
      "Multiplication table of: 5\n",
      "5 10 15 20 25 30 35 40 45 50 \n",
      "\n"
     ]
    }
   ],
   "source": [
    "for i in range(1,6):\n",
    "  print('Multiplication table of:',i)\n",
    "  count = 1\n",
    "  while count<11:\n",
    "    print(i*count,end=' ')\n",
    "    count = count+1\n",
    "  print('\\n')"
   ]
  },
  {
   "cell_type": "code",
   "execution_count": 71,
   "metadata": {},
   "outputs": [
    {
     "name": "stdout",
     "output_type": "stream",
     "text": [
      "Army Army Army Army Army \n",
      "Bella Bella Bella Bella Bella \n",
      "Cathy Cathy Cathy Cathy Cathy \n"
     ]
    }
   ],
   "source": [
    "names = ['Army','Bella','Cathy']\n",
    "for name in names:\n",
    "  count = 0\n",
    "  while count<5:\n",
    "    print(name,end=' ')\n",
    "    count += 1\n",
    "  print()"
   ]
  },
  {
   "attachments": {},
   "cell_type": "markdown",
   "metadata": {},
   "source": [
    "<b>2.9 Fir kiio ub ibe kine<br>\n",
    "<b>2.9 for loop in one line"
   ]
  },
  {
   "cell_type": "code",
   "execution_count": 73,
   "metadata": {},
   "outputs": [
    {
     "name": "stdout",
     "output_type": "stream",
     "text": [
      "[33, 63, 93, 36, 66, 96, 39, 69, 99]\n"
     ]
    }
   ],
   "source": [
    "# regular for loop code\n",
    "first = [3,6,9]\n",
    "second = [30,60,90]\n",
    "final = []\n",
    "\n",
    "for i in first:\n",
    "  for j in second:\n",
    "    final.append(i+j)\n",
    "print(final)"
   ]
  },
  {
   "cell_type": "code",
   "execution_count": 80,
   "metadata": {},
   "outputs": [
    {
     "name": "stdout",
     "output_type": "stream",
     "text": [
      "[2, 6, 8, 10]\n"
     ]
    }
   ],
   "source": [
    "# print the even number by adding 1 to odd numbers in the list\n",
    "odd = [1,5,7,9]\n",
    "even = [i+1 for i in odd if i%2 == 1]\n",
    "print(even)"
   ]
  },
  {
   "cell_type": "code",
   "execution_count": 81,
   "metadata": {},
   "outputs": [
    {
     "name": "stdout",
     "output_type": "stream",
     "text": [
      "[[30, 60], [30, 90], [60, 30], [60, 90], [90, 60], [90, 30]]\n"
     ]
    }
   ],
   "source": [
    "final = [[x,y] for x in [30,60,90] for y in [60,30,90] if x!= y]\n",
    "print(final)"
   ]
  },
  {
   "attachments": {},
   "cell_type": "markdown",
   "metadata": {},
   "source": [
    "<b>2.10 Accessing the index in for loop.<br>"
   ]
  },
  {
   "cell_type": "code",
   "execution_count": 1,
   "metadata": {},
   "outputs": [
    {
     "ename": "NameError",
     "evalue": "name 'numbers' is not defined",
     "output_type": "error",
     "traceback": [
      "\u001b[1;31m---------------------------------------------------------------------------\u001b[0m",
      "\u001b[1;31mNameError\u001b[0m                                 Traceback (most recent call last)",
      "Cell \u001b[1;32mIn[1], line 1\u001b[0m\n\u001b[1;32m----> 1\u001b[0m numbers [\u001b[39m4\u001b[39m,\u001b[39m2\u001b[39m,\u001b[39m5\u001b[39m,\u001b[39m7\u001b[39m,\u001b[39m8\u001b[39m]\n\u001b[0;32m      2\u001b[0m \u001b[39mfor\u001b[39;00m i,v \u001b[39min\u001b[39;00m \u001b[39menumerate\u001b[39m(numbers):\n\u001b[0;32m      3\u001b[0m   \u001b[39mprint\u001b[39m(\u001b[39m'\u001b[39m\u001b[39mNumber[\u001b[39m\u001b[39m'\u001b[39m,i,\u001b[39m'\u001b[39m\u001b[39m] = \u001b[39m\u001b[39m'\u001b[39m,v)\n",
      "\u001b[1;31mNameError\u001b[0m: name 'numbers' is not defined"
     ]
    }
   ],
   "source": [
    "numbers [4,2,5,7,8]\n",
    "for i,v in enumerate(numbers):\n",
    "  print('Number[',i,'] = ',v)"
   ]
  },
  {
   "cell_type": "code",
   "execution_count": null,
   "metadata": {},
   "outputs": [],
   "source": []
  }
 ],
 "metadata": {
  "kernelspec": {
   "display_name": "Python 3",
   "language": "python",
   "name": "python3"
  },
  "language_info": {
   "codemirror_mode": {
    "name": "ipython",
    "version": 3
   },
   "file_extension": ".py",
   "mimetype": "text/x-python",
   "name": "python",
   "nbconvert_exporter": "python",
   "pygments_lexer": "ipython3",
   "version": "3.9.7"
  },
  "orig_nbformat": 4
 },
 "nbformat": 4,
 "nbformat_minor": 2
}
