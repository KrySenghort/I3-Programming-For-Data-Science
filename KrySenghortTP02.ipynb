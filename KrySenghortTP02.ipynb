{
 "cells": [
  {
   "attachments": {},
   "cell_type": "markdown",
   "metadata": {},
   "source": [
    "<p style= \"text-align:center\">007_Python_Variables_&_Constants</p>"
   ]
  },
  {
   "attachments": {},
   "cell_type": "markdown",
   "metadata": {},
   "source": [
    "##### <font color = blue><b>1 Python Variables and Constants</b>"
   ]
  },
  {
   "attachments": {},
   "cell_type": "markdown",
   "metadata": {},
   "source": [
    "In this class, you will learn about Python variables, constants, literals and their use cases."
   ]
  },
  {
   "attachments": {},
   "cell_type": "markdown",
   "metadata": {},
   "source": [
    "##### <font color = blue><b>2 1. Python Variables</b></font>\n",
    "A variable is a named location used to <font color = yellow><b>store data in the memory</b></font>. Variable also known as\n",
    "<b><font color = yellow>identifier</b></font> and used to hold value. It is helpful to think of variables as a container that holds data\n",
    "that can be changed later in the program. <b><font color = yellow>Mnemonic</font></b> variables are recommended to use in many\n",
    "programming languages. A mnemonic variable is a variable name that can be easily remembered\n",
    "and associated. A variable refers to a memory address in which data is stored. For example,"
   ]
  },
  {
   "cell_type": "code",
   "execution_count": 2,
   "metadata": {},
   "outputs": [],
   "source": [
    "number = 90"
   ]
  },
  {
   "attachments": {},
   "cell_type": "markdown",
   "metadata": {},
   "source": [
    "Here, we have created a variable named number. We have assigned the value 10 to the variable.<br>\n",
    "You can think of variables as a bag to store books in it and that book can be replaced at any time."
   ]
  },
  {
   "cell_type": "code",
   "execution_count": 5,
   "metadata": {},
   "outputs": [],
   "source": [
    "number = 90\n",
    "number = 9.1"
   ]
  },
  {
   "attachments": {},
   "cell_type": "markdown",
   "metadata": {},
   "source": [
    "Initially, the value of number was 90. Later, it was changed to 9.1.<br>\n",
    "+ <b><font color = purple>Note</font></b>: In Python, we don’t actually assign values to the variables. Instead, Python gives the reference of the object(value) to the variable.<br>"
   ]
  },
  {
   "attachments": {},
   "cell_type": "markdown",
   "metadata": {},
   "source": [
    "In Python, we don’t need to specify the type of variable because Python is a type infer language and smart enough to get variable type."
   ]
  },
  {
   "attachments": {},
   "cell_type": "markdown",
   "metadata": {},
   "source": [
    "Python Variable Name Rules\n",
    "+ A variable name must start with a letter A-z or the underscore _ character\n",
    "+ A variable name cannot start with a number 0-9\n",
    "+ A variable name can only contain alpha-numeric characters and underscores (A-z, 0-9, and _)\n",
    "+ Variable names are case-sensitive (firstname, Firstname, FirstName and FIRSTNAME) are\n",
    "different variables). It is recomended to use lowercase letters for variable name.\n"
   ]
  },
  {
   "attachments": {},
   "cell_type": "markdown",
   "metadata": {},
   "source": [
    "<b>Let us see valid variable names"
   ]
  },
  {
   "attachments": {},
   "cell_type": "markdown",
   "metadata": {},
   "source": [
    "<font size = 2>firstname<br>\n",
    "lastname<br>\n",
    "1<br>\n",
    "age<br>\n",
    "country<br>\n",
    "city<br>\n",
    "first_name<br>\n",
    "last_name<br>\n",
    "capital_city<br>\n",
    "_if <font color = blue># if we want to use reserved word as a variable<br></font></p>\n",
    "year_2021<br>\n",
    "year2021<br>\n",
    "current_year_2021<br>\n",
    "birth_year<br>\n",
    "num1<br>\n",
    "num2<br>\n",
    "Invalid variables names:<br>\n",
    "first-name<br>\n",
    "first@name<br>\n",
    "first$name<br>\n",
    "num-1<br>\n",
    "<font color = red>1num"
   ]
  },
  {
   "attachments": {},
   "cell_type": "markdown",
   "metadata": {},
   "source": [
    "We will use standard Python variable naming style which has been adopted by many Python\n",
    "developers. Python developers use snake case(snake_case) variable naming convention. We use\n",
    "underscore character after each word for a variable containing more than one word (eg. <b>first_name,\n",
    "last_name, engine_rotation_speed</b>). The example below is an example of standard naming of\n",
    "variables, underscore is required when the variable name is more than one word."
   ]
  },
  {
   "attachments": {},
   "cell_type": "markdown",
   "metadata": {},
   "source": [
    "When we assign a certain data type to a variable, it is called variable declaration. For instance\n",
    "in the example below my first name is assigned to a variable <b>first_name</b>. The equal sign is an\n",
    "assignment operator. Assigning means storing data in the variable. The equal sign in Python is\n",
    "not equality as in Mathematics."
   ]
  },
  {
   "attachments": {},
   "cell_type": "markdown",
   "metadata": {},
   "source": [
    "##### <b>2.0.1 Assigning values to Variables in Python</b>\n",
    "Think of a variable as a name attached to a particular object. In Python, variables need not be\n",
    "declared or defined in advance, as is the case in many other programming languages.<br><br>As you can see from the above example, you can use the assignment operator = to assign a value\n",
    "to a variable."
   ]
  },
  {
   "attachments": {},
   "cell_type": "markdown",
   "metadata": {},
   "source": [
    "##### <b>Example 1: Declaring and assigning value to a variable"
   ]
  },
  {
   "cell_type": "code",
   "execution_count": 7,
   "metadata": {},
   "outputs": [
    {
     "data": {
      "text/plain": [
       "9.1"
      ]
     },
     "execution_count": 7,
     "metadata": {},
     "output_type": "execute_result"
    }
   ],
   "source": [
    "number = 90\n",
    "number = 9.1\n",
    "number"
   ]
  },
  {
   "cell_type": "code",
   "execution_count": 9,
   "metadata": {},
   "outputs": [],
   "source": [
    "website = \"github.com\" # `website` is my variable and `github.com` is an␣ ↪argument"
   ]
  },
  {
   "cell_type": "code",
   "execution_count": 10,
   "metadata": {},
   "outputs": [
    {
     "name": "stdout",
     "output_type": "stream",
     "text": [
      "github.com\n"
     ]
    }
   ],
   "source": [
    "print(website)"
   ]
  },
  {
   "attachments": {},
   "cell_type": "markdown",
   "metadata": {},
   "source": [
    "In the above program, we assigned a value <b>github.com</b> to the variable website. Then, we printed\n",
    "out the value assigned to <b>website i.e. github.com.</b><br>\n",
    "+ <b>Note</b>: Python is a type-inferred language, so you don’t have to explicitly define the\n",
    "variable type. It automatically knows that <b>github.com</b> is a string and declares the <b>website</b> variable as a string."
   ]
  },
  {
   "cell_type": "code",
   "execution_count": 11,
   "metadata": {},
   "outputs": [
    {
     "name": "stdout",
     "output_type": "stream",
     "text": [
      "Hello , World !\n"
     ]
    }
   ],
   "source": [
    "print('Hello',',', 'World','!') # it can take multiple arguments, 4 arguments␣ ↪have been passed"
   ]
  },
  {
   "cell_type": "code",
   "execution_count": 12,
   "metadata": {},
   "outputs": [],
   "source": [
    "first_name = 'Milaan'\n",
    "last_name = 'Parmar'\n",
    "country = 'Finland'\n",
    "city = 'Tampere'\n",
    "age = 96\n",
    "is_married = True\n",
    "skills = ['Python', 'Matlab', 'JS', 'C', 'C++']\n",
    "person_info = {\n",
    "'firstname':'Milaan',\n",
    "'lastname':'Parmar',\n",
    "'country':'Finland',\n",
    "'city':'Tampere'\n",
    "}"
   ]
  },
  {
   "attachments": {},
   "cell_type": "markdown",
   "metadata": {},
   "source": [
    "Let us print and also find the length of the variables declared at the top:"
   ]
  },
  {
   "cell_type": "code",
   "execution_count": 13,
   "metadata": {},
   "outputs": [
    {
     "name": "stdout",
     "output_type": "stream",
     "text": [
      "First name: Milaan\n",
      "First name length: 6\n",
      "Last name:  Parmar\n",
      "Last name length:  6\n",
      "Country:  Finland\n",
      "City:  Tampere\n",
      "Age:  96\n",
      "Married:  True\n",
      "Skills:  ['Python', 'Matlab', 'JS', 'C', 'C++']\n",
      "Person information:  {'firstname': 'Milaan', 'lastname': 'Parmar', 'country': 'Finland', 'city': 'Tampere'}\n"
     ]
    }
   ],
   "source": [
    "# Printing the values stored in the variables\n",
    "print('First name:', first_name)\n",
    "print('First name length:', len(first_name))\n",
    "print('Last name: ', last_name)\n",
    "print('Last name length: ', len(last_name))\n",
    "print('Country: ', country)\n",
    "print('City: ', city)\n",
    "print('Age: ', age)\n",
    "print('Married: ', is_married)\n",
    "print('Skills: ', skills)\n",
    "print('Person information: ', person_info)"
   ]
  },
  {
   "attachments": {},
   "cell_type": "markdown",
   "metadata": {},
   "source": [
    "<b>Example 2: Declaring multiple variables in one line** using comma , and semicolon ;</b>"
   ]
  },
  {
   "cell_type": "code",
   "execution_count": 14,
   "metadata": {},
   "outputs": [
    {
     "name": "stdout",
     "output_type": "stream",
     "text": [
      "6\n",
      "9.3\n",
      "Hello\n"
     ]
    }
   ],
   "source": [
    "a, b, c = 6, 9.3, \"Hello\"\n",
    "\n",
    "print (a)\n",
    "print (b)\n",
    "print (c)"
   ]
  },
  {
   "cell_type": "code",
   "execution_count": 15,
   "metadata": {},
   "outputs": [
    {
     "name": "stdout",
     "output_type": "stream",
     "text": [
      "1 2 3\n"
     ]
    },
    {
     "data": {
      "text/plain": [
       "(1, 2, 3)"
      ]
     },
     "execution_count": 15,
     "metadata": {},
     "output_type": "execute_result"
    }
   ],
   "source": [
    "a = 1; b = 2; c = 3\n",
    "print(a,b,c) # outout: 1 2 3\n",
    "a,b,c # outout: 1 2 3"
   ]
  },
  {
   "cell_type": "code",
   "execution_count": 17,
   "metadata": {},
   "outputs": [
    {
     "name": "stdout",
     "output_type": "stream",
     "text": [
      "Milaan Parmar Finland 96 True\n",
      "First name: Milaan\n",
      "Last name:  Parmar\n",
      "Country:  Finland\n",
      "Age:  96\n",
      "Married:  True\n"
     ]
    }
   ],
   "source": [
    "first_name, last_name, country, age, is_married = 'Milaan', 'Parmar','Finland', 96, True\n",
    "print(first_name, last_name, country, age, is_married)\n",
    "print('First name:', first_name)\n",
    "print('Last name: ', last_name)\n",
    "print('Country: ', country)\n",
    "print('Age: ', age) # Don't worry it is not my real age ^_^\n",
    "print('Married: ', is_married)"
   ]
  },
  {
   "cell_type": "code",
   "execution_count": 18,
   "metadata": {},
   "outputs": [],
   "source": [
    "x = y = z = \"same\""
   ]
  },
  {
   "cell_type": "code",
   "execution_count": 19,
   "metadata": {},
   "outputs": [
    {
     "name": "stdout",
     "output_type": "stream",
     "text": [
      "same\n",
      "same\n",
      "same\n"
     ]
    }
   ],
   "source": [
    "print (x)\n",
    "print (y)\n",
    "print (z)"
   ]
  },
  {
   "attachments": {},
   "cell_type": "markdown",
   "metadata": {},
   "source": [
    "The second program assigns the <b>same</b> string to all the three variables x, y and z."
   ]
  },
  {
   "cell_type": "code",
   "execution_count": 20,
   "metadata": {},
   "outputs": [
    {
     "name": "stdout",
     "output_type": "stream",
     "text": [
      "300 300 300\n"
     ]
    }
   ],
   "source": [
    "p = q = r = 300 # Assigning value together\n",
    "print(p, q, r) # Printing value together"
   ]
  },
  {
   "attachments": {},
   "cell_type": "markdown",
   "metadata": {},
   "source": [
    "<b>Example 3: Changing the value of a variable</b>"
   ]
  },
  {
   "cell_type": "code",
   "execution_count": 1,
   "metadata": {},
   "outputs": [
    {
     "name": "stdout",
     "output_type": "stream",
     "text": [
      "github.com\n",
      "baidu.com\n"
     ]
    }
   ],
   "source": [
    "website = \"github.com\"\n",
    "print(website)\n",
    "# assigning a new variable to website\n",
    "website = \"baidu.com\"\n",
    "print(website)"
   ]
  },
  {
   "attachments": {},
   "cell_type": "markdown",
   "metadata": {},
   "source": [
    "In the above program, we have assigned <b>github.com</b> to the website variable initially. Then, the\n",
    "value is changed to <b>baidu.com.</b>"
   ]
  },
  {
   "cell_type": "code",
   "execution_count": 22,
   "metadata": {},
   "outputs": [
    {
     "name": "stdout",
     "output_type": "stream",
     "text": [
      "300\n"
     ]
    }
   ],
   "source": [
    "n=300\n",
    "print(n)"
   ]
  },
  {
   "cell_type": "code",
   "execution_count": 23,
   "metadata": {},
   "outputs": [
    {
     "name": "stdout",
     "output_type": "stream",
     "text": [
      "300\n",
      "1000\n"
     ]
    }
   ],
   "source": [
    "m=n\n",
    "print(n)\n",
    "m = 1000 # assigning a new value to n\n",
    "print(m)"
   ]
  },
  {
   "cell_type": "code",
   "execution_count": 24,
   "metadata": {},
   "outputs": [
    {
     "name": "stdout",
     "output_type": "stream",
     "text": [
      "10\n"
     ]
    }
   ],
   "source": [
    "# Declare & Redeclare variables\n",
    "m = \"Python is Fun\"\n",
    "m = 10\n",
    "print (m)"
   ]
  },
  {
   "attachments": {},
   "cell_type": "markdown",
   "metadata": {},
   "source": [
    "##### <b>3 2. Constants</b>\n",
    "A constant is a type of variable whose value cannot be changed. It is helpful to think of constants\n",
    "as containers that hold information which cannot be changed later.<br>\n",
    "You can think of constants as a bag to store some books which cannot be replaced once placed\n",
    "inside the bag."
   ]
  },
  {
   "attachments": {},
   "cell_type": "markdown",
   "metadata": {},
   "source": [
    "<b>3.0.1 Assigning value to constant in Python</b><br>\n",
    "In Python, constants are usually declared and assigned in a module. Here, the module is a new file\n",
    "containing variables, functions, etc which is imported to the main file. Inside the module, constants\n",
    "are written in all capital letters and underscores separating the words."
   ]
  },
  {
   "attachments": {},
   "cell_type": "markdown",
   "metadata": {},
   "source": [
    "<b>Example 1: Declaring and assigning value to a constant Create a constant.py:</b>"
   ]
  },
  {
   "cell_type": "code",
   "execution_count": 5,
   "metadata": {},
   "outputs": [
    {
     "name": "stdout",
     "output_type": "stream",
     "text": [
      "3.14\n",
      "9.8\n"
     ]
    }
   ],
   "source": [
    "import constant\n",
    "PI = 3.14\n",
    "GRAVITY = 9.8\n",
    "print(constant.PI)\n",
    "print(constant.GRAVITY)"
   ]
  },
  {
   "attachments": {},
   "cell_type": "markdown",
   "metadata": {},
   "source": [
    "In the above program, we create a <b>constant.py</b> module file. Then, we assign the constant value to\n",
    "PI and <b>GRAVITY</b>. After that, we create a <b>main.py</b> file and import the constant module. Finally,\n",
    "we print the constant value.<br>\n",
    "+ . Note: In reality, we don’t use constants in Python. Naming them in all capital letters\n",
    "is a convention to separate them from variables, however, it does not actually prevent\n",
    "reassignment."
   ]
  },
  {
   "attachments": {},
   "cell_type": "markdown",
   "metadata": {},
   "source": [
    "##### <font color = blue><b>3.1 Rules and Naming Convention for Variables and constants"
   ]
  },
  {
   "attachments": {},
   "cell_type": "markdown",
   "metadata": {},
   "source": [
    "3.1 Rules and Naming Convention for Variables and constants\n",
    "The examples you have seen so far have used short, terse variable names like m and n. But variable\n",
    "names can be more verbose. In fact, it is usually beneficial if they are because it makes the purpose\n",
    "of the variable more evident at first glance.\n",
    "1. Constant and variable names should have a combination of letters in lowercase (a to z) or\n",
    "uppercase (A to Z) or digits (0 to 9) or an underscore _. For example:"
   ]
  },
  {
   "attachments": {},
   "cell_type": "markdown",
   "metadata": {},
   "source": [
    "<font size = 2>snake_case<br>\n",
    "MACRO_CASE<br>\n",
    "camelCase<br>\n",
    "CapWords<br>"
   ]
  },
  {
   "attachments": {},
   "cell_type": "markdown",
   "metadata": {},
   "source": [
    "2. Create a name that makes sense. For example, vowel makes more sense than v.\n",
    "3. If you want to create a variable name having two words, use underscore to separate them.\n",
    "For example:"
   ]
  },
  {
   "attachments": {},
   "cell_type": "markdown",
   "metadata": {},
   "source": [
    "<font size = 2>my_name<br>\n",
    "current_salary</font><br>"
   ]
  },
  {
   "attachments": {},
   "cell_type": "markdown",
   "metadata": {},
   "source": [
    "4. Use capital letters possible to declare a constant. For example:"
   ]
  },
  {
   "attachments": {},
   "cell_type": "markdown",
   "metadata": {},
   "source": [
    "PI<br>\n",
    "G<br>\n",
    "MASS<br>\n",
    "SPEED_OF_LIGHT<br>\n",
    "TEMP<br>"
   ]
  },
  {
   "attachments": {},
   "cell_type": "markdown",
   "metadata": {},
   "source": [
    "5. Never use special symbols like !, **@**, #, $ % , etc.\n",
    "6. Don’t start a variable name with a digit.<br>\n",
    "Note: One of the additions to Python 3 was full Unicode support, which allows for\n",
    "Unicode characters in a variable name as well. You will learn about Unicode in greater\n",
    "depth in a future tutorial.<br><br>\n",
    "For example, all of the following are valid variable names:"
   ]
  },
  {
   "cell_type": "code",
   "execution_count": 29,
   "metadata": {},
   "outputs": [
    {
     "name": "stdout",
     "output_type": "stream",
     "text": [
      "Bob 54 True\n"
     ]
    }
   ],
   "source": [
    "name = \"Bob\"\n",
    "Age = 54\n",
    "has_W2 = True\n",
    "print(name, Age, has_W2)"
   ]
  },
  {
   "attachments": {},
   "cell_type": "markdown",
   "metadata": {},
   "source": [
    "But this one is not, <b>because a variable name can’t begin with a digit:</b>"
   ]
  },
  {
   "cell_type": "code",
   "execution_count": 31,
   "metadata": {},
   "outputs": [
    {
     "ename": "SyntaxError",
     "evalue": "invalid decimal literal (3900762753.py, line 1)",
     "output_type": "error",
     "traceback": [
      "\u001b[1;36m  Cell \u001b[1;32mIn[31], line 1\u001b[1;36m\u001b[0m\n\u001b[1;33m    1099_filed = False # cannot start name of a variable with a number.\u001b[0m\n\u001b[1;37m        ^\u001b[0m\n\u001b[1;31mSyntaxError\u001b[0m\u001b[1;31m:\u001b[0m invalid decimal literal\n"
     ]
    }
   ],
   "source": [
    "1099_filed = False # cannot start name of a variable with a number."
   ]
  },
  {
   "cell_type": "markdown",
   "metadata": {},
   "source": [
    "Note that case is significant. Lowercase and uppercase letters are not the same. Use of the\n",
    "underscore character is significant as well. Each of the following defines a different variable"
   ]
  },
  {
   "cell_type": "code",
   "execution_count": 37,
   "metadata": {},
   "outputs": [
    {
     "name": "stdout",
     "output_type": "stream",
     "text": [
      "1 2 3 4 5 6 7 8\n"
     ]
    }
   ],
   "source": [
    "age = 1\n",
    "Age = 2\n",
    "aGe = 3\n",
    "AGE = 4\n",
    "a_g_e = 5\n",
    "_age = 6\n",
    "age_ = 7\n",
    "AGe = 8\n",
    "print(age,Age,aGe,AGE,a_g_e,_age,age_,AGe)"
   ]
  },
  {
   "attachments": {},
   "cell_type": "markdown",
   "metadata": {},
   "source": [
    "There is nothing stopping you from creating two different variables in the same program called\n",
    "age and Age, or for that matter agE. But it is probably ill-advised. It would certainly be likely\n",
    "to confuse anyone trying to read your code, and even you yourself, after you’d been away from it\n",
    "awhile."
   ]
  },
  {
   "cell_type": "code",
   "execution_count": 38,
   "metadata": {},
   "outputs": [
    {
     "name": "stdout",
     "output_type": "stream",
     "text": [
      "1 2 3 4 5 1 1 8\n"
     ]
    }
   ],
   "source": [
    "age = 1\n",
    "Age = 2\n",
    "aGe = 3\n",
    "AGE = 4\n",
    "a_g_e = 5\n",
    "_age = 6\n",
    "age_ = 7\n",
    "AGe = 8\n",
    "print(age, Age, aGe, AGE, a_g_e, age, age, AGe)"
   ]
  },
  {
   "attachments": {},
   "cell_type": "markdown",
   "metadata": {},
   "source": [
    "<b>3.2 Exercises Variables<br>\n",
    "3.2.1 Exercises Level 1</b>\n",
    "1. Write a python comment saying Python variables and Constants\n",
    "2. Declare a first_name variable and assign a value to it\n",
    "3. Declare a last_name variable and assign a value to it\n",
    "4. Declare a full_name variable and assign a value to it\n",
    "5. Declare a variable is_light_on and assign a value to it\n",
    "6. Declare multiple variable on one line"
   ]
  },
  {
   "cell_type": "code",
   "execution_count": 7,
   "metadata": {},
   "outputs": [
    {
     "name": "stdout",
     "output_type": "stream",
     "text": [
      "A variable is a memory address that can change, and when the memory address cannot change then that variable is known as a constant\n",
      "Variable is the name of the memory location where data is stored. Once a variable is stored, the space is allocated in memory\n"
     ]
    }
   ],
   "source": [
    "# Exercise 1: Write a python comment saying Python variables and Constants\n",
    "print(\"A variable is a memory address that can change, and when the memory address cannot change then that variable is known as a constant\")\n",
    "print(\"Variable is the name of the memory location where data is stored. Once a variable is stored, the space is allocated in memory\")"
   ]
  },
  {
   "cell_type": "code",
   "execution_count": 8,
   "metadata": {},
   "outputs": [
    {
     "name": "stdout",
     "output_type": "stream",
     "text": [
      "Senghort\n"
     ]
    }
   ],
   "source": [
    "# Exercise 2: Declare a first_name variable and assign a value to it\n",
    "first_name = input(\"Enter first name : \")\n",
    "print(first_name)"
   ]
  },
  {
   "cell_type": "code",
   "execution_count": 9,
   "metadata": {},
   "outputs": [
    {
     "name": "stdout",
     "output_type": "stream",
     "text": [
      "Kry\n"
     ]
    }
   ],
   "source": [
    "# Exercise 3: Declare a last_name variable and assign a value to it\n",
    "last_name = input(\"Enter your lastname : \")\n",
    "print(last_name)"
   ]
  },
  {
   "cell_type": "code",
   "execution_count": 11,
   "metadata": {},
   "outputs": [
    {
     "name": "stdout",
     "output_type": "stream",
     "text": [
      "Kry Senghort\n"
     ]
    }
   ],
   "source": [
    "# 4. Declare a full_name variable and assign a value to it\n",
    "full_name = last_name +\" \"+ first_name\n",
    "print(full_name)"
   ]
  },
  {
   "cell_type": "code",
   "execution_count": 13,
   "metadata": {},
   "outputs": [
    {
     "name": "stdout",
     "output_type": "stream",
     "text": [
      "True\n"
     ]
    }
   ],
   "source": [
    "# 5. Declare a variable is_light_on and assign a value to it\n",
    "is_light_on = True\n",
    "print(is_light_on)"
   ]
  },
  {
   "cell_type": "code",
   "execution_count": 14,
   "metadata": {},
   "outputs": [
    {
     "name": "stdout",
     "output_type": "stream",
     "text": [
      "Senghort 123 23000 34\n"
     ]
    }
   ],
   "source": [
    "# 6. Declare multiple variable on one line\n",
    "name, ID, salary, age = 'Senghort',123,23000,34\n",
    "print(name,ID,salary,age)"
   ]
  },
  {
   "attachments": {},
   "cell_type": "markdown",
   "metadata": {},
   "source": [
    "<b>3.2.2 Exercises Level 2</b>\n",
    "1. Check the data type of all your variables using type() built-in function\n",
    "2. Using the len() built-in function, find the length of your first name\n",
    "3. Compare the length of your first_name and your last_name\n",
    "4. Declare 6 as num_1 and 4 as num_2<br>\n",
    "  a. Add num_1 and num_2 and assign the value to a variable total<br>\n",
    "  b. Subtract num_2 from num_1 and assign the value to a variable difference<br>\n",
    "  c. Multiply num_2 and num_1 and assign the value to a variable product<br>\n",
    "  d. Divide num_1 by num_2 and assign the value to a variable division<br>\n",
    "  e. Use modulus division to find num_2 divided by num_1 and assign the value to a variable remainder<br>\n",
    "  f. Calculate num_1 to the power of num_2 and assign the value to a variable exp<br>\n",
    "  g. Find floor division of num_1 by num_2 and assign the value to a variable floor_division<br>\n",
    "5. The radius of a circle is 30 meters.<br>\n",
    "  a. Calculate the area of a circle and assign the value to a variable name of area_of_circle by taking user input()<br>\n",
    "  b. Calculate the circumference of a circle and assign the value to a variable name of circum_of_circle by taking user input()<br>\n",
    "  c. Take radius as user input() and calculate the area.\n",
    "6. Use the built-in input() function to get first name, last name, country and age from a user\n",
    "and store the value to their corresponding variable names\n",
    "7. Run help (keywords) in Python shell or in your file to check for the Python reserved words\n",
    "or keywords"
   ]
  },
  {
   "cell_type": "code",
   "execution_count": 20,
   "metadata": {},
   "outputs": [],
   "source": [
    "#  1. Check the data type of all your variables using type() built-in function\n",
    "sex = 'M' # character\n",
    "name = 'Senghort' # String\n",
    "salary = 2200 # integer\n",
    "age = [22,21,34,56] # list\n",
    "balance = 23.67 # float\n",
    "score = (23,45,67,34) # tupple\n",
    "mark = {34,56,54,56} # set\n",
    "info = {'name':'senghort','id':123,'salary':2000}"
   ]
  },
  {
   "cell_type": "code",
   "execution_count": 21,
   "metadata": {},
   "outputs": [
    {
     "data": {
      "text/plain": [
       "str"
      ]
     },
     "execution_count": 21,
     "metadata": {},
     "output_type": "execute_result"
    }
   ],
   "source": [
    "type(sex)"
   ]
  },
  {
   "cell_type": "code",
   "execution_count": 22,
   "metadata": {},
   "outputs": [
    {
     "data": {
      "text/plain": [
       "str"
      ]
     },
     "execution_count": 22,
     "metadata": {},
     "output_type": "execute_result"
    }
   ],
   "source": [
    "type(name)"
   ]
  },
  {
   "cell_type": "code",
   "execution_count": 23,
   "metadata": {},
   "outputs": [
    {
     "data": {
      "text/plain": [
       "list"
      ]
     },
     "execution_count": 23,
     "metadata": {},
     "output_type": "execute_result"
    }
   ],
   "source": [
    "type(age)"
   ]
  },
  {
   "cell_type": "code",
   "execution_count": 24,
   "metadata": {},
   "outputs": [
    {
     "data": {
      "text/plain": [
       "tuple"
      ]
     },
     "execution_count": 24,
     "metadata": {},
     "output_type": "execute_result"
    }
   ],
   "source": [
    "type(score)"
   ]
  },
  {
   "cell_type": "code",
   "execution_count": 25,
   "metadata": {},
   "outputs": [
    {
     "data": {
      "text/plain": [
       "set"
      ]
     },
     "execution_count": 25,
     "metadata": {},
     "output_type": "execute_result"
    }
   ],
   "source": [
    "type(mark)"
   ]
  },
  {
   "cell_type": "code",
   "execution_count": 26,
   "metadata": {},
   "outputs": [
    {
     "data": {
      "text/plain": [
       "int"
      ]
     },
     "execution_count": 26,
     "metadata": {},
     "output_type": "execute_result"
    }
   ],
   "source": [
    "type(salary)"
   ]
  },
  {
   "cell_type": "code",
   "execution_count": 27,
   "metadata": {},
   "outputs": [
    {
     "data": {
      "text/plain": [
       "float"
      ]
     },
     "execution_count": 27,
     "metadata": {},
     "output_type": "execute_result"
    }
   ],
   "source": [
    "type(balance)"
   ]
  },
  {
   "cell_type": "code",
   "execution_count": 28,
   "metadata": {},
   "outputs": [
    {
     "data": {
      "text/plain": [
       "dict"
      ]
     },
     "execution_count": 28,
     "metadata": {},
     "output_type": "execute_result"
    }
   ],
   "source": [
    "type(info)"
   ]
  },
  {
   "cell_type": "code",
   "execution_count": 30,
   "metadata": {},
   "outputs": [
    {
     "data": {
      "text/plain": [
       "8"
      ]
     },
     "execution_count": 30,
     "metadata": {},
     "output_type": "execute_result"
    }
   ],
   "source": [
    "# 2. Using the len() built-in function, find the length of your first name.\n",
    "first_name = 'senghort'\n",
    "len(first_name) "
   ]
  },
  {
   "cell_type": "code",
   "execution_count": 31,
   "metadata": {},
   "outputs": [
    {
     "name": "stdout",
     "output_type": "stream",
     "text": [
      "first_name has more length than last_name\n"
     ]
    }
   ],
   "source": [
    "# 3. Compare the length of your first_name and your last_name\n",
    "last_name = 'kry'\n",
    "if(len(first_name)>len(last_name)):\n",
    "  print('first_name has more length than last_name')\n",
    "elif(len(first_name)==last_name):\n",
    "  print('first_name has length equal to last_name')\n",
    "else:\n",
    "  print('first_name has lenth less than last_name')"
   ]
  },
  {
   "attachments": {},
   "cell_type": "markdown",
   "metadata": {},
   "source": [
    "4. Declare 6 as num_1 and 4 as num_2\n",
    "    + Add num_1 and num_2 and assign the value to a variable total\n",
    "    + Subtract num_2 from num_1 and assign the value to a variable difference\n",
    "    + Multiply num_2 and num_1 and assign the value to a variable product\n",
    "    + Divide num_1 by num_2 and assign the value to a variable division\n",
    "    + Use modulus division to find num_2 divided by num_1 and assign the value to a variable remainder\n",
    "    + Calculate num_1 to the power of num_2 and assign the value to a variable exp\n",
    "    + Find floor division of num_1 by num_2 and assign the value to a variable floor_division"
   ]
  },
  {
   "cell_type": "code",
   "execution_count": 38,
   "metadata": {},
   "outputs": [],
   "source": [
    "num1 = 6\n",
    "num2 = 4"
   ]
  },
  {
   "cell_type": "code",
   "execution_count": 39,
   "metadata": {},
   "outputs": [
    {
     "data": {
      "text/plain": [
       "10"
      ]
     },
     "execution_count": 39,
     "metadata": {},
     "output_type": "execute_result"
    }
   ],
   "source": [
    "total = num1+num2\n",
    "total"
   ]
  },
  {
   "cell_type": "code",
   "execution_count": 40,
   "metadata": {},
   "outputs": [
    {
     "data": {
      "text/plain": [
       "2"
      ]
     },
     "execution_count": 40,
     "metadata": {},
     "output_type": "execute_result"
    }
   ],
   "source": [
    "difference = num1-num2\n",
    "difference"
   ]
  },
  {
   "cell_type": "code",
   "execution_count": 41,
   "metadata": {},
   "outputs": [
    {
     "data": {
      "text/plain": [
       "24"
      ]
     },
     "execution_count": 41,
     "metadata": {},
     "output_type": "execute_result"
    }
   ],
   "source": [
    "product = num2*num1\n",
    "product"
   ]
  },
  {
   "cell_type": "code",
   "execution_count": 42,
   "metadata": {},
   "outputs": [
    {
     "data": {
      "text/plain": [
       "1.5"
      ]
     },
     "execution_count": 42,
     "metadata": {},
     "output_type": "execute_result"
    }
   ],
   "source": [
    "division = num1/num2\n",
    "division"
   ]
  },
  {
   "cell_type": "code",
   "execution_count": 43,
   "metadata": {},
   "outputs": [
    {
     "data": {
      "text/plain": [
       "2"
      ]
     },
     "execution_count": 43,
     "metadata": {},
     "output_type": "execute_result"
    }
   ],
   "source": [
    "remainder = num1%num2\n",
    "remainder"
   ]
  },
  {
   "cell_type": "code",
   "execution_count": 45,
   "metadata": {},
   "outputs": [
    {
     "data": {
      "text/plain": [
       "1296"
      ]
     },
     "execution_count": 45,
     "metadata": {},
     "output_type": "execute_result"
    }
   ],
   "source": [
    "exp = pow(num1,num2)\n",
    "exp"
   ]
  },
  {
   "cell_type": "code",
   "execution_count": 46,
   "metadata": {},
   "outputs": [
    {
     "data": {
      "text/plain": [
       "1"
      ]
     },
     "execution_count": 46,
     "metadata": {},
     "output_type": "execute_result"
    }
   ],
   "source": [
    "floor_division = num1//num2\n",
    "floor_division"
   ]
  },
  {
   "attachments": {},
   "cell_type": "markdown",
   "metadata": {},
   "source": [
    "5. The radius of a circle is 30 meter<br>\n",
    "  + Calculate the area of a circle and assign the value to a variable name of area_of_circle by taking user input()\n",
    "  + Calculate the circumference of a circle and assign the value to a variable name of circum_of_circle by taking user input()\n",
    "  + Take radius as user input() and calculate the area"
   ]
  },
  {
   "cell_type": "code",
   "execution_count": 53,
   "metadata": {},
   "outputs": [
    {
     "data": {
      "text/plain": [
       "2827.4333882308138"
      ]
     },
     "execution_count": 53,
     "metadata": {},
     "output_type": "execute_result"
    }
   ],
   "source": [
    "import math\n",
    "radius = 30\n",
    "area_of_circle:float = math.pi*pow(radius,2)\n",
    "area_of_circle"
   ]
  },
  {
   "cell_type": "code",
   "execution_count": 54,
   "metadata": {},
   "outputs": [
    {
     "data": {
      "text/plain": [
       "188.49555921538757"
      ]
     },
     "execution_count": 54,
     "metadata": {},
     "output_type": "execute_result"
    }
   ],
   "source": [
    "circumference = 2*math.pi*radius\n",
    "circumference"
   ]
  },
  {
   "cell_type": "code",
   "execution_count": 57,
   "metadata": {},
   "outputs": [
    {
     "data": {
      "text/plain": [
       "2827.4333882308138"
      ]
     },
     "execution_count": 57,
     "metadata": {},
     "output_type": "execute_result"
    }
   ],
   "source": [
    "radius2 : float = input('Enter raduis : ')\n",
    "area_of_circle"
   ]
  },
  {
   "cell_type": "code",
   "execution_count": 58,
   "metadata": {},
   "outputs": [
    {
     "data": {
      "text/plain": [
       "188.49555921538757"
      ]
     },
     "execution_count": 58,
     "metadata": {},
     "output_type": "execute_result"
    }
   ],
   "source": [
    "circumference"
   ]
  },
  {
   "cell_type": "code",
   "execution_count": 60,
   "metadata": {},
   "outputs": [],
   "source": [
    "# 6. Use the built-in input() function to get first name, last name, country and age from a user and store the value to their corresponding variable names\n",
    "first_name = input('Enter first name : ')\n",
    "last_name = input('Enter last name : ')\n",
    "country = input('Enter country : ')\n",
    "age : int = input('Enter age : ')"
   ]
  },
  {
   "cell_type": "code",
   "execution_count": 61,
   "metadata": {},
   "outputs": [
    {
     "name": "stdout",
     "output_type": "stream",
     "text": [
      "senghort\n",
      "kry\n",
      "Cambodia\n",
      "23\n"
     ]
    }
   ],
   "source": [
    "print(first_name)\n",
    "print(last_name)\n",
    "print(country)\n",
    "print(age)"
   ]
  },
  {
   "cell_type": "code",
   "execution_count": 62,
   "metadata": {},
   "outputs": [],
   "source": [
    "# 7. Run help (keywords) in Python shell or in your file to check for the Python reserved words or keywords"
   ]
  },
  {
   "attachments": {},
   "cell_type": "markdown",
   "metadata": {},
   "source": [
    "How do you check reserved words in Python?\n",
    "The Python language reserves a small set of keywords that designate special language functionality. No object can have the same name as a reserved word. You can see this list any time by typing help(\"keywords\") to the Python interpreter. Reserved words are case-sensitive and must be used exactly as shown"
   ]
  },
  {
   "attachments": {
    "keyword.png": {
     "image/png": "[encoded data removed]"
    }
   },
   "cell_type": "markdown",
   "metadata": {},
   "source": [
    "![keyword.png](attachment:keyword.png)"
   ]
  },
  {
   "attachments": {},
   "cell_type": "markdown",
   "metadata": {},
   "source": [
    "<font size = 7><b><font color = blue><p style = \"text-align:center\">The End</p></font>"
   ]
  }
 ],
 "metadata": {
  "kernelspec": {
   "display_name": "Python 3",
   "language": "python",
   "name": "python3"
  },
  "language_info": {
   "codemirror_mode": {
    "name": "ipython",
    "version": 3
   },
   "file_extension": ".py",
   "mimetype": "text/x-python",
   "name": "python",
   "nbconvert_exporter": "python",
   "pygments_lexer": "ipython3",
   "version": "3.9.7"
  },
  "orig_nbformat": 4
 },
 "nbformat": 4,
 "nbformat_minor": 2
}
