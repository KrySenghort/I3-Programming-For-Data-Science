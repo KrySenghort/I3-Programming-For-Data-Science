{
 "cells": [
  {
   "attachments": {},
   "cell_type": "markdown",
   "metadata": {},
   "source": [
    "<b><font size = 5><p style = \"text-align:center\"><font color = blue>009_Python_Data_Types</font></p></font></b>\n",
    "<font size = 4><p style = \"text-align:center\">March 2,2023</p></font>"
   ]
  },
  {
   "attachments": {},
   "cell_type": "markdown",
   "metadata": {},
   "source": [
    "<font color = red><font size = 5><b>1. Python Data Types</b></font></font><br>\n",
    "In this class, you will learn about different data types you can use in Python."
   ]
  },
  {
   "attachments": {},
   "cell_type": "markdown",
   "metadata": {},
   "source": [
    "<font color = yellow><font size = 4><b>1.1 Data types in Python</b></font></font><br>\n",
    "Every value in Python has a datatype. Since everything is an object in Python programming, data types are actually classes and variables are instance(object) of these classes. There are various data types in Python. Some of the important types are listed below."
   ]
  },
  {
   "attachments": {},
   "cell_type": "markdown",
   "metadata": {},
   "source": [
    "<font color = yellow><font size = 4><b>1.2 Python Numbers</b></font><br>"
   ]
  },
  {
   "attachments": {},
   "cell_type": "markdown",
   "metadata": {},
   "source": [
    "Integer floating point numbers and complex numbers fall under <b><font color = blue>Python Number category</font></b>. They are defined as <font color = purple><b>int, float and complex class in Python.</b></font><br>\n",
    "We can use the type() function to know which class a variable or a value belong to.<br>\n",
    "Similarly, the isinstance() function is used to check if an object belongs to a particular class."
   ]
  },
  {
   "cell_type": "code",
   "execution_count": 1,
   "metadata": {},
   "outputs": [
    {
     "name": "stdout",
     "output_type": "stream",
     "text": [
      "6 is of type <class 'int'>\n",
      "6 is integer number? True\n",
      "3.0 is of type <class 'float'>\n",
      "3.0 is float number? True\n",
      "(1+2j) is of type <class 'complex'>\n",
      "(1+2j) is complex number? True\n"
     ]
    }
   ],
   "source": [
    "a = 6\n",
    "print(a,\"is of type\",type(a))\n",
    "print(a,\"is integer number?\",isinstance(5,int))\n",
    "\n",
    "a = 3.0\n",
    "print(a,\"is of type\",type(a))\n",
    "print(a,\"is float number?\",isinstance(2.0,float))\n",
    "\n",
    "a = 1+2j # complex number\n",
    "print(a,\"is of type\",type(a))\n",
    "print(a,\"is complex number?\",isinstance(1+2j,complex))"
   ]
  },
  {
   "attachments": {},
   "cell_type": "markdown",
   "metadata": {},
   "source": [
    "Integers can be of any length, it is only limited by the memory available"
   ]
  },
  {
   "attachments": {},
   "cell_type": "markdown",
   "metadata": {},
   "source": [
    "A floating-point number is accurate up to 15 decimal places. Integer and floating-points are separated by decimal points. 1 is integer, 1.0 is a floating point.<br>Complex numbers are written in the form x+yj, where x is real part and y is the imaginary part."
   ]
  },
  {
   "cell_type": "code",
   "execution_count": 2,
   "metadata": {},
   "outputs": [
    {
     "name": "stdout",
     "output_type": "stream",
     "text": [
      "1234567890123456789\n",
      "0.123456789\n",
      "(1+2j)\n"
     ]
    }
   ],
   "source": [
    "a = 1234567890123456789\n",
    "print(a)\n",
    "\n",
    "b = 0.123456789 # total of only 17 numbers after decimal can be \n",
    "print(b)\n",
    "\n",
    "c = 1+2j\n",
    "print(c)"
   ]
  },
  {
   "attachments": {},
   "cell_type": "markdown",
   "metadata": {},
   "source": [
    "Notice that : the float variable b got truncated."
   ]
  },
  {
   "attachments": {},
   "cell_type": "markdown",
   "metadata": {},
   "source": [
    "<font color = yellow><font size = 4><b>1.3.2 Python List</b></font></font><br>"
   ]
  },
  {
   "attachments": {},
   "cell_type": "markdown",
   "metadata": {},
   "source": [
    "List in an ordered sequence of thems. It is one the most used datatype in Python and is very flexible. All the items in a list do not need to be of the same type.<br>Declaring a list is pretty straight forward. Items separated by commas are enclosed whithin brackets[  ].<br>\n",
    "<font size = 3>>>> a = [1,33,'Python']</font><br> \n",
    "We can use the slicing operator [  ] to extract an item or a range of item from a list. The index starts from 0 in Python."
   ]
  },
  {
   "cell_type": "code",
   "execution_count": 3,
   "metadata": {},
   "outputs": [
    {
     "name": "stdout",
     "output_type": "stream",
     "text": [
      "[6, 99, 77, 'Apple'] is of type <class 'list'>\n"
     ]
    }
   ],
   "source": [
    "x = [6,99,77,'Apple']\n",
    "print(x,\"is of type\",type(x))"
   ]
  },
  {
   "cell_type": "code",
   "execution_count": 4,
   "metadata": {},
   "outputs": [
    {
     "name": "stdout",
     "output_type": "stream",
     "text": [
      "a[2]   =  15\n",
      "a[0:3] =  [5, 10, 15]\n",
      "a[5:]  =  [30, 35, 40]\n"
     ]
    }
   ],
   "source": [
    "a = [5,10,15,20,25,30,35,40] # total element is 8\n",
    "#   [0, 1, 2, 3, 4, 5, 6, 7] index forward\n",
    "#   [-8,-7,-6,-5,-4,-3,-2,-1] index backward\n",
    "print(\"a[2]   = \",a[2]) # show the element at index 2\n",
    "print(\"a[0:3] = \",a[0:3]) # show the element from index 0 to 2\n",
    "print(\"a[5:]  = \",a[5:]) # show element from index 5 until last index"
   ]
  },
  {
   "cell_type": "code",
   "execution_count": 5,
   "metadata": {},
   "outputs": [
    {
     "data": {
      "text/plain": [
       "[10, 15, 20, 25, 30]"
      ]
     },
     "execution_count": 5,
     "metadata": {},
     "output_type": "execute_result"
    }
   ],
   "source": [
    "a[1:-2]"
   ]
  },
  {
   "cell_type": "code",
   "execution_count": 6,
   "metadata": {},
   "outputs": [
    {
     "data": {
      "text/plain": [
       "[30, 35, 40]"
      ]
     },
     "execution_count": 6,
     "metadata": {},
     "output_type": "execute_result"
    }
   ],
   "source": [
    "a[5:9]"
   ]
  },
  {
   "cell_type": "code",
   "execution_count": 7,
   "metadata": {},
   "outputs": [
    {
     "data": {
      "text/plain": [
       "[5, 10, 15, 20, 25]"
      ]
     },
     "execution_count": 7,
     "metadata": {},
     "output_type": "execute_result"
    }
   ],
   "source": [
    "a[:5]"
   ]
  },
  {
   "attachments": {},
   "cell_type": "markdown",
   "metadata": {},
   "source": [
    "Lists are mutable, meaning, the variable of elements of a list can be altered."
   ]
  },
  {
   "cell_type": "code",
   "execution_count": 8,
   "metadata": {},
   "outputs": [
    {
     "name": "stdout",
     "output_type": "stream",
     "text": [
      "[1, 2, 4]\n"
     ]
    }
   ],
   "source": [
    "# Change the element of the list\n",
    "a = [1,2,3]\n",
    "a[2] = 4\n",
    "print(a)"
   ]
  },
  {
   "attachments": {},
   "cell_type": "markdown",
   "metadata": {},
   "source": [
    "<font color = yellow><b>1.4.3. Python Tupple()</b><br><br></font>\n",
    "<b><font color = blue>Tuple</font></b> is an ordered sequence of items same as a list. The only difference is that tupple are immutable. Tuple once created cannot be modified.<br>Tuples are used to <b>write-protect data</b> and are usaully faster than lists as they cannot change dynamically"
   ]
  },
  {
   "attachments": {},
   "cell_type": "markdown",
   "metadata": {},
   "source": [
    "It is defined within parentheses () where items are separated by commas.<br>\n",
    "#<font size = 4> >>>t = (6,'program',1+3j)</font><br>\n",
    "We can use the slicing operator [  ] to extract items but we cannot change its value."
   ]
  },
  {
   "cell_type": "code",
   "execution_count": 9,
   "metadata": {},
   "outputs": [
    {
     "name": "stdout",
     "output_type": "stream",
     "text": [
      "program\n",
      "(6, 'program', (1+3j))\n"
     ]
    },
    {
     "ename": "TypeError",
     "evalue": "'tuple' object does not support item assignment",
     "output_type": "error",
     "traceback": [
      "\u001b[1;31m---------------------------------------------------------------------------\u001b[0m",
      "\u001b[1;31mTypeError\u001b[0m                                 Traceback (most recent call last)",
      "Cell \u001b[1;32mIn[9], line 4\u001b[0m\n\u001b[0;32m      2\u001b[0m \u001b[39mprint\u001b[39m(t[\u001b[39m1\u001b[39m])\n\u001b[0;32m      3\u001b[0m \u001b[39mprint\u001b[39m(t[\u001b[39m0\u001b[39m:\u001b[39m3\u001b[39m])\n\u001b[1;32m----> 4\u001b[0m t[\u001b[39m0\u001b[39;49m] \u001b[39m=\u001b[39m \u001b[39m10\u001b[39m\n\u001b[0;32m      5\u001b[0m prnt(t)\n",
      "\u001b[1;31mTypeError\u001b[0m: 'tuple' object does not support item assignment"
     ]
    }
   ],
   "source": [
    "t = (6,'program',1+3j)\n",
    "print(t[1])\n",
    "print(t[0:3])\n",
    "t[0] = 10\n",
    "prnt(t)"
   ]
  },
  {
   "attachments": {},
   "cell_type": "markdown",
   "metadata": {},
   "source": [
    "<font color = yellow><b>1.5.4. Python String</b><br><br></font>\n",
    "String is sequence of unicode characters. We can use single quotes or double quotes to represent string. Multi-line string can be denoted using triple quotes, ' ' ' or \" \" \"."
   ]
  },
  {
   "cell_type": "code",
   "execution_count": null,
   "metadata": {},
   "outputs": [
    {
     "name": "stdout",
     "output_type": "stream",
     "text": [
      "Apple\n",
      "Apple\n",
      "Apple\n",
      "Apple\n"
     ]
    },
    {
     "ename": "NameError",
     "evalue": "name 'Apple' is not defined",
     "output_type": "error",
     "traceback": [
      "\u001b[1;31m---------------------------------------------------------------------------\u001b[0m",
      "\u001b[1;31mNameError\u001b[0m                                 Traceback (most recent call last)",
      "Cell \u001b[1;32mIn[1], line 13\u001b[0m\n\u001b[0;32m     10\u001b[0m s \u001b[39m=\u001b[39m \u001b[39m\"\u001b[39m\u001b[39mApple\u001b[39m\u001b[39m\"\u001b[39m\n\u001b[0;32m     11\u001b[0m \u001b[39mprint\u001b[39m(s)\n\u001b[1;32m---> 13\u001b[0m s \u001b[39m=\u001b[39m Apple\n\u001b[0;32m     14\u001b[0m \u001b[39mprint\u001b[39m(s)\n",
      "\u001b[1;31mNameError\u001b[0m: name 'Apple' is not defined"
     ]
    }
   ],
   "source": [
    "s = 'Apple'\n",
    "print(s)\n",
    "\n",
    "s = \"\"\"Apple\"\"\"\n",
    "print(s)\n",
    "\n",
    "s = 'Apple'\n",
    "print(s)\n",
    "\n",
    "s = \"Apple\"\n",
    "print(s)\n",
    "\n",
    "s = Apple\n",
    "print(s)"
   ]
  },
  {
   "cell_type": "code",
   "execution_count": null,
   "metadata": {},
   "outputs": [
    {
     "name": "stdout",
     "output_type": "stream",
     "text": [
      "This is a string\n",
      "A multi-line \n",
      "string\n"
     ]
    }
   ],
   "source": [
    "s = \"This is a string\" \n",
    "print(s)\n",
    "\n",
    "s = '''A multi-line \n",
    "string'''\n",
    "print(s)"
   ]
  },
  {
   "attachments": {},
   "cell_type": "markdown",
   "metadata": {},
   "source": [
    "Just like a list and tuple, the slicing operator [  ] can be used with strings. Strings, however are immutable"
   ]
  },
  {
   "cell_type": "code",
   "execution_count": null,
   "metadata": {},
   "outputs": [
    {
     "name": "stdout",
     "output_type": "stream",
     "text": [
      "s[4] =  o\n",
      "s[6:11] =  world\n"
     ]
    }
   ],
   "source": [
    "s = 'Hello world!'\n",
    "print('s[4] = ',s[4])\n",
    "print('s[6:11] = ',s[6:11])"
   ]
  },
  {
   "cell_type": "code",
   "execution_count": null,
   "metadata": {},
   "outputs": [
    {
     "ename": "TypeError",
     "evalue": "'str' object does not support item assignment",
     "output_type": "error",
     "traceback": [
      "\u001b[1;31m---------------------------------------------------------------------------\u001b[0m",
      "\u001b[1;31mTypeError\u001b[0m                                 Traceback (most recent call last)",
      "Cell \u001b[1;32mIn[25], line 2\u001b[0m\n\u001b[0;32m      1\u001b[0m a \u001b[39m=\u001b[39m \u001b[39m\"\u001b[39m\u001b[39mapple\u001b[39m\u001b[39m\"\u001b[39m\n\u001b[1;32m----> 2\u001b[0m a[\u001b[39m0\u001b[39;49m] \u001b[39m=\u001b[39m \u001b[39m'\u001b[39m\u001b[39mo\u001b[39m\u001b[39m'\u001b[39m \u001b[39m# we cannot change any character in string. It similarly to tuple.\u001b[39;00m\n\u001b[0;32m      3\u001b[0m a\n",
      "\u001b[1;31mTypeError\u001b[0m: 'str' object does not support item assignment"
     ]
    }
   ],
   "source": [
    "a = \"apple\"\n",
    "a[0] = 'o' # we cannot change any character in string. It similarly to tuple.\n",
    "a"
   ]
  },
  {
   "attachments": {},
   "cell_type": "markdown",
   "metadata": {},
   "source": [
    "<font color = yellow><b>1.5.4. Python Set</b><br><br></font>\n",
    "<font color = blue><b>Set</b></font> is an unordered collection of unique items. Set is indefined by values separately by comma inside braces { }. Items in a set are not ordered"
   ]
  },
  {
   "cell_type": "code",
   "execution_count": null,
   "metadata": {},
   "outputs": [
    {
     "name": "stdout",
     "output_type": "stream",
     "text": [
      "{1, 3, 6, 7, 9}\n",
      "<class 'set'>\n"
     ]
    }
   ],
   "source": [
    "a = {7,1,3,6,9} \n",
    "print(a) # it will display with number shortting from smallest to largest\n",
    "print(type(a))"
   ]
  },
  {
   "attachments": {},
   "cell_type": "markdown",
   "metadata": {},
   "source": [
    "We can perform set operations like union, intersection on two sets. Sets have unique values. They eliminate duplicates."
   ]
  },
  {
   "cell_type": "code",
   "execution_count": null,
   "metadata": {},
   "outputs": [
    {
     "name": "stdout",
     "output_type": "stream",
     "text": [
      "{1, 2, 3}\n"
     ]
    }
   ],
   "source": [
    "a = {1,2,2,3,3,3}\n",
    "print(a)"
   ]
  },
  {
   "attachments": {},
   "cell_type": "markdown",
   "metadata": {},
   "source": [
    "Since, set are unordered collection, indexing has no meaning. Hence, the slicing operator [  ] does not work."
   ]
  },
  {
   "cell_type": "code",
   "execution_count": null,
   "metadata": {},
   "outputs": [
    {
     "ename": "TypeError",
     "evalue": "'set' object is not subscriptable",
     "output_type": "error",
     "traceback": [
      "\u001b[1;31m---------------------------------------------------------------------------\u001b[0m",
      "\u001b[1;31mTypeError\u001b[0m                                 Traceback (most recent call last)",
      "Cell \u001b[1;32mIn[31], line 2\u001b[0m\n\u001b[0;32m      1\u001b[0m a \u001b[39m=\u001b[39m {\u001b[39m1\u001b[39m,\u001b[39m2\u001b[39m,\u001b[39m3\u001b[39m} \u001b[39m# in the set, we cannot access to any element with specific index because it is unordered collection.\u001b[39;00m\n\u001b[1;32m----> 2\u001b[0m a[\u001b[39m1\u001b[39;49m]\n",
      "\u001b[1;31mTypeError\u001b[0m: 'set' object is not subscriptable"
     ]
    }
   ],
   "source": [
    "a = {1,2,3} # in the set, we cannot access to any element with specific index because it is unordered collection.\n",
    "a[1]"
   ]
  },
  {
   "attachments": {},
   "cell_type": "markdown",
   "metadata": {},
   "source": [
    "<font color = yellow><b>1.7.6. Python Dictionary</b><br><br></font>\n",
    "<font color = blue><b>Dictionary</b></font> is an unordered collection of key-value pairs.<br>\n",
    "It is generally used when we have a huge amount of data. Dictionaries are optimized for retrieving data. We must know the key to retrieve the value.<br>In Python, dictionaries are defined within braces {  } with each item being a pair in the form key:value. Key and value can be of any type."
   ]
  },
  {
   "cell_type": "code",
   "execution_count": null,
   "metadata": {},
   "outputs": [
    {
     "name": "stdout",
     "output_type": "stream",
     "text": [
      "{1: 'Apple', 2: 'Cat', 3: 'Food'} <class 'dict'>\n"
     ]
    },
    {
     "data": {
      "text/plain": [
       "'Food'"
      ]
     },
     "execution_count": 32,
     "metadata": {},
     "output_type": "execute_result"
    }
   ],
   "source": [
    "d = {1:'Apple',2:'Cat',3:'Food'}\n",
    "print(d,type(d))\n",
    "d[3]"
   ]
  },
  {
   "cell_type": "code",
   "execution_count": null,
   "metadata": {},
   "outputs": [
    {
     "data": {
      "text/plain": [
       "'Apple'"
      ]
     },
     "execution_count": 33,
     "metadata": {},
     "output_type": "execute_result"
    }
   ],
   "source": [
    "d[1]"
   ]
  },
  {
   "cell_type": "code",
   "execution_count": null,
   "metadata": {},
   "outputs": [
    {
     "data": {
      "text/plain": [
       "'Cat'"
      ]
     },
     "execution_count": 34,
     "metadata": {},
     "output_type": "execute_result"
    }
   ],
   "source": [
    "d[2]"
   ]
  },
  {
   "cell_type": "code",
   "execution_count": null,
   "metadata": {},
   "outputs": [
    {
     "data": {
      "text/plain": [
       "dict"
      ]
     },
     "execution_count": 36,
     "metadata": {},
     "output_type": "execute_result"
    }
   ],
   "source": [
    "d = {1:'Value','Key':2} # d is variable and 'key' & 'value' are element with 1 & 2 are key. \n",
    "type(d)"
   ]
  },
  {
   "attachments": {},
   "cell_type": "markdown",
   "metadata": {},
   "source": [
    "We use key to retrieve the respective value. But not the other way around."
   ]
  },
  {
   "cell_type": "code",
   "execution_count": null,
   "metadata": {},
   "outputs": [
    {
     "name": "stdout",
     "output_type": "stream",
     "text": [
      "<class 'dict'>\n",
      "d[1]   =  Value\n",
      "d[key] =  2\n"
     ]
    }
   ],
   "source": [
    "d = {1:'Value','Key':2}\n",
    "print(type(d))\n",
    "print(\"d[1]   = \",d[1])\n",
    "print(\"d[key] = \",d['Key'])"
   ]
  },
  {
   "cell_type": "code",
   "execution_count": null,
   "metadata": {},
   "outputs": [
    {
     "name": "stdout",
     "output_type": "stream",
     "text": [
      "<class 'zip'>\n"
     ]
    }
   ],
   "source": [
    "print(type(zip([1,2],[3,4])))"
   ]
  },
  {
   "attachments": {},
   "cell_type": "markdown",
   "metadata": {},
   "source": [
    "<b><font size = 5><p style = \"text-align:center\"><font color = blue>012_Python_Operators</font></p></font></b>\n",
    "<font size = 4><p style = \"text-align:center\">March 2,2023</p></font>"
   ]
  },
  {
   "attachments": {},
   "cell_type": "markdown",
   "metadata": {},
   "source": [
    "<font color = red><font size = 5><b>1. Python Operators</b></font></font><br>"
   ]
  },
  {
   "attachments": {},
   "cell_type": "markdown",
   "metadata": {},
   "source": [
    "Python can be used like a calculator. Simply type in expressions to get them evaluated.<br><b>What are operators in Python?</b><br>Operators are special symbols in python that carry out arithmetic or logical computation. The value that operator operates on is called the operand.<br>For example<br>\n",
    "<font size = 4> >>>6+3<br>\n",
    "9<br>\n",
    "Here, + is the operator that performs addition. 2 and 3 are the operands and 5 is the output of the operation."
   ]
  },
  {
   "cell_type": "code",
   "execution_count": null,
   "metadata": {},
   "outputs": [
    {
     "data": {
      "text/plain": [
       "9"
      ]
     },
     "execution_count": 41,
     "metadata": {},
     "output_type": "execute_result"
    }
   ],
   "source": [
    "6+3"
   ]
  },
  {
   "attachments": {},
   "cell_type": "markdown",
   "metadata": {},
   "source": [
    "<font color = yellow><b>1.1.1 Arithmetic Operators</b></font><br><br>\n",
    "Arithmetic Operators are used to perform mathematical operations like addition, substraction, multiplication.etc.."
   ]
  },
  {
   "attachments": {},
   "cell_type": "markdown",
   "metadata": {},
   "source": [
    "| Symbol | Task Performed |      Meaning        |  Example   |\n",
    "| ------ | -------------- |      -------        |  -------   |\n",
    "|   +    | Addition       |      add two        |  x+y or +2 | \n",
    "|   -    | Substraction   |   Substract right   |  x-y or -2 |\n",
    "|   *    | Multiply       |   Multiply two      |  x*y       |\n",
    "|   /    | Division       |    Divide left      |  x/y       |\n",
    "|   %    | Modulus(remain)|remainder of division|  x%y       |\n",
    "|   //   | Floor Division |Exponentiation(power)|  x**y      |"
   ]
  },
  {
   "attachments": {},
   "cell_type": "markdown",
   "metadata": {},
   "source": [
    "As expected these operations generally promote to the most general type of any of the numbers involved i.e.int->float->complex"
   ]
  },
  {
   "attachments": {},
   "cell_type": "markdown",
   "metadata": {},
   "source": [
    "<b>Example : Arithmetic Operators in Python</b>"
   ]
  },
  {
   "cell_type": "code",
   "execution_count": 10,
   "metadata": {},
   "outputs": [
    {
     "name": "stdout",
     "output_type": "stream",
     "text": [
      "Additon :  3\n",
      "Substraction :  1\n",
      "Multiplication :  6\n",
      "Division :  2.0\n",
      "Division :  3.0\n",
      "Division :  3.5\n",
      "Division without remainder:  3\n",
      "Modulus :  1\n",
      "Division without remainder:  2\n",
      "Multiplication :  9\n"
     ]
    }
   ],
   "source": [
    "print('Additon : ',1+2)\n",
    "print('Substraction : ',2-1)\n",
    "print('Multiplication : ',2*3)\n",
    "print('Division : ',4/2)\n",
    "print('Division : ',6/2)\n",
    "print('Division : ',7/2)\n",
    "print('Division without remainder: ',7//2) # division without remainder\n",
    "print('Modulus : ',3%2)\n",
    "print('Division without remainder: ',7//3)\n",
    "print('Multiplication : ',3**2)"
   ]
  },
  {
   "cell_type": "code",
   "execution_count": 11,
   "metadata": {},
   "outputs": [
    {
     "name": "stdout",
     "output_type": "stream",
     "text": [
      "x + y =  19\n",
      "x - y =  13\n",
      "x * y =  48\n",
      "x / y =  5.333333333333333\n",
      "x // y =  5\n"
     ]
    }
   ],
   "source": [
    "x = 16\n",
    "y = 3\n",
    "print(\"x + y = \",x+y)\n",
    "print(\"x - y = \",x-y)\n",
    "print(\"x * y = \",x*y)\n",
    "print(\"x / y = \",x/y)\n",
    "print(\"x // y = \",x//y)"
   ]
  },
  {
   "cell_type": "code",
   "execution_count": 12,
   "metadata": {},
   "outputs": [
    {
     "data": {
      "text/plain": [
       "6"
      ]
     },
     "execution_count": 12,
     "metadata": {},
     "output_type": "execute_result"
    }
   ],
   "source": [
    "1+2+3"
   ]
  },
  {
   "cell_type": "code",
   "execution_count": 13,
   "metadata": {},
   "outputs": [
    {
     "data": {
      "text/plain": [
       "6"
      ]
     },
     "execution_count": 13,
     "metadata": {},
     "output_type": "execute_result"
    }
   ],
   "source": [
    "7-1"
   ]
  },
  {
   "cell_type": "code",
   "execution_count": 14,
   "metadata": {},
   "outputs": [
    {
     "data": {
      "text/plain": [
       "(18+0j)"
      ]
     },
     "execution_count": 14,
     "metadata": {},
     "output_type": "execute_result"
    }
   ],
   "source": [
    "6*(3+0j)*1.0"
   ]
  },
  {
   "cell_type": "code",
   "execution_count": 15,
   "metadata": {},
   "outputs": [
    {
     "data": {
      "text/plain": [
       "0.8333333333333334"
      ]
     },
     "execution_count": 15,
     "metadata": {},
     "output_type": "execute_result"
    }
   ],
   "source": [
    "5/6"
   ]
  },
  {
   "attachments": {},
   "cell_type": "markdown",
   "metadata": {},
   "source": [
    "In many languages (and older versions of python) 1/2 = 0 (truncated division). In python 3 this behavior is captured by a separate operator that rounds down:(i.e.,a//b=|a/b|)"
   ]
  },
  {
   "cell_type": "code",
   "execution_count": 16,
   "metadata": {},
   "outputs": [
    {
     "data": {
      "text/plain": [
       "0.0"
      ]
     },
     "execution_count": 16,
     "metadata": {},
     "output_type": "execute_result"
    }
   ],
   "source": [
    "5//6.0"
   ]
  },
  {
   "cell_type": "code",
   "execution_count": 17,
   "metadata": {},
   "outputs": [
    {
     "data": {
      "text/plain": [
       "5"
      ]
     },
     "execution_count": 17,
     "metadata": {},
     "output_type": "execute_result"
    }
   ],
   "source": [
    "15%10"
   ]
  },
  {
   "cell_type": "code",
   "execution_count": 18,
   "metadata": {},
   "outputs": [
    {
     "data": {
      "text/plain": [
       "9"
      ]
     },
     "execution_count": 18,
     "metadata": {},
     "output_type": "execute_result"
    }
   ],
   "source": [
    "3**2"
   ]
  },
  {
   "attachments": {},
   "cell_type": "markdown",
   "metadata": {},
   "source": [
    "Python natively allows(nearly) infinite length integers while floating point numbers are double precision numbers:"
   ]
  },
  {
   "cell_type": "code",
   "execution_count": 19,
   "metadata": {},
   "outputs": [
    {
     "data": {
      "text/plain": [
       "28418980453852622603883856494709731311218158362293224700445543940796643776911788129508577246309929258069598467896008287596053863082109746801947722280783720032649818198464452375358348619120021135797251857019557032565638659667745421115194468559021541269027438746788486392649581405327516658718317011453858465218779880972140612551504149701082164179367484198570734230003528355826545644223794779911723917115845213739921327820409005460708547942445234906498880588411276755120002108963510955276534630522965966177951626038063994937181228938844252668098515385045718428663547788122173798704717510979319749834083419004355222012043715855123615249682039587844431246269017612728291710718821388840627277407189863509789929339102406655115786899696829902032282666983426897111750208839152830573688512831984602085360572485861376"
      ]
     },
     "execution_count": 19,
     "metadata": {},
     "output_type": "execute_result"
    }
   ],
   "source": [
    "22**600"
   ]
  },
  {
   "cell_type": "code",
   "execution_count": 20,
   "metadata": {},
   "outputs": [
    {
     "ename": "OverflowError",
     "evalue": "(34, 'Result too large')",
     "output_type": "error",
     "traceback": [
      "\u001b[1;31m---------------------------------------------------------------------------\u001b[0m",
      "\u001b[1;31mOverflowError\u001b[0m                             Traceback (most recent call last)",
      "Cell \u001b[1;32mIn[20], line 1\u001b[0m\n\u001b[1;32m----> 1\u001b[0m \u001b[39m22.0\u001b[39;49m\u001b[39m*\u001b[39;49m\u001b[39m*\u001b[39;49m\u001b[39m600\u001b[39;49m\n",
      "\u001b[1;31mOverflowError\u001b[0m: (34, 'Result too large')"
     ]
    }
   ],
   "source": [
    "22.0**600"
   ]
  },
  {
   "attachments": {},
   "cell_type": "markdown",
   "metadata": {},
   "source": [
    "<font color = yellow><b>1.2.2. Comparison/Relational Operators</b></font><br><br>\n",
    "Comparison operators are used to compare values. It either returns True or False according to the condition."
   ]
  },
  {
   "attachments": {},
   "cell_type": "markdown",
   "metadata": {},
   "source": [
    "| Symbol | Task Performed  |      Meaning         |  Example   |\n",
    "| ------ | --------------  |      -------         |  -------   |\n",
    "|   >    | greater than    |      true if x>y     |  x > y     | \n",
    "|   <    | less than       |      true if x < y   |  x < y     |\n",
    "|   ==   | equal to        |      true if x = y   |  x == y    |\n",
    "|   !=   | not equal to    |      true if x != y  |  x != y    |\n",
    "|   >=   | greater or equal|      true if x>=y    |  x >= y    |\n",
    "|   <=   | less or equal   |      true if x <= y  |  x <= y    |"
   ]
  },
  {
   "attachments": {},
   "cell_type": "markdown",
   "metadata": {},
   "source": [
    "Example: Comparison operations in Python"
   ]
  },
  {
   "cell_type": "code",
   "execution_count": 21,
   "metadata": {},
   "outputs": [
    {
     "name": "stdout",
     "output_type": "stream",
     "text": [
      "True\n",
      "True\n",
      "False\n",
      "True\n",
      "True\n",
      "False\n",
      "True\n",
      "False\n",
      "True\n",
      "True\n",
      "False\n",
      "True\n",
      "True\n",
      "False\n"
     ]
    }
   ],
   "source": [
    "print(6>3)\n",
    "print(6>=3)\n",
    "print(6<3)\n",
    "print(3<6)\n",
    "print(3<=6)\n",
    "print(6==3)\n",
    "print(6!=3)\n",
    "print(len(\"apple\")==len(\"avocado\"))\n",
    "print(len(\"apple\")!=len(\"avocado\"))\n",
    "print(len(\"apple\")<len(\"avocado\"))\n",
    "print(len(\"banana\")!=len(\"orange\"))\n",
    "print(len(\"banana\")==len(\"orange\"))\n",
    "print(len(\"tomato\")==len(\"potato\"))\n",
    "print(len(\"python\")>len(\"coding\"))"
   ]
  },
  {
   "cell_type": "code",
   "execution_count": 22,
   "metadata": {},
   "outputs": [
    {
     "name": "stdout",
     "output_type": "stream",
     "text": [
      "True\n",
      "False\n",
      "True\n",
      "False\n"
     ]
    }
   ],
   "source": [
    "x = 30\n",
    "y = 22\n",
    "print(x>y)\n",
    "print(x<y)\n",
    "print(x>=y)\n",
    "print(x<=y)"
   ]
  },
  {
   "cell_type": "code",
   "execution_count": 23,
   "metadata": {},
   "outputs": [
    {
     "data": {
      "text/plain": [
       "True"
      ]
     },
     "execution_count": 23,
     "metadata": {},
     "output_type": "execute_result"
    }
   ],
   "source": [
    "z = 3\n",
    "z == 3"
   ]
  },
  {
   "cell_type": "code",
   "execution_count": 24,
   "metadata": {},
   "outputs": [
    {
     "data": {
      "text/plain": [
       "False"
      ]
     },
     "execution_count": 24,
     "metadata": {},
     "output_type": "execute_result"
    }
   ],
   "source": [
    "z>3"
   ]
  },
  {
   "attachments": {},
   "cell_type": "markdown",
   "metadata": {},
   "source": [
    "Comparisons can be also chained in the mathemaically obvious way. The following will work as expected in Python (but in other languages like C/C++)"
   ]
  },
  {
   "cell_type": "code",
   "execution_count": 25,
   "metadata": {},
   "outputs": [
    {
     "data": {
      "text/plain": [
       "False"
      ]
     },
     "execution_count": 25,
     "metadata": {},
     "output_type": "execute_result"
    }
   ],
   "source": [
    "0.5<z<=1"
   ]
  },
  {
   "attachments": {},
   "cell_type": "markdown",
   "metadata": {},
   "source": [
    "<font color = yellow><b>1.3.3. Logical/Boolean operators</b></font><br><br>\n",
    "Logical operators are the and, or, not operators"
   ]
  },
  {
   "attachments": {},
   "cell_type": "markdown",
   "metadata": {},
   "source": [
    "| Symbol |  Meaning                       |  Example   |\n",
    "| ------ |  ------                        |  -------   |\n",
    "|   and  | true if x,y={(T,T),(F,F)}      |  x and y   | \n",
    "|   or   | true if x,y={(T,T).(T,F),(F,T)}|  x or y    |\n",
    "|   not  | true if x,y={(T,F),(F,T)}      |  x not y   |"
   ]
  },
  {
   "attachments": {},
   "cell_type": "markdown",
   "metadata": {},
   "source": [
    "<b>Example : Logical operations in Python"
   ]
  },
  {
   "cell_type": "code",
   "execution_count": 26,
   "metadata": {},
   "outputs": [
    {
     "name": "stdout",
     "output_type": "stream",
     "text": [
      "True==True \t: True\n",
      "True==False \t: False\n",
      "False == False \t:  True\n",
      "True and True \t:  True\n",
      "True or False \t:  True\n"
     ]
    }
   ],
   "source": [
    "print(\"True==True \\t:\",True==True)\n",
    "print(\"True==False \\t:\",True==False)\n",
    "print(\"False == False \\t: \",False==False)\n",
    "print(\"True and True \\t: \",True and True)\n",
    "print(\"True or False \\t: \",True or False)"
   ]
  },
  {
   "cell_type": "code",
   "execution_count": 27,
   "metadata": {},
   "outputs": [
    {
     "name": "stdout",
     "output_type": "stream",
     "text": [
      "1 is 1 True\n",
      "1 is not 2 True\n",
      "A in Milaan False\n",
      "B in Milaan False\n",
      "True\n",
      "a in an: True\n",
      "27 is 3**3 True\n"
     ]
    },
    {
     "name": "stderr",
     "output_type": "stream",
     "text": [
      "<>:2: SyntaxWarning: \"is\" with a literal. Did you mean \"==\"?\n",
      "<>:3: SyntaxWarning: \"is not\" with a literal. Did you mean \"!=\"?\n",
      "<>:8: SyntaxWarning: \"is\" with a literal. Did you mean \"==\"?\n",
      "<>:2: SyntaxWarning: \"is\" with a literal. Did you mean \"==\"?\n",
      "<>:3: SyntaxWarning: \"is not\" with a literal. Did you mean \"!=\"?\n",
      "<>:8: SyntaxWarning: \"is\" with a literal. Did you mean \"==\"?\n",
      "C:\\Users\\LH\\AppData\\Local\\Temp\\ipykernel_1272\\2141236575.py:2: SyntaxWarning: \"is\" with a literal. Did you mean \"==\"?\n",
      "  print('1 is 1',1 is 1) # verify the value of 1 Vs 1. Showing true because 1 = 1\n",
      "C:\\Users\\LH\\AppData\\Local\\Temp\\ipykernel_1272\\2141236575.py:3: SyntaxWarning: \"is not\" with a literal. Did you mean \"!=\"?\n",
      "  print('1 is not 2',1 is not 2)\n",
      "C:\\Users\\LH\\AppData\\Local\\Temp\\ipykernel_1272\\2141236575.py:8: SyntaxWarning: \"is\" with a literal. Did you mean \"==\"?\n",
      "  print('27 is 3**3',27 is 3**3)\n"
     ]
    }
   ],
   "source": [
    "# Another way comparisions\n",
    "print('1 is 1',1 is 1) # verify the value of 1 Vs 1. Showing true because 1 = 1\n",
    "print('1 is not 2',1 is not 2)\n",
    "print('A in Milaan','A' in 'Milaan')\n",
    "print('B in Milaan','B' in 'Milaan')\n",
    "print('python' in 'python is fun')\n",
    "print('a in an:','a' in 'an')\n",
    "print('27 is 3**3',27 is 3**3)"
   ]
  },
  {
   "cell_type": "code",
   "execution_count": 28,
   "metadata": {},
   "outputs": [
    {
     "name": "stdout",
     "output_type": "stream",
     "text": [
      "True\n",
      "False\n",
      "False\n",
      "False\n",
      "True\n",
      "True\n",
      "False\n",
      "False\n",
      "False\n",
      "True\n",
      "True\n",
      "False\n"
     ]
    }
   ],
   "source": [
    "print(6>3 and 5>3)\n",
    "print(6>3 and 5<3)\n",
    "print(6<3 and 5<3)\n",
    "print(6<3 and 5>3)\n",
    "print(6>3 or 5>3)\n",
    "print(6>3 or 5<3)\n",
    "print(6<3 or 5<3)\n",
    "print(not 6>3)\n",
    "print(not True)\n",
    "print(not False)\n",
    "print(not not True)\n",
    "print(not not False)"
   ]
  },
  {
   "cell_type": "code",
   "execution_count": 29,
   "metadata": {},
   "outputs": [
    {
     "name": "stdout",
     "output_type": "stream",
     "text": [
      "x and y is  False\n",
      "x or y is  True\n",
      "not x is  False\n"
     ]
    }
   ],
   "source": [
    "x = True\n",
    "y = False\n",
    "print('x and y is ',x and y)\n",
    "print('x or y is ',x or y)\n",
    "print('not x is ',not x)"
   ]
  },
  {
   "cell_type": "code",
   "execution_count": 30,
   "metadata": {},
   "outputs": [
    {
     "data": {
      "text/plain": [
       "False"
      ]
     },
     "execution_count": 30,
     "metadata": {},
     "output_type": "execute_result"
    }
   ],
   "source": [
    "True and (not(not False)) or (True and (not True))"
   ]
  },
  {
   "attachments": {},
   "cell_type": "markdown",
   "metadata": {},
   "source": [
    "Here is the <font color = blue><b>truth table(@ and, or, not)</b></font>for these operators"
   ]
  },
  {
   "attachments": {},
   "cell_type": "markdown",
   "metadata": {},
   "source": [
    "<b>1.4 4. Bitwise Operators</br></b>\n",
    "Bitwise operators act on operands as if they were string of binary digits. It operates bit by bit, hence the name.<br><b>For example:</b> 2 is 10 in binary and 7 is 111.<br><b> In the table below:</b> Let x = 10(0000 1010 in binary) and y = 4(0000 0100 in binary)  "
   ]
  },
  {
   "attachments": {},
   "cell_type": "markdown",
   "metadata": {},
   "source": [
    "|Operator|   Meaning      |  Symbol |      Example          |\n",
    "| ------ |   -------      |   ----- |      -------          |\n",
    "|   and  |   Logical and  |    &    | x & y = 0(0000 0000)  | \n",
    "|   or   |   Logical or   |    /     | x / y = 14(0000 1110)|\n",
    "|   not  |   Logical not  |    ~    | ~x = -11(1111 0101)   |\n",
    "|        |      XOR       |    ^    | x^y = 14(0000 1110)   | \n",
    "|        |                |    >>   | x>>2 = 2(0000 0010)   |\n",
    "|        |                |    <<   | x<<2 = 40(0010 1000)  |"
   ]
  },
  {
   "cell_type": "code",
   "execution_count": 31,
   "metadata": {},
   "outputs": [
    {
     "name": "stdout",
     "output_type": "stream",
     "text": [
      "a & b =  2 = 0b10\n"
     ]
    }
   ],
   "source": [
    "a = 2\n",
    "b = 3\n",
    "print('a & b = ',a & b,\"=\",bin(a&b))"
   ]
  },
  {
   "cell_type": "code",
   "execution_count": 32,
   "metadata": {},
   "outputs": [
    {
     "data": {
      "text/plain": [
       "2"
      ]
     },
     "execution_count": 32,
     "metadata": {},
     "output_type": "execute_result"
    }
   ],
   "source": [
    "5>>1\n",
    "# 0 0000 0101\n",
    "#   0000 0010\n",
    "# 0010 is 2 in decimal"
   ]
  },
  {
   "attachments": {},
   "cell_type": "markdown",
   "metadata": {},
   "source": [
    "<b>Explanation</b><br>\n",
    "0000 0101 -> 5 (5 is 0101 in binary)<br> \n",
    "Shifting the digits by 1 to the right and zero padding that will be: 0 0000 0101 = 0000 0010<br>\n",
    "0000 0010 -> 2"
   ]
  },
  {
   "cell_type": "code",
   "execution_count": 33,
   "metadata": {},
   "outputs": [
    {
     "data": {
      "text/plain": [
       "10"
      ]
     },
     "execution_count": 33,
     "metadata": {},
     "output_type": "execute_result"
    }
   ],
   "source": [
    "5<<1\n",
    "# 0000 0101\n",
    "# 0000 1010\n",
    "# 1010 is 10 in decimal"
   ]
  },
  {
   "attachments": {},
   "cell_type": "markdown",
   "metadata": {},
   "source": [
    "<b>Explanation</b></br>\n",
    "0000 0101 ->5<br>\n",
    "Shifting the digits by 1 to the left and zero padding will be: 0000 0101  0 = 0000 1010<br>\n",
    "0000 1010 -> 10"
   ]
  },
  {
   "cell_type": "code",
   "execution_count": 34,
   "metadata": {},
   "outputs": [
    {
     "data": {
      "text/plain": [
       "1"
      ]
     },
     "execution_count": 34,
     "metadata": {},
     "output_type": "execute_result"
    }
   ],
   "source": [
    "6>>2"
   ]
  },
  {
   "cell_type": "code",
   "execution_count": 35,
   "metadata": {},
   "outputs": [
    {
     "name": "stdout",
     "output_type": "stream",
     "text": [
      "True == True\n"
     ]
    }
   ],
   "source": [
    "print(not(True and False),\"==\",not True or not False)"
   ]
  },
  {
   "cell_type": "code",
   "execution_count": 36,
   "metadata": {},
   "outputs": [
    {
     "name": "stdout",
     "output_type": "stream",
     "text": [
      "False == False\n"
     ]
    }
   ],
   "source": [
    "print(False and(not False) or (False and True),\"==\",not(True and(not False) or (not True)))"
   ]
  },
  {
   "attachments": {},
   "cell_type": "markdown",
   "metadata": {},
   "source": [
    "<font color = yellow><b>1.5  5.Assignment Operators</b></font><br><br>\n",
    "Assignment operators are used in Python to assign values to variables<br>\n",
    "a = 5 is a simple assignment operator that assigns the value 5 on the right to the variable a on the assigns the same. It is equivalent to a = a+5"
   ]
  },
  {
   "attachments": {},
   "cell_type": "markdown",
   "metadata": {},
   "source": [
    "| Symbol |  Example  |  Equivalent to  |\n",
    "| ------ |  -------  |  -------------  |\n",
    "|   =    |   x = 5   |       x = 5     |\n",
    "|   +=   |   x += 5  |     x = x + 5   |\n",
    "|   -=   |   x -= 5  |     x = x - 5   |\n",
    "|   *=   |   x *= 5  |     x = x * 5   |\n",
    "|   /=   |   x /= 5  |     x = x / 5   |\n",
    "|   %=   |   x %= 5  |     x = x % 5   |\n",
    "|   //=  |   x //=5  |     x = x // 5  |\n",
    "|   **=  |   x **= 5 |     x = x ** 5  |\n",
    "|   &=   |   x &= 5  |     x = x & 5   |\n",
    "|   \\|=  |   x |= 5  |     x = x | 5   |\n",
    "|   ^=   |   x ^= 5  |     x = x ^ 5   |\n",
    "|   >>=  |   x >>= 5 |     x = x >> 5  |\n",
    "|   <<=  |   x <<= 5 |     x = x << 5  |  "
   ]
  },
  {
   "attachments": {},
   "cell_type": "markdown",
   "metadata": {},
   "source": [
    "The binary operators can be combined with assignment to modify a variable value. For example:"
   ]
  },
  {
   "cell_type": "code",
   "execution_count": 37,
   "metadata": {},
   "outputs": [
    {
     "name": "stdout",
     "output_type": "stream",
     "text": [
      "X is 3\n",
      "x is 12\n",
      "x is 144\n"
     ]
    }
   ],
   "source": [
    "x = 1\n",
    "x += 2\n",
    "print(\"X is\",x)\n",
    "\n",
    "x<<=2 # left-shift by 2(equivalent to x *= 4 or x = 3*4)\n",
    "print('x is',x)\n",
    "\n",
    "x**=2  # it will display power(12,2)\n",
    "print('x is',x)"
   ]
  },
  {
   "attachments": {},
   "cell_type": "markdown",
   "metadata": {},
   "source": [
    "<font color = yellow><b>1.6   6. Special Operators</b></font><br>\n",
    "Python language offers some special types of operators like identify operator of the membership operator. They are described below with examples."
   ]
  },
  {
   "attachments": {},
   "cell_type": "markdown",
   "metadata": {},
   "source": [
    "<font color = yellow><b>1.6  6.1 Identity Operators</b></font><br>\n",
    "<b><font color = red>is</font></b> and <b><font color = red>is not</font></b> are the identity operators in Python. They are used to check if two values(or variables) are located on the same part of the memory. Two values that are equal does not imply that they are <b><font color=red>identical.</font></b>"
   ]
  },
  {
   "cell_type": "code",
   "execution_count": 38,
   "metadata": {},
   "outputs": [],
   "source": [
    "# is : true if the operands are identical(refer to the same object)\n",
    "# is not : true if the operands are not identical(do not refer to the same object)  "
   ]
  },
  {
   "attachments": {},
   "cell_type": "markdown",
   "metadata": {},
   "source": [
    "Example: Identical Operators in Python"
   ]
  },
  {
   "cell_type": "code",
   "execution_count": 39,
   "metadata": {},
   "outputs": [
    {
     "name": "stdout",
     "output_type": "stream",
     "text": [
      "False\n",
      "True\n",
      "False\n"
     ]
    }
   ],
   "source": [
    "x1 = 6\n",
    "y1 = 6\n",
    "\n",
    "x2 = 'Hello'\n",
    "y2 = 'Hello'\n",
    "\n",
    "x3 = [1,2,3]\n",
    "y3 = [1,2,3]\n",
    "\n",
    "print(x1 is not y1)\n",
    "\n",
    "print(x2 is y2)\n",
    "\n",
    "print(x3 is y3) # false because two lists [] can never be equal"
   ]
  },
  {
   "attachments": {},
   "cell_type": "markdown",
   "metadata": {},
   "source": [
    "<b>Explaination</b><br>\n",
    "Here, we see that x1 and y1 are integers of same values, so they are equal as well as identical. Same is the case with x2 and y2(strings.)<br>\n",
    "But x3 and y3 are list. They are equal but not identical. It is because interpreter locates then separately in memory although they are equal."
   ]
  },
  {
   "attachments": {},
   "cell_type": "markdown",
   "metadata": {},
   "source": [
    "<font color = yellow><b>1.6.2 2.Membership Operators</b></font><br>\n",
    "<font color = red><b>in</b></font> and <font color = red><b>not in </b></font>are two membership operators in Python. They are used to test whether a value for variable is found in a sequence(<b><font color = blue>string, list, tuple, set and dictionary)</font></b>"
   ]
  },
  {
   "cell_type": "code",
   "execution_count": 40,
   "metadata": {},
   "outputs": [
    {
     "name": "stdout",
     "output_type": "stream",
     "text": [
      "True\n",
      "False\n",
      "True\n",
      "False\n"
     ]
    }
   ],
   "source": [
    "x = 'Hello world'\n",
    "y = {1:'a',2:'b'} # dictionary where 1 is key and 'a' is element. So we can acess element without its key.\n",
    "print('H' in x)\n",
    "print('hello' in x)\n",
    "print(1 in y)\n",
    "print('a' in y)   # false because we cannot identify 'a' without its key hence it is False."
   ]
  },
  {
   "attachments": {},
   "cell_type": "markdown",
   "metadata": {},
   "source": [
    "<font color = yellow><b>1.7 Exercises Operators</b></font><br>"
   ]
  },
  {
   "attachments": {},
   "cell_type": "markdown",
   "metadata": {},
   "source": [
    "$ 1. $ $ Declare $ $ your $ $ age $ $ as $ $ integer $ $ variable. $ "
   ]
  },
  {
   "cell_type": "code",
   "execution_count": 41,
   "metadata": {},
   "outputs": [
    {
     "data": {
      "text/plain": [
       "21"
      ]
     },
     "execution_count": 41,
     "metadata": {},
     "output_type": "execute_result"
    }
   ],
   "source": [
    "my_age:int = 21\n",
    "my_age"
   ]
  },
  {
   "attachments": {},
   "cell_type": "markdown",
   "metadata": {},
   "source": [
    "$ 2. $ $ Declare $ $ your $ $ height $ $ as $ $ a $ $ float $ $ variable $ "
   ]
  },
  {
   "cell_type": "code",
   "execution_count": 42,
   "metadata": {},
   "outputs": [
    {
     "data": {
      "text/plain": [
       "11.7"
      ]
     },
     "execution_count": 42,
     "metadata": {},
     "output_type": "execute_result"
    }
   ],
   "source": [
    "my_height:float = 11.70\n",
    "my_height"
   ]
  },
  {
   "attachments": {},
   "cell_type": "markdown",
   "metadata": {},
   "source": [
    "$ 3. $ $ Declare $ $ a $ $ variable $ $ that $ $ store $ $ a $ $ complex $ $ number $  "
   ]
  },
  {
   "cell_type": "code",
   "execution_count": 43,
   "metadata": {},
   "outputs": [
    {
     "data": {
      "text/plain": [
       "(3+3j)"
      ]
     },
     "execution_count": 43,
     "metadata": {},
     "output_type": "execute_result"
    }
   ],
   "source": [
    "number:complex = 3+3j\n",
    "number"
   ]
  },
  {
   "attachments": {},
   "cell_type": "markdown",
   "metadata": {},
   "source": [
    "$ 4. $ $ Write $ $ a $ $ code $ $ that $ $ prompts $ $ the $ $ user $ $ to $ $ enter $ $ base $ $ and $ $ height $ $ of $ $ the $ $ triangle $ $ and $ $ calculate $ $ an $ $ area $ $ of $ $ this $ $ triangle $ $(area = 0.5 * h * b) $ "
   ]
  },
  {
   "cell_type": "code",
   "execution_count": 44,
   "metadata": {},
   "outputs": [
    {
     "ename": "ValueError",
     "evalue": "could not convert string to float: ''",
     "output_type": "error",
     "traceback": [
      "\u001b[1;31m---------------------------------------------------------------------------\u001b[0m",
      "\u001b[1;31mValueError\u001b[0m                                Traceback (most recent call last)",
      "Cell \u001b[1;32mIn[44], line 1\u001b[0m\n\u001b[1;32m----> 1\u001b[0m base \u001b[39m=\u001b[39m \u001b[39mfloat\u001b[39;49m(\u001b[39minput\u001b[39;49m(\u001b[39m\"\u001b[39;49m\u001b[39mEnter base : \u001b[39;49m\u001b[39m\"\u001b[39;49m))\n\u001b[0;32m      2\u001b[0m height \u001b[39m=\u001b[39m \u001b[39mfloat\u001b[39m(\u001b[39minput\u001b[39m(\u001b[39m'\u001b[39m\u001b[39mEnter height : \u001b[39m\u001b[39m'\u001b[39m))\n\u001b[0;32m      3\u001b[0m area \u001b[39m=\u001b[39m base\u001b[39m*\u001b[39mheight\u001b[39m/\u001b[39m\u001b[39m2\u001b[39m\n",
      "\u001b[1;31mValueError\u001b[0m: could not convert string to float: ''"
     ]
    }
   ],
   "source": [
    "base = float(input(\"Enter base : \"))\n",
    "height = float(input('Enter height : '))\n",
    "area = base*height/2\n",
    "print(area)"
   ]
  },
  {
   "attachments": {},
   "cell_type": "markdown",
   "metadata": {},
   "source": [
    "$ 5. $ $ Write $ $ a $ $ code $ $ that $ $ prompts $ $ the $ $ user $ $ to $ $ enter $ $ side $ $ a, $ $ side  $ $ b $ $ and $ $ side $ $ c $ $ of $ $ the $ $ triangle. $ $ Calculate $ $ the $ $ perimeter $ $ of $ $ the $ $ triangle $ $(perimeter = a + b + c) $ "
   ]
  },
  {
   "cell_type": "code",
   "execution_count": 45,
   "metadata": {},
   "outputs": [
    {
     "data": {
      "text/plain": [
       "80"
      ]
     },
     "execution_count": 45,
     "metadata": {},
     "output_type": "execute_result"
    }
   ],
   "source": [
    "a = int(input(\"Enter side a : \"))\n",
    "b = int(input(\"Enter side b : \"))\n",
    "c = int(input(\"Enter side c : \"))\n",
    "perimeter = a+b+c\n",
    "perimeter"
   ]
  },
  {
   "attachments": {},
   "cell_type": "markdown",
   "metadata": {},
   "source": [
    "$ 6. $ $ Get $ $ length $ $ and $ $ width $ $ of $ $ a $ $ rectangle $ $ using $ $ prompt. $ $ Calculate $ $ its $ $ area $ $(area $ $ = lenth $ $ * $ $ width) $ $ and $ $ perimeter $ $(perimeter $ $ = $ $ 2*(length+width)) $  "
   ]
  },
  {
   "cell_type": "code",
   "execution_count": 47,
   "metadata": {},
   "outputs": [
    {
     "name": "stdout",
     "output_type": "stream",
     "text": [
      "369.0\n",
      "252.0\n"
     ]
    }
   ],
   "source": [
    "length = float(input('Enter length : '))\n",
    "width  = float(input('Enter width : '))\n",
    "area = length*width\n",
    "perimeter = 2*(length+width)\n",
    "print(area)\n",
    "print(perimeter)"
   ]
  },
  {
   "attachments": {},
   "cell_type": "markdown",
   "metadata": {},
   "source": [
    "$ 7. $ $ Get $ $ radius $ $ of $ $ a $ $ circle $ $ using $ $ prompt. $ $ Calculate $ $ the $ $ area $ $(area $ $ = $ $ pi $ $ * \n",
    "power $ $(raduis,2) $ $ and $ $ circumference $ $(c = 2*pi*r) $ $ where $ $ pi $ $ = $ $ 3.14 $ "
   ]
  },
  {
   "cell_type": "code",
   "execution_count": 48,
   "metadata": {},
   "outputs": [
    {
     "data": {
      "text/plain": [
       "3631.681107549801"
      ]
     },
     "execution_count": 48,
     "metadata": {},
     "output_type": "execute_result"
    }
   ],
   "source": [
    "import math\n",
    "raduis = float(input(\"Enter raduis : \"))\n",
    "area: float = math.pi*pow(raduis,2)\n",
    "area"
   ]
  },
  {
   "attachments": {},
   "cell_type": "markdown",
   "metadata": {},
   "source": [
    "$ 8. $ $ Calculate $ $ the $ $ slope, $ $ x-intercept $ $ and $ $ y-intercept $ $ of $ $ y $ $ = $ $ 2x $ $- $ $ 2 $ "
   ]
  },
  {
   "cell_type": "code",
   "execution_count": 49,
   "metadata": {},
   "outputs": [
    {
     "name": "stdout",
     "output_type": "stream",
     "text": [
      "2.0\n"
     ]
    }
   ],
   "source": [
    "# choose two points deduce from above equation such that passing through the line. (0,-2),(1,0)\n",
    "def FindSlope1(x1,y1,x2,y2)->float:\n",
    "    slope = (y2-y1)/(x2-x1)\n",
    "    return slope\n",
    "print(FindSlope1(0,-2,1,0))"
   ]
  },
  {
   "attachments": {},
   "cell_type": "markdown",
   "metadata": {},
   "source": [
    " $ 9. $ $ Slope $ $ is $ $ (m $ $ = $ $ (y2-y1)/(x2-x1) $ $). $ $ Find $ $ the $ $ slope $ $ and $ $ Euclidean $ $ distance $ $ between $ $ point $ $ (2,2) $ $ and $ $ point(6,10) $ "
   ]
  },
  {
   "cell_type": "code",
   "execution_count": 50,
   "metadata": {},
   "outputs": [
    {
     "name": "stdout",
     "output_type": "stream",
     "text": [
      "The slope of between two points :  2.0\n",
      "The euclidean distance between two points :  8.94427190999916\n"
     ]
    }
   ],
   "source": [
    "from math import sqrt\n",
    "def FindSlope2(x1,y1,x2,y2)->float:\n",
    "  m:float = (y2-y1)/(x2-x1)\n",
    "  return m\n",
    "def FindEuclideanDistance(x1,y1,x2,y2):\n",
    "  n:float = sqrt(pow((x2-x1),2)+pow((y2-y1),2))\n",
    "  return n\n",
    "\n",
    "if __name__ == \"__main__\":\n",
    "  print(\"The slope of between two points : \",FindSlope2(2,2,6,10))\n",
    "  print(\"The euclidean distance between two points : \",FindEuclideanDistance(2,2,6,10))"
   ]
  },
  {
   "attachments": {},
   "cell_type": "markdown",
   "metadata": {},
   "source": [
    " $ 10. $ $ Compare $ $ the $ $ slope $ $ in $ $ task $ $ 8 $ $ and $ $ task $ $ 9 $ "
   ]
  },
  {
   "cell_type": "code",
   "execution_count": 51,
   "metadata": {},
   "outputs": [
    {
     "name": "stdout",
     "output_type": "stream",
     "text": [
      "The couple points above are the points that the lne of equation y = 2x-2 passing through\n"
     ]
    }
   ],
   "source": [
    "a = FindSlope1(0,-2,1,0)\n",
    "b = FindSlope2(2,2,6,10)\n",
    "r = a-b\n",
    "if(r == 0):\n",
    "  print(\"The couple points above are the points that the lne of equation y = 2x-2 passing through\")\n",
    "else:\n",
    "  print(\"The couple points above are not passing through by the line of equation y = 2x-2\")"
   ]
  },
  {
   "attachments": {},
   "cell_type": "markdown",
   "metadata": {},
   "source": [
    "$ 11.$ $ calculate $ $ the $ $ value $ $ of $ $ y $ $(y=x^2+6x+9). $ $ Try $ $ to $ $ use $ $ different $ $ x $ $ values $ $ and $ $ figure $ $ out $ $ at $ $ what $ $ x $ $ value $ $ y $ $ is $ $ going $ $ to $ $ be $ $ 0. $ "
   ]
  },
  {
   "cell_type": "code",
   "execution_count": 52,
   "metadata": {},
   "outputs": [
    {
     "name": "stdout",
     "output_type": "stream",
     "text": [
      "4\n",
      "1\n",
      "0\n",
      "The value y = 0 at x =  -3\n",
      "1\n",
      "4\n",
      "9\n",
      "16\n",
      "25\n",
      "36\n",
      "49\n",
      "64\n"
     ]
    }
   ],
   "source": [
    "def f(x):\n",
    "  y = pow(x,2)+6*x+9\n",
    "  return y\n",
    "if __name__ == \"__main__\":\n",
    "  for x in range(-5,6,1): # start from i = -5 until i = 5 with step size = 1\n",
    "    print(f(x)) \n",
    "    if(f(x)==0):\n",
    "      print(\"The value y = 0 at x = \",x)\n",
    "    "
   ]
  },
  {
   "attachments": {},
   "cell_type": "markdown",
   "metadata": {},
   "source": [
    "$ 12. $ $ Find $ $ the $ $ lenght $ $ of $ $ 'python' $ $ and $ $ 'datascience' $ $ and $ $ make $ $ a $ $ falsy $ $ comparison $ $ statement. $ "
   ]
  },
  {
   "cell_type": "code",
   "execution_count": 53,
   "metadata": {},
   "outputs": [
    {
     "name": "stdout",
     "output_type": "stream",
     "text": [
      "The length of a is :  6\n",
      "The length of b is :  11\n",
      "datascience has length longer than python\n"
     ]
    }
   ],
   "source": [
    "def LengthString(x):\n",
    "  l1 = len(x)\n",
    "  return l1\n",
    "if __name__ == \"__main__\":\n",
    "  a = 'python'\n",
    "  print(\"The length of a is : \",LengthString(a))\n",
    "  b = 'datascience'\n",
    "  print('The length of b is : ',LengthString(b))\n",
    "  if(LengthString(a)-LengthString(b)>0):\n",
    "    print('python has length longer than datascience')\n",
    "  else:\n",
    "    print('datascience has length longer than python')   "
   ]
  },
  {
   "attachments": {},
   "cell_type": "markdown",
   "metadata": {},
   "source": [
    "<b>13.</b> Use <font color = blue>and</font> operator to check if 'on' is found in both python and cannon."
   ]
  },
  {
   "cell_type": "code",
   "execution_count": 54,
   "metadata": {},
   "outputs": [
    {
     "name": "stdout",
     "output_type": "stream",
     "text": [
      "'on' is in python\n",
      "'on' is in cannon\n"
     ]
    }
   ],
   "source": [
    "def CheckMember(string:str):\n",
    "  if('on' in string):\n",
    "    print(\"'on' is in \"+string)\n",
    "  elif('on' not in string):\n",
    "    print(\"'on' is not in \"+string)   \n",
    "  return  \n",
    "\n",
    "if __name__ == \"__main__\":\n",
    "  x = 'python'\n",
    "  y = 'cannon'\n",
    "  CheckMember(x)\n",
    "  CheckMember(y)"
   ]
  },
  {
   "attachments": {},
   "cell_type": "markdown",
   "metadata": {},
   "source": [
    "$ 14. $ $ 'I $ $ hope $ $ this $ $ course $ $ is $ $ not $ $ full $ $ of $ $ jargon' $ $. $ $ Use $ $ operator $ $ to $ $ check $ $ if $ $ jargon $ $ is $ $ in $ $ the $ $ sentence. $ "
   ]
  },
  {
   "cell_type": "code",
   "execution_count": 55,
   "metadata": {},
   "outputs": [
    {
     "name": "stdout",
     "output_type": "stream",
     "text": [
      "'jargon' is in 'I hope this course is not full of jargon'\n"
     ]
    }
   ],
   "source": [
    "a = 'I hope this course is not full of jargon'\n",
    "if 'jargon' in a:\n",
    "  print(\"'jargon' is in 'I hope this course is not full of jargon'\")\n",
    "else:\n",
    "  print(\"'jargon' is ot in 'I hope this course is not full of jargon'\")\n"
   ]
  },
  {
   "attachments": {},
   "cell_type": "markdown",
   "metadata": {},
   "source": [
    "$ 16. $ $ Find $ $ the $ $ length $ $ of $ $ the $ $ text $ $ 'python' $ $ and $ $ convert $ $ the $ $ value $ $ to $ $ float $ $ and $ $ convert $ $ it $ $ to $ $ string. $ "
   ]
  },
  {
   "cell_type": "code",
   "execution_count": 56,
   "metadata": {},
   "outputs": [
    {
     "name": "stdout",
     "output_type": "stream",
     "text": [
      "6\n",
      "6.0\n",
      "6\n"
     ]
    }
   ],
   "source": [
    "Length = len('python')\n",
    "print(Length)\n",
    "Float = float(Length)\n",
    "print(Float)\n",
    "String = str(Length)\n",
    "print(String)"
   ]
  },
  {
   "attachments": {},
   "cell_type": "markdown",
   "metadata": {},
   "source": [
    "$ 17. $ $ Even $ $ numbers $ $ are $ $ divisible $ $ by $ $ 2 $ $ and $ $ the $ $ remainder $ $ is $ $ zero. $ $ How $ $ do $ $ you $ $ check $ $ if $ $ a $ $ number $ $ is $ $ even $ $ or $ $ odd $ $ using $ $ python $ $ ? $ "
   ]
  },
  {
   "cell_type": "code",
   "execution_count": 57,
   "metadata": {},
   "outputs": [
    {
     "data": {
      "text/plain": [
       "'2 is even number.'"
      ]
     },
     "execution_count": 57,
     "metadata": {},
     "output_type": "execute_result"
    }
   ],
   "source": [
    "def CheckEven(x:int)->str:\n",
    "  if x%2 == 0:\n",
    "    return str(x) + ' is even number.'\n",
    "  else:\n",
    "    return str(x) + 'is odd number.'\n",
    "number = 2\n",
    "CheckEven(number)"
   ]
  },
  {
   "attachments": {},
   "cell_type": "markdown",
   "metadata": {},
   "source": [
    " $ 18. $ $ Check $ $ if $ $ the $ $ floor $ $ division $ $ of $ $ 7 $ $ by $ $ 3 $ $ is $ $ equal $ $ to $ $ the $ $ int $ $ converted $ $ value $ $ of $ $ 2.7 $ "
   ]
  },
  {
   "cell_type": "code",
   "execution_count": 58,
   "metadata": {},
   "outputs": [
    {
     "name": "stdout",
     "output_type": "stream",
     "text": [
      "2 is equal to 2\n"
     ]
    }
   ],
   "source": [
    "a = 7//3\n",
    "b = int(2.7)\n",
    "if a == b:\n",
    "  print(str(a)+' is equal to '+str(b))\n",
    "else:\n",
    "  print('not equal')"
   ]
  },
  {
   "attachments": {},
   "cell_type": "markdown",
   "metadata": {},
   "source": [
    "$ 19. $ $ Check $ $ if $ $ type $ $ of $ $ \"10\" $ $ is $ $ equal $ $ to $ $ type $ $ of $ $ 10. $ "
   ]
  },
  {
   "cell_type": "code",
   "execution_count": 59,
   "metadata": {},
   "outputs": [
    {
     "name": "stdout",
     "output_type": "stream",
     "text": [
      "it is not the same type\n"
     ]
    }
   ],
   "source": [
    "a = type(\"10\")\n",
    "b = type(10)\n",
    "if(a is b):\n",
    "  print('the same type')\n",
    "else: \n",
    "  print('it is not the same type') "
   ]
  },
  {
   "attachments": {},
   "cell_type": "markdown",
   "metadata": {},
   "source": [
    "$ 20. $ $ Check $ $ if $ $ int $ $(9.6) $ $ is $ $ equal $ $ to $ $ 10 $ "
   ]
  },
  {
   "cell_type": "code",
   "execution_count": 60,
   "metadata": {},
   "outputs": [
    {
     "name": "stdout",
     "output_type": "stream",
     "text": [
      "a is not equal to b\n"
     ]
    }
   ],
   "source": [
    "a = int(9.6)\n",
    "b = 10\n",
    "if(a==b):\n",
    "  print('a = b')\n",
    "else:\n",
    "  print('a is not equal to b')"
   ]
  },
  {
   "attachments": {},
   "cell_type": "markdown",
   "metadata": {},
   "source": [
    "$ 21. $ $ Write $ $ a $ $ code $ $ that $ $ prompts $ $ the $ $ user $ $ to $ $ enter $ $ hours $ $ and $ $ rate $ $ per $ $ hour. $ $ Calculate $ $ pay $ $ of $ $ the $ $ person. $ "
   ]
  },
  {
   "cell_type": "code",
   "execution_count": 62,
   "metadata": {},
   "outputs": [
    {
     "name": "stdout",
     "output_type": "stream",
     "text": [
      "Your weekly earning is  1200\n"
     ]
    }
   ],
   "source": [
    "hours = int(input('Enter hours : '))\n",
    "rate = int(input('Enter rate per hours : '))\n",
    "pay = hours*rate\n",
    "print(\"Your weekly earning is \",pay)"
   ]
  },
  {
   "attachments": {},
   "cell_type": "markdown",
   "metadata": {},
   "source": [
    "$ 22. $ $ Write $ $ a $ $ script $ $ that $ $ prompts $ $ the $ $ user $ $ to $ $ enter $ $ number $ $ of $ $ years. $ $ Calculate $ $ the $ $ number $ $ of $ $ second $ $ a $ $ person $ $ can $ $ live. $ $ Assume $ $ a $ $ person $ $ can $ $ live $ $ hundred $ $ years. $ "
   ]
  },
  {
   "cell_type": "code",
   "execution_count": 64,
   "metadata": {},
   "outputs": [
    {
     "data": {
      "text/plain": [
       "365"
      ]
     },
     "execution_count": 64,
     "metadata": {},
     "output_type": "execute_result"
    }
   ],
   "source": [
    "years = input('Enter number of years you have lived : ')\n",
    "duration = 365*years\n",
    "duration"
   ]
  },
  {
   "attachments": {},
   "cell_type": "markdown",
   "metadata": {},
   "source": [
    "$ 23. $ $ Write $ $ a $ $ python $ $ code $ $ that $ $ displaying $ $ the $ $ following $ $ table: $ <br>\n",
    "1 2 3 4 5<br>\n",
    "2 4 6 8 10<br>\n",
    "3 6 9 12 15<br>\n",
    "4 8 12 16 20<br>\n",
    "5 10 15 20 25<br>"
   ]
  },
  {
   "cell_type": "code",
   "execution_count": 72,
   "metadata": {},
   "outputs": [
    {
     "name": "stdout",
     "output_type": "stream",
     "text": [
      "1 2 3 4 5 \n",
      "2 4 6 8 10 \n",
      "3 6 9 12 15 \n",
      "4 8 12 16 20 \n",
      "5 10 15 20 25 "
     ]
    }
   ],
   "source": [
    "for i in range(1,6):\n",
    "  print(i,end=\" \")\n",
    "print(\"\\n\",end=\"\")\n",
    "\n",
    "for j in range(2,11,2):\n",
    "  print(j,end=\" \")\n",
    "print(\"\\n\",end=\"\")\n",
    "\n",
    "for k in range(3,16,3):\n",
    "  print(k,end=\" \")\n",
    "print(\"\\n\",end=\"\")\n",
    "\n",
    "for l in range(4,21,4):\n",
    "  print(l,end=\" \")\n",
    "print(\"\\n\",end=\"\")\n",
    "\n",
    "for m in range(5,26,5):\n",
    "  print(m,end=\" \")"
   ]
  },
  {
   "attachments": {},
   "cell_type": "markdown",
   "metadata": {},
   "source": [
    "<b><font size = 5><p style = \"text-align:center\"><font color = blue>Python_List_Comprehension</font></p></font></b>\n",
    "<font size = 4><p style = \"text-align:center\">March 2,2023</p></font>"
   ]
  },
  {
   "attachments": {},
   "cell_type": "markdown",
   "metadata": {},
   "source": [
    "<font color = red><font size = 5><b>1. Python_List_Comprehension</b></font></font><br>\n",
    "In this class, we will learn about Python List Comprehensions, and how to use it. List comprehension is an elegant and concise way to create a new list from an existing list in Python. It is a short way to create a new list. List comprehension is considerably than processing a list using the for loop."
   ]
  },
  {
   "attachments": {},
   "cell_type": "markdown",
   "metadata": {},
   "source": [
    "<font color = yellow><b>1.1 List Comprehension Vs String Vs For Loop in Python</font></b><br>\n",
    "Suppose, we want to separate the letters of the word python and add the letters as items of a list.<br>The first thing that comes in mind would be using String."
   ]
  },
  {
   "cell_type": "code",
   "execution_count": 74,
   "metadata": {},
   "outputs": [
    {
     "name": "stdout",
     "output_type": "stream",
     "text": [
      "['p', 'y', 't', 'h', 'o', 'n']\n",
      "<class 'list'>\n"
     ]
    }
   ],
   "source": [
    "# Convert string to list\n",
    "language = 'python'\n",
    "lst = list(language) # change string to list\n",
    "\n",
    "print(lst)\n",
    "print(type(lst))"
   ]
  },
  {
   "attachments": {},
   "cell_type": "markdown",
   "metadata": {},
   "source": [
    "The second thing that comes in mind would be using <b><font color = blue>for loop</font></b>"
   ]
  },
  {
   "cell_type": "code",
   "execution_count": 75,
   "metadata": {},
   "outputs": [
    {
     "name": "stdout",
     "output_type": "stream",
     "text": [
      "['p', 'y', 't', 'h', 'o', 'n']\n",
      "<class 'list'>\n"
     ]
    }
   ],
   "source": [
    "# Iterating through a string using for loop.\n",
    "p_letters = []\n",
    "\n",
    "for letter in 'python':\n",
    "  p_letters.append(letter)\n",
    "  \n",
    "print(p_letters)\n",
    "print(type(p_letters))"
   ]
  },
  {
   "attachments": {},
   "cell_type": "markdown",
   "metadata": {},
   "source": [
    "<font color = yellow><b>Explanation</b></font><br>\n",
    "However, Python has an easier way to solve this issue using List Comprehension. List comprehension is an elegant way to define and create lists based on existing lists.<br> Let's see how the above program can be written using <b>list comprehension</b>"
   ]
  },
  {
   "cell_type": "code",
   "execution_count": 76,
   "metadata": {},
   "outputs": [
    {
     "name": "stdout",
     "output_type": "stream",
     "text": [
      "['p', 'y', 't', 'h', 'o', 'n']\n",
      "<class 'list'>\n"
     ]
    }
   ],
   "source": [
    "# Iterating through a string using list comprehension\n",
    "p_letters = [letter for letter in 'python']\n",
    "print(p_letters)\n",
    "print(type(p_letters))"
   ]
  },
  {
   "attachments": {},
   "cell_type": "markdown",
   "metadata": {},
   "source": [
    "<font color = yellow><b>Explanation:</b></font><br>\n",
    "In the above example, a new list is assigned to variable p_letters, and list contains the items of the iterable string 'human'. We call print() function to recieve the output."
   ]
  },
  {
   "attachments": {},
   "cell_type": "markdown",
   "metadata": {},
   "source": [
    "<b><font color = yellow>1.2 Syntax of List Comprehension</font></b>"
   ]
  },
  {
   "attachments": {},
   "cell_type": "markdown",
   "metadata": {},
   "source": [
    "[expression for item in list]<br>\n",
    "We can now identify where list comprehensions are used.<br>\n",
    "If you noticed, python is a string, not a list. This is the power of list comprehension. It can identify when it recieves a string or a tuple and work on it like a list.<br><br>\n",
    "You can do that using loops. However, not every loop can be written as list comprehension. But as you learn and get comfortable with list comprehensions, you will yourself replacing more and more loops with this elegant syntax."
   ]
  },
  {
   "attachments": {},
   "cell_type": "markdown",
   "metadata": {},
   "source": [
    "<b><font color = yellow>1.3 Conditionals List Comprehension</font></b>"
   ]
  },
  {
   "attachments": {},
   "cell_type": "markdown",
   "metadata": {},
   "source": [
    "List comprehensions can utilize conditional statement to modify existing list(or other tuples). We will create list that uses mathematical operators, integers, and range()."
   ]
  },
  {
   "cell_type": "code",
   "execution_count": 77,
   "metadata": {},
   "outputs": [
    {
     "name": "stdout",
     "output_type": "stream",
     "text": [
      "[1, 2, 4, 8, 16, 32, 64, 128, 256, 512]\n"
     ]
    }
   ],
   "source": [
    "# regular program to generate power for the numbers\n",
    "pow2 = [2**x for x in range(10)]\n",
    "print(pow2)"
   ]
  },
  {
   "attachments": {},
   "cell_type": "markdown",
   "metadata": {},
   "source": [
    "Above code is equivalent to:"
   ]
  },
  {
   "cell_type": "code",
   "execution_count": 78,
   "metadata": {},
   "outputs": [
    {
     "name": "stdout",
     "output_type": "stream",
     "text": [
      "[1, 2, 4, 8, 16, 32, 64, 128, 256, 512]\n"
     ]
    }
   ],
   "source": [
    "# with list comprehension\n",
    "pow2 = []\n",
    "for x in range(10):\n",
    "  pow2.append(2**x)\n",
    "print(pow2)"
   ]
  },
  {
   "attachments": {},
   "cell_type": "markdown",
   "metadata": {},
   "source": [
    "A list comprehension can optionally contain more for or if statements. An option if statement can filter out items for the new list. Here are some examples."
   ]
  },
  {
   "attachments": {},
   "cell_type": "markdown",
   "metadata": {},
   "source": [
    "<font color = yellow><b>1.3.1. For instance if you want to generate a list of numbers.</b></font>"
   ]
  },
  {
   "cell_type": "code",
   "execution_count": 79,
   "metadata": {},
   "outputs": [
    {
     "name": "stdout",
     "output_type": "stream",
     "text": [
      "[0, 1, 2, 3, 4, 5, 6, 7, 8, 9, 10]\n"
     ]
    }
   ],
   "source": [
    "# Generate numbers\n",
    "numbers = [i for i in range(11)] # generate numbers from 0 to 10\n",
    "print(numbers)"
   ]
  },
  {
   "cell_type": "code",
   "execution_count": 80,
   "metadata": {},
   "outputs": [
    {
     "name": "stdout",
     "output_type": "stream",
     "text": [
      "[0, 1, 4, 9, 16, 25, 36, 49, 64, 81, 100]\n"
     ]
    }
   ],
   "source": [
    "# It is possible to do mathematical operations during iteration.\n",
    "squares = [i*i for i in range(11)]\n",
    "print(squares)"
   ]
  },
  {
   "cell_type": "code",
   "execution_count": 81,
   "metadata": {},
   "outputs": [
    {
     "name": "stdout",
     "output_type": "stream",
     "text": [
      "[(0, 0), (1, 1), (2, 4), (3, 9), (4, 16), (5, 25), (6, 36), (7, 49), (8, 64), (9, 81), (10, 100)]\n"
     ]
    }
   ],
   "source": [
    "# It is possible to make a list of tuples\n",
    "numbers = [(i,i*i) for i in range(11)]\n",
    "print(numbers)"
   ]
  },
  {
   "cell_type": "code",
   "execution_count": 82,
   "metadata": {},
   "outputs": [
    {
     "data": {
      "text/plain": [
       "[64, 128, 256, 512]"
      ]
     },
     "execution_count": 82,
     "metadata": {},
     "output_type": "execute_result"
    }
   ],
   "source": [
    "pow2 = [2**x for x in range(10) if x>5]\n",
    "pow2"
   ]
  },
  {
   "attachments": {},
   "cell_type": "markdown",
   "metadata": {},
   "source": [
    "<font color = yellow><b>1.3.2. List comprehension can be combined with if statement.</b></font>"
   ]
  },
  {
   "cell_type": "code",
   "execution_count": 83,
   "metadata": {},
   "outputs": [
    {
     "name": "stdout",
     "output_type": "stream",
     "text": [
      "[0, 2, 4, 6, 8, 10, 12, 14, 16, 18, 20, 22, 24, 26, 28]\n"
     ]
    }
   ],
   "source": [
    "number_list = [x for x in range(30) if x%2==0]\n",
    "print(number_list)"
   ]
  },
  {
   "attachments": {},
   "cell_type": "markdown",
   "metadata": {},
   "source": [
    "<b>Explanation:</b><br>\n",
    "The list, number_list will be populated by the items in range from 0-27 if the item's value is divisible by 2."
   ]
  },
  {
   "cell_type": "code",
   "execution_count": 84,
   "metadata": {},
   "outputs": [
    {
     "name": "stdout",
     "output_type": "stream",
     "text": [
      "[0, 2, 4, 6, 8, 10, 12, 14, 16, 18, 20, 22, 24, 26, 28]\n"
     ]
    }
   ],
   "source": [
    "# Generating even numbers\n",
    "even_numbers = [x for x in range(30) if x%2 == 0]\n",
    "print(even_numbers)"
   ]
  },
  {
   "cell_type": "code",
   "execution_count": 86,
   "metadata": {},
   "outputs": [
    {
     "name": "stdout",
     "output_type": "stream",
     "text": [
      "[1, 3, 5, 7, 9, 11, 13, 15, 17, 19]\n"
     ]
    }
   ],
   "source": [
    "# Generating odd numbers\n",
    "odd_numbers = [x for x in range(21) if x%2!=0]\n",
    "print(odd_numbers)"
   ]
  },
  {
   "cell_type": "code",
   "execution_count": 87,
   "metadata": {},
   "outputs": [
    {
     "name": "stdout",
     "output_type": "stream",
     "text": [
      "[2, 4, 6, 8, 10, 12, 14, 16, 18, 20]\n"
     ]
    }
   ],
   "source": [
    "# Filter numbers: let's filter out positive even numbers from the list below\n",
    "numbers = [-8,-7,-3,-1,0,1,3,4,5,7,6,8,10]\n",
    "positive_even_numbers = [x for x in range(21) if x%2 == 0 and x>0]\n",
    "print(positive_even_numbers)"
   ]
  },
  {
   "cell_type": "code",
   "execution_count": 89,
   "metadata": {},
   "outputs": [
    {
     "name": "stdout",
     "output_type": "stream",
     "text": [
      "[1, 2, 3, 4, 5, 6, 7, 8, 9]\n"
     ]
    }
   ],
   "source": [
    "# Flattening a three dimensional array\n",
    "list_of_lists = [[1,2,3],[4,5,6],[7,8,9]]\n",
    "flattened_list = [number for row in list_of_lists for number in row]\n",
    "print(flattened_list)"
   ]
  },
  {
   "cell_type": "code",
   "execution_count": 90,
   "metadata": {},
   "outputs": [
    {
     "data": {
      "text/plain": [
       "['PythonLanguage', 'PythonProgramming', 'CLanguage', 'CProgramming']"
      ]
     },
     "execution_count": 90,
     "metadata": {},
     "output_type": "execute_result"
    }
   ],
   "source": [
    "[x+y for x in ['Python','C'] for y in ['Language','Programming']]"
   ]
  },
  {
   "cell_type": "code",
   "execution_count": 91,
   "metadata": {},
   "outputs": [
    {
     "name": "stdout",
     "output_type": "stream",
     "text": [
      "[0, 10, 20, 30, 40, 50, 60, 70, 80, 90]\n"
     ]
    }
   ],
   "source": [
    "# Nested 'if' with list comprehensions\n",
    "num_list = [y for y in range(100) if(y%2==0) if(y%5==0) ]\n",
    "print(num_list)"
   ]
  },
  {
   "attachments": {},
   "cell_type": "markdown",
   "metadata": {},
   "source": [
    "<font color = yellow><b>Explanation</b></font><br>\n",
    "Here, list comprehension checks:\n",
    "+ Is y divisible by 2 or not ?\n",
    "+ Is y divisible by 5 or not ?<br>\n",
    "> If y satisfies both conditions, y is appended to num_list."
   ]
  },
  {
   "cell_type": "code",
   "execution_count": 92,
   "metadata": {},
   "outputs": [
    {
     "name": "stdout",
     "output_type": "stream",
     "text": [
      "['Even', 'Odd', 'Even', 'Odd', 'Even', 'Odd', 'Even', 'Odd', 'Even', 'Odd']\n"
     ]
    }
   ],
   "source": [
    "# if...else with list comprehension\n",
    "obj = [\"Even\" if i%2==0 else \"Odd\" for i in range(10)]\n",
    "print(obj)"
   ]
  },
  {
   "attachments": {},
   "cell_type": "markdown",
   "metadata": {},
   "source": [
    "<font color = yellow><b>Explanation:</b></font><br>\n",
    "Here, list comprehension will check the 10 minutes from 0 to 9. If i is divisible by 2, then Even is appended to the obj list. If not, Odd is appended."
   ]
  },
  {
   "attachments": {},
   "cell_type": "markdown",
   "metadata": {},
   "source": [
    "<font color = yellow><b>1.4 List Comprehensions Vs Lambda function:</b></font><br>\n",
    "List comprehensions aren't the only way to work on lists. Various built-in functions and lambda functions can create and modify lists in less lines of code."
   ]
  },
  {
   "attachments": {},
   "cell_type": "markdown",
   "metadata": {},
   "source": [
    "<font color = yellow><b>1.4.1 Creating a Lambda Function</b></font><br>\n",
    "To create a lambda function we use lambda keyword followed by a parameter(s), followed by an expression. See the syntax and the example below. Lambda function does not use return but it explicitly returns the expression.<br>\n",
    "<b>Syntax</b>"
   ]
  },
  {
   "cell_type": "code",
   "execution_count": 93,
   "metadata": {},
   "outputs": [],
   "source": [
    "# x = lambda param1, param2, param3: param1+param2+param3\n",
    "# print(x(arg1,arg2,arg3))"
   ]
  },
  {
   "cell_type": "code",
   "execution_count": 94,
   "metadata": {},
   "outputs": [
    {
     "name": "stdout",
     "output_type": "stream",
     "text": [
      "5\n"
     ]
    }
   ],
   "source": [
    "# Name function\n",
    "def add_two_nums(a,b):\n",
    "  return a+b\n",
    "print(add_two_nums(2,3))"
   ]
  },
  {
   "attachments": {},
   "cell_type": "markdown",
   "metadata": {},
   "source": [
    "Let change the above function to a lambda function"
   ]
  },
  {
   "cell_type": "code",
   "execution_count": 95,
   "metadata": {},
   "outputs": [
    {
     "name": "stdout",
     "output_type": "stream",
     "text": [
      "5\n"
     ]
    }
   ],
   "source": [
    "add_two_nums = lambda a,b:a+b\n",
    "print(add_two_nums(2,3))"
   ]
  },
  {
   "cell_type": "code",
   "execution_count": 96,
   "metadata": {},
   "outputs": [
    {
     "data": {
      "text/plain": [
       "5"
      ]
     },
     "execution_count": 96,
     "metadata": {},
     "output_type": "execute_result"
    }
   ],
   "source": [
    "# self invoking lambda function\n",
    "(lambda a,b: a+b)(2,3)"
   ]
  },
  {
   "cell_type": "code",
   "execution_count": 97,
   "metadata": {},
   "outputs": [
    {
     "name": "stdout",
     "output_type": "stream",
     "text": [
      "9\n",
      "27\n"
     ]
    }
   ],
   "source": [
    "square = lambda x : x**2\n",
    "print(square(3))\n",
    "\n",
    "cube = lambda x : x**3\n",
    "print(cube(3))"
   ]
  },
  {
   "cell_type": "code",
   "execution_count": 98,
   "metadata": {},
   "outputs": [
    {
     "name": "stdout",
     "output_type": "stream",
     "text": [
      "22\n"
     ]
    }
   ],
   "source": [
    "# multiple variables \n",
    "multiple_variables = lambda a,b,c : a**2-3*b+4*c\n",
    "print(multiple_variables(5,5,3))"
   ]
  },
  {
   "cell_type": "code",
   "execution_count": 99,
   "metadata": {},
   "outputs": [
    {
     "name": "stdout",
     "output_type": "stream",
     "text": [
      "8\n",
      "16\n"
     ]
    }
   ],
   "source": [
    "# Lambda function inside another function\n",
    "def power(x):\n",
    "  return lambda n : x**n\n",
    "cube = power(2)(3)\n",
    "print(cube)\n",
    "two_power_of_five = power(2)(4)\n",
    "print(two_power_of_five)"
   ]
  },
  {
   "cell_type": "code",
   "execution_count": 101,
   "metadata": {},
   "outputs": [
    {
     "name": "stdout",
     "output_type": "stream",
     "text": [
      "['p', 'y', 't', 'h', 'o', 'n']\n"
     ]
    }
   ],
   "source": [
    "# Using Lambda function inside list\n",
    "letters = list(map(lambda x:x,'python'))\n",
    "print(letters)"
   ]
  },
  {
   "attachments": {},
   "cell_type": "markdown",
   "metadata": {},
   "source": [
    "<font color = yellow><b>Explanation</b></font><br>\n",
    "However, list comprehensions are usaully more human readable than lambda functions. It is easier to understand what the programmer was trying to accomplish when list comprehensions are used."
   ]
  },
  {
   "attachments": {},
   "cell_type": "markdown",
   "metadata": {},
   "source": [
    "<font color = yellow><b>1.5 Nested Loops in List Comprehension</b></font><br>\n",
    "Suppose, we need to complete the transpose of a matrix that requires nested for loop. Let's see how it is done using normal for loop first."
   ]
  },
  {
   "cell_type": "code",
   "execution_count": 102,
   "metadata": {},
   "outputs": [
    {
     "name": "stdout",
     "output_type": "stream",
     "text": [
      "[[1, 5], [2, 6], [3, 8], [4, 9]]\n"
     ]
    }
   ],
   "source": [
    "# transpose of matrix using nested loops\n",
    "transposed = []\n",
    "matrix = [[1,2,3,4],[5,6,8,9]]\n",
    "for i in range(len(matrix[0])):\n",
    "  transposed_row = []\n",
    "  for row in matrix:\n",
    "    transposed_row.append(row[i])\n",
    "  transposed.append(transposed_row)\n",
    "print(transposed)"
   ]
  },
  {
   "attachments": {},
   "cell_type": "markdown",
   "metadata": {},
   "source": [
    "<b><font color = yellow>Explanation:</font></b><br>\n",
    "The above code use two for loops to find transpose of the matrix.<br>We can also perform nested iteration inside a list comprehension. In this section, we will find transpose of a matrix using nested loop inside list comprehension."
   ]
  },
  {
   "cell_type": "code",
   "execution_count": 105,
   "metadata": {},
   "outputs": [
    {
     "name": "stdout",
     "output_type": "stream",
     "text": [
      "[[1, 3, 5, 7], [2, 4, 6, 8]]\n"
     ]
    }
   ],
   "source": [
    "# transpose of a matrix using list comprehensions.\n",
    "matrix = [[1,2],[3,4],[5,6],[7,8]]\n",
    "transpose = [[row[i] for row in matrix] for i in range(2)]\n",
    "print(transpose)"
   ]
  },
  {
   "attachments": {},
   "cell_type": "markdown",
   "metadata": {},
   "source": [
    "<b><font color = yellow>Explanation:</font></b><br>\n",
    "In above program, we have a variable matrix which have 4 rows and 2 columns. We need to find transpose of matrix. For that, we used list comprehension.\n",
    "+ Note: The nested loops in list comprehension don't work like normal nested loops. In the above program, for i in range(2) is executed before row[i] for row in matrix. Hence, at the first a value is assigned to i then item directly by row[i] is appended in the transpose variable."
   ]
  },
  {
   "attachments": {},
   "cell_type": "markdown",
   "metadata": {},
   "source": [
    "<b><font color = yellow>1.6 Key Points to Remember</font></b><br>\n",
    "- List comprehension is an elegant way to define and create lists based on existing lists.\n",
    "- List comprehension is generally more compact and faster than normal functions and loops for creating list.\n",
    "- However, we should avoid writing very long list comprehensions in one line to ensure that code is user-friendly.\n",
    "- Remember, every list comprehension can be written in for loops, but every for loops can't be rewritten in the form of list comprehension."
   ]
  },
  {
   "attachments": {},
   "cell_type": "markdown",
   "metadata": {},
   "source": [
    "<b><font color = yellow>1.7 Exercises List Comprehension</font></b><br>\n",
    "1. Filter only negative and zero in the list using list comprehension.\n",
    "    - numbers = [-4,-3,-2,-1,0,3,6,9,12]"
   ]
  },
  {
   "cell_type": "code",
   "execution_count": 5,
   "metadata": {},
   "outputs": [
    {
     "data": {
      "text/plain": [
       "[-4, -3, -2, -1, 0]"
      ]
     },
     "execution_count": 5,
     "metadata": {},
     "output_type": "execute_result"
    }
   ],
   "source": [
    "numbers = [-4,-3,-2,-1,0,3,6,9,12]\n",
    "NonNegative = [i for i in numbers if i<=0]\n",
    "NonNegative"
   ]
  },
  {
   "attachments": {},
   "cell_type": "markdown",
   "metadata": {},
   "source": [
    "2. Flatten the following list of lists to a one dimensional list:\n",
    "    + \"py_list_of_lists = [[[1,2,3]],[[4,5,6]],[[7,8,9]]]\" "
   ]
  },
  {
   "cell_type": "code",
   "execution_count": 11,
   "metadata": {},
   "outputs": [
    {
     "name": "stdout",
     "output_type": "stream",
     "text": [
      "[1, 2, 3, 4, 5, 6, 7, 8, 9]\n"
     ]
    }
   ],
   "source": [
    "py_list_of_lists = [[[1,2,3],[4,5,6],[7,8,9]]]\n",
    "flattened_list = [num for row in py_list_of_lists for num in row]\n",
    "Arrangement = [flattened_list for num in flattened_list for flattened_list in num]\n",
    "print(Arrangement)"
   ]
  },
  {
   "attachments": {},
   "cell_type": "markdown",
   "metadata": {},
   "source": [
    "$ 3. $ $ Using $ $ list $ $ comprehension $ $ create $ $ the $ $ following $ $ list $ $ of $ $ tuples: $ \n",
    "  + [(0,1,0,0,0,0,0)]<br>\n",
    "   ,(1,1,1,1,1,1,1),<br>\n",
    "    (2,1,2,4,8,16,32),<br>\n",
    "    (3,1,3,9,27,81,243),<br>\n",
    "    (4,1,4,16,64,256,1024),<br>\n",
    "    (5,1,5,25,125,625,3125),<br>\n",
    "    (6,1,6,36,216,1296,7776),<br>\n",
    "    (7,1,7,49,343,2401,16807),<br>\n",
    "    (8,1,8,64,512,4096,32768),<br>\n",
    "    (9,1,9,81,729,6561,59049),<br>\n",
    "    (10,1,10,100,1000,10000,100000)]\n",
    "  "
   ]
  },
  {
   "cell_type": "code",
   "execution_count": 15,
   "metadata": {},
   "outputs": [
    {
     "data": {
      "text/plain": [
       "[(0, 1, 0, 0, 0, 0, 0),\n",
       " (1, 1, 1, 1, 1, 1, 1),\n",
       " (2, 1, 2, 4, 8, 16, 32),\n",
       " (3, 1, 3, 9, 27, 81, 243),\n",
       " (4, 1, 4, 16, 64, 256, 1024),\n",
       " (5, 1, 5, 25, 125, 625, 3125),\n",
       " (6, 1, 6, 36, 216, 1296, 7776),\n",
       " (7, 1, 7, 49, 343, 2401, 16807),\n",
       " (8, 1, 8, 64, 512, 4096, 32768),\n",
       " (9, 1, 9, 81, 729, 6561, 59049),\n",
       " (10, 1, 10, 100, 1000, 10000, 100000)]"
      ]
     },
     "execution_count": 15,
     "metadata": {},
     "output_type": "execute_result"
    }
   ],
   "source": [
    "num1 = [(i,1,i,i**2,i**3,i**4,i**5) for i in range(11)]\n",
    "num1"
   ]
  },
  {
   "attachments": {},
   "cell_type": "markdown",
   "metadata": {},
   "source": [
    "4. Flatten the following list to a new list:\n",
    "    + countries = [[('INDIA','MUMBAI')],[('CHINA','SHANGHAI')],[('FINLAND','TAMPERE')]]<br>\n",
    ">. Output:<br>\n",
    "FlattenList = [['INDIA','IN','MUMBAI'],['CHINA','CH','SHANGHAI'],['FINLAND','FI','TAMPERE']]  "
   ]
  },
  {
   "cell_type": "code",
   "execution_count": 63,
   "metadata": {},
   "outputs": [
    {
     "name": "stdout",
     "output_type": "stream",
     "text": [
      "['INDIA', 'IN', 'MUMBAI', 'CHINA', 'CH', 'SHANGHAI', 'FINLAND', 'FIN', 'TAMPERE']\n"
     ]
    }
   ],
   "source": [
    "import itertools\n",
    "countries = [[('INDIA','MUMBAI')],[('CHINA','SHANGHAI')],[('FINLAND','TAMPERE')]]\n",
    "FlattenList1 = list(itertools.chain(*countries))\n",
    "FlattenList2 = list(itertools.chain(*FlattenList1))\n",
    "FlattenList2.insert(1,'IN')\n",
    "FlattenList2.insert(4,'CH')\n",
    "FlattenList2.insert(7,'FIN')\n",
    "print(FlattenList2)"
   ]
  },
  {
   "attachments": {},
   "cell_type": "markdown",
   "metadata": {},
   "source": [
    "<b>5. Change the following list to a list of dictionaries:</b><br>\n",
    "    + countries = [[('Indian','Mumbai')],[('China','Shanghai')],[('Finland','Tampere')]]\n",
    ">. Output:<br>\n",
    "[{'country':'INDIA','city':'MUMBAI'},<br>\n",
    " {'country':'CHINA','city':'SHANGHAI'},<br>\n",
    " {'country':'FINLAND','city':'TAMPERE'}]"
   ]
  },
  {
   "cell_type": "code",
   "execution_count": 66,
   "metadata": {},
   "outputs": [
    {
     "data": {
      "text/plain": [
       "['INDIA', 'MUMBAI', 'CHINA', 'SHANGHAI', 'FINLAND', 'TAMPERE']"
      ]
     },
     "execution_count": 66,
     "metadata": {},
     "output_type": "execute_result"
    }
   ],
   "source": [
    "countries = [[('INDIA','MUMBAI')],[('CHINA','SHANGHAI')],[('FINLAND','TAMPERE')]]\n",
    "FlattenList1 = list(itertools.chain(*countries))\n",
    "FlattenList2 = list(itertools.chain(*FlattenList1))\n",
    "FlattenList2"
   ]
  },
  {
   "cell_type": "code",
   "execution_count": 71,
   "metadata": {},
   "outputs": [
    {
     "name": "stdout",
     "output_type": "stream",
     "text": [
      "{'country1': 'INDIA', 'city1': 'MUMBAI', 'country2': 'CHINA', 'city2': 'SHANGHAI', 'country3': 'FINLAND', 'cit3': 'TAMPERE'}\n"
     ]
    }
   ],
   "source": [
    "key = ['country1','city1','country2','city2','country3','cit3']\n",
    "value = ['INDIA', 'MUMBAI', 'CHINA', 'SHANGHAI', 'FINLAND', 'TAMPERE']\n",
    "dct = zip(key,value)\n",
    "dictionary = dict(dct)\n",
    "print(dictionary)"
   ]
  },
  {
   "attachments": {},
   "cell_type": "markdown",
   "metadata": {},
   "source": [
    "6. Change the following list of lists to a list of concatenated strings:<br>\n",
    "    + names = [[('Milann','Parmar')],[('Arthur','Curry')],[('Bill','Gates')],[('Ethan','Hunt')]]<br>\n",
    ">. output<br>\n",
    ">. ['Milaan Parmar', 'Arthur Curry', 'Bill Gates', 'Ethan Hunt']"
   ]
  },
  {
   "cell_type": "code",
   "execution_count": 134,
   "metadata": {},
   "outputs": [
    {
     "name": "stdout",
     "output_type": "stream",
     "text": [
      "['Milann', 'Parmar', 'Arthur', 'Curry', 'Bill', 'Gates', 'Ethan', 'Hunt']\n"
     ]
    }
   ],
   "source": [
    "import itertools\n",
    "names = [[('Milann','Parmar')],[('Arthur','Curry')],[('Bill','Gates')],[('Ethan','Hunt')]]\n",
    "Names1 = list(itertools.chain(*names))\n",
    "Names2 = list(itertools.chain(*Names1))\n",
    "print(Names2)"
   ]
  },
  {
   "cell_type": "code",
   "execution_count": 135,
   "metadata": {},
   "outputs": [
    {
     "name": "stdout",
     "output_type": "stream",
     "text": [
      "['MilannParmar', 'ArthurCurry', 'BillGates', 'EthanHunt']\n"
     ]
    }
   ],
   "source": [
    "Names2[0] += Names2[1]\n",
    "Names2[1] = Names2[2] + Names2[3]\n",
    "Names2[2] = Names2[4] + Names2[5]\n",
    "Names2[3] = Names2[6] + Names2[7]\n",
    "Names2\n",
    "Names2.remove('Bill')\n",
    "Names2.remove('Gates')\n",
    "Names2.remove('Ethan')\n",
    "Names2.remove('Hunt')\n",
    "print(Names2)"
   ]
  },
  {
   "attachments": {},
   "cell_type": "markdown",
   "metadata": {},
   "source": [
    "7. Write a lambda function which can solve a slope or y-intercept of linear function."
   ]
  },
  {
   "cell_type": "code",
   "execution_count": 136,
   "metadata": {},
   "outputs": [
    {
     "name": "stdout",
     "output_type": "stream",
     "text": [
      "0.5\n"
     ]
    }
   ],
   "source": [
    "slope = lambda x1,y1,x2,y2:(x2-x1)/(y2-y1)\n",
    "print(slope(0,-1,4,7))"
   ]
  }
 ],
 "metadata": {
  "kernelspec": {
   "display_name": "Python 3",
   "language": "python",
   "name": "python3"
  },
  "language_info": {
   "codemirror_mode": {
    "name": "ipython",
    "version": 3
   },
   "file_extension": ".py",
   "mimetype": "text/x-python",
   "name": "python",
   "nbconvert_exporter": "python",
   "pygments_lexer": "ipython3",
   "version": "3.9.7"
  },
  "orig_nbformat": 4
 },
 "nbformat": 4,
 "nbformat_minor": 2
}
