{
 "cells": [
  {
   "attachments": {},
   "cell_type": "markdown",
   "metadata": {},
   "source": [
    "<p style = \"text-align:center\"><b><font color = blue><font size = 5>006_Python_while_Loop</font></font></b>"
   ]
  },
  {
   "attachments": {},
   "cell_type": "markdown",
   "metadata": {},
   "source": [
    "<b>1. Loops in Python<br></b>\n",
    "Loops in python are used to repeatly execute a block of statement until reach to a given condition return to be false. There are two main types of loops:\n",
    "+ while loop\n",
    "+ for loop\n"
   ]
  },
  {
   "attachments": {},
   "cell_type": "markdown",
   "metadata": {},
   "source": [
    "<b>2. Python while Loop"
   ]
  },
  {
   "attachments": {},
   "cell_type": "markdown",
   "metadata": {},
   "source": [
    "2.1 What is while loop in python ?<br>\n",
    "While loop is the repeatly execution by using syntax below : \n",
    "  + initialize value condition\n",
    "  + while x<></br"
   ]
  },
  {
   "attachments": {},
   "cell_type": "markdown",
   "metadata": {},
   "source": [
    "2.2 Why and when we use while loop in python ?\n",
    "+ automate and repeat tasks\n",
    "+ indefinite iteration\n",
    "+ reduce complexity \n",
    "+ infinite loops"
   ]
  },
  {
   "cell_type": "code",
   "execution_count": 2,
   "metadata": {},
   "outputs": [
    {
     "name": "stdout",
     "output_type": "stream",
     "text": [
      "1\n",
      "2\n",
      "3\n",
      "4\n"
     ]
    }
   ],
   "source": [
    "# Example 01 : printing number less than 6\n",
    "count = 1\n",
    "while count<5:\n",
    "  print(count)\n",
    "  count = count + 1"
   ]
  },
  {
   "cell_type": "code",
   "execution_count": 3,
   "metadata": {},
   "outputs": [
    {
     "name": "stdout",
     "output_type": "stream",
     "text": [
      "Sum of first 10 numbers is :  55\n"
     ]
    }
   ],
   "source": [
    "# Ex02 : sum first 10 numbers\n",
    "num = 10 \n",
    "sum = 0\n",
    "i = 1\n",
    "while i<= num:\n",
    "  sum = sum + i\n",
    "  i = i + 1\n",
    "print(\"Sum of first 10 numbers is : \",sum)"
   ]
  },
  {
   "cell_type": "code",
   "execution_count": 4,
   "metadata": {},
   "outputs": [
    {
     "name": "stdout",
     "output_type": "stream",
     "text": [
      "Value of a is  10\n",
      "Value of a is  8\n",
      "Value of a is  6\n",
      "Value of a is  4\n",
      "Value of a is  2\n",
      "Loop is completed\n"
     ]
    }
   ],
   "source": [
    "# Ex03 : \n",
    "a = 10\n",
    "while a>0:\n",
    "  print((\"Value of a is \"),a)\n",
    "  a = a - 2\n",
    "print(\"Loop is completed\")\n",
    "  "
   ]
  },
  {
   "cell_type": "code",
   "execution_count": 6,
   "metadata": {},
   "outputs": [
    {
     "name": "stdout",
     "output_type": "stream",
     "text": [
      "9.999999999999998\n"
     ]
    }
   ],
   "source": [
    "# Ex04: sum the numbe remainder divided by 10 between 1 to 153\n",
    "n = 153\n",
    "sum = 0\n",
    "\n",
    "while n>0:\n",
    "  r = n%10\n",
    "  sum += r\n",
    "  n = n/10\n",
    "print(sum)"
   ]
  },
  {
   "cell_type": "code",
   "execution_count": 8,
   "metadata": {},
   "outputs": [
    {
     "name": "stdout",
     "output_type": "stream",
     "text": [
      "Total iteration required 3\n"
     ]
    }
   ],
   "source": [
    "# Ex05 : how many times a given number can be divided by 3 before it is <= 10.\n",
    "count = 0\n",
    "number = 180\n",
    "while number > 10:\n",
    "  number = number/3\n",
    "  count = count + 1\n",
    "print(\"Total iteration required\",count)"
   ]
  },
  {
   "cell_type": "code",
   "execution_count": 9,
   "metadata": {},
   "outputs": [
    {
     "name": "stdout",
     "output_type": "stream",
     "text": [
      "The sum is 55\n"
     ]
    }
   ],
   "source": [
    "# Ex06 : add natural number up to sum = 1+2+...+n\n",
    "n = 10\n",
    "sum = 0\n",
    "i = 1\n",
    " \n",
    "while i<=n:\n",
    "  sum = sum+i\n",
    "  i = i+ 1\n",
    "print(f\"The sum is {sum}\")"
   ]
  },
  {
   "cell_type": "code",
   "execution_count": 10,
   "metadata": {},
   "outputs": [
    {
     "name": "stdout",
     "output_type": "stream",
     "text": [
      "1 1 2 3 5 8 13 21 34 55 89 144 233 377 610 987 \n"
     ]
    }
   ],
   "source": [
    "# Ex07 : fibonacci series\n",
    "a,b = 0,1\n",
    "while b<1000:\n",
    "  print(b,end=' ',flush=True)\n",
    "  a,b = b, a+b\n",
    "print()"
   ]
  },
  {
   "attachments": {},
   "cell_type": "markdown",
   "metadata": {},
   "source": [
    "2.3 While loop with if-else"
   ]
  },
  {
   "cell_type": "code",
   "execution_count": 16,
   "metadata": {},
   "outputs": [
    {
     "name": "stdout",
     "output_type": "stream",
     "text": [
      "9 is an odd number\n",
      "8 is an even number\n",
      "7 is an odd number\n",
      "6 is an even number\n",
      "5 is an odd number\n",
      "4 is an even number\n",
      "3 is an odd number\n",
      "2 is an even number\n",
      "1 is an odd number\n"
     ]
    }
   ],
   "source": [
    "# Ex01 : displaying number between odd to entered number.\n",
    "n = int(input('Please enter number : '))\n",
    "while n>0:\n",
    "  if n%2==0:\n",
    "    print(n,'is an even number')\n",
    "  else:\n",
    "    print(n,\"is an odd number\")\n",
    "  n = n-1"
   ]
  },
  {
   "cell_type": "code",
   "execution_count": null,
   "metadata": {},
   "outputs": [],
   "source": [
    "# Ex02: printting the square of odd numbers less than n.\n",
    "n = 10\n",
    "i = 1\n",
    "while i<n:\n",
    "  if(i%2!=0):\n",
    "    print(i**2)\n",
    "    i+=1\n",
    "  else:\n",
    "    print(i)\n",
    "    i+=1"
   ]
  },
  {
   "cell_type": "code",
   "execution_count": 12,
   "metadata": {},
   "outputs": [
    {
     "name": "stdout",
     "output_type": "stream",
     "text": [
      "The sum is  30\n"
     ]
    }
   ],
   "source": [
    "# Ex03 : add all even numbers from 1 to 10 using while loop\n",
    "n = 10\n",
    "sum = 0\n",
    "i = 0\n",
    "while i<=n:\n",
    "  if i%2==0:\n",
    "    sum = sum + i\n",
    "  i = i+1\n",
    "print('The sum is ',sum)"
   ]
  },
  {
   "cell_type": "code",
   "execution_count": 13,
   "metadata": {},
   "outputs": [
    {
     "name": "stdout",
     "output_type": "stream",
     "text": [
      "17\n",
      "19\n",
      "23\n",
      "29\n",
      "31\n",
      "37\n",
      "41\n",
      "43\n",
      "47\n",
      "53\n",
      "THe total sum is  340\n"
     ]
    }
   ],
   "source": [
    "# Ex04: write a code to add all the prime numbers between 17 to 53.\n",
    "sum = 0\n",
    "for i in range(17,54):\n",
    "  k=2\n",
    "  if i>=2:\n",
    "    while i%k!=0:\n",
    "      k+=1\n",
    "    if i==k:\n",
    "      sum += i\n",
    "      print(i)\n",
    "print(\"THe total sum is \",sum)"
   ]
  },
  {
   "attachments": {},
   "cell_type": "markdown",
   "metadata": {},
   "source": [
    "2.4 While loop with else<br>\n",
    "A while loop can have an optional else block. The lse part execute or reading research journal paper.<br>\n",
    "The else  will be skpped/ignored when : \n",
    "+ while loop terminated abruptly\n",
    "+ break statement is used to break the while loop."
   ]
  },
  {
   "cell_type": "code",
   "execution_count": 17,
   "metadata": {},
   "outputs": [
    {
     "name": "stdout",
     "output_type": "stream",
     "text": [
      "0\n",
      "1\n",
      "2\n",
      "3\n",
      "4\n",
      "5\n"
     ]
    }
   ],
   "source": [
    "count = 0\n",
    "while count <5:\n",
    "  print(count)\n",
    "  count = count + 1\n",
    "else:\n",
    "  print(count)"
   ]
  },
  {
   "cell_type": "code",
   "execution_count": 18,
   "metadata": {},
   "outputs": [
    {
     "name": "stdout",
     "output_type": "stream",
     "text": [
      "1\n",
      "2\n",
      "3\n",
      "4\n",
      "5\n",
      "6\n",
      "Done, while loop executed normally\n"
     ]
    }
   ],
   "source": [
    "# Ex01 : printing number from 1 to 6\n",
    "i = 1\n",
    "while i<= 6:\n",
    "  print(i)\n",
    "  i+=1\n",
    "else:\n",
    "  print(\"Done, while loop executed normally\")"
   ]
  },
  {
   "cell_type": "code",
   "execution_count": 20,
   "metadata": {},
   "outputs": [
    {
     "name": "stdout",
     "output_type": "stream",
     "text": [
      "inside while loops\n",
      "inside while loops\n",
      "inside while loops\n",
      "Inside else\n"
     ]
    }
   ],
   "source": [
    "# Ex03 : illustrate the use of else element with the while loop.\n",
    "counter = 0\n",
    "while counter<3:\n",
    "  print(\"inside while loops\")\n",
    "  counter = counter + 1\n",
    "else:\n",
    "  print(\"Inside else\")"
   ]
  },
  {
   "cell_type": "code",
   "execution_count": 21,
   "metadata": {},
   "outputs": [
    {
     "name": "stdout",
     "output_type": "stream",
     "text": [
      "Given number is correct 555\n"
     ]
    }
   ],
   "source": [
    "# Ex04 : get input the number from user between 100 to 600. \n",
    "number = int(input('Enter number : '))\n",
    "while number<100 or number>600:\n",
    "  print('Incorrect number, please enter correct number.')\n",
    "  number = int(input('Enter a number between 100 to 600'))\n",
    "else:\n",
    "  print('Given number is correct',number)"
   ]
  },
  {
   "attachments": {},
   "cell_type": "markdown",
   "metadata": {},
   "source": [
    "2.5. Using Control Statement in while loops in python"
   ]
  },
  {
   "attachments": {},
   "cell_type": "markdown",
   "metadata": {},
   "source": [
    "a.) break in while loop"
   ]
  },
  {
   "cell_type": "code",
   "execution_count": 22,
   "metadata": {},
   "outputs": [
    {
     "name": "stdout",
     "output_type": "stream",
     "text": [
      "0\n",
      "1\n",
      "2\n"
     ]
    }
   ],
   "source": [
    "# Ex01\n",
    "count = 0\n",
    "while count<5:\n",
    "  print(count)\n",
    "  count += 1\n",
    "  if count==3:\n",
    "    break"
   ]
  },
  {
   "cell_type": "code",
   "execution_count": 23,
   "metadata": {},
   "outputs": [
    {
     "name": "stdout",
     "output_type": "stream",
     "text": [
      "60\n",
      "HelloWorld\n",
      "90.45\n"
     ]
    }
   ],
   "source": [
    "# Ex02:\n",
    "list = [60,'HelloWorld',90.45,50,67,23,\"Python\"]\n",
    "i = 0\n",
    "while(i<6):\n",
    "  print(list[i])\n",
    "  i+=1\n",
    "  if(i==3): break"
   ]
  },
  {
   "cell_type": "code",
   "execution_count": 33,
   "metadata": {},
   "outputs": [
    {
     "name": "stdout",
     "output_type": "stream",
     "text": [
      "A l a n "
     ]
    }
   ],
   "source": [
    "# Ex03: Display each character from a string and if a character is number then stop the loop.\n",
    "name = 'Alan99White'\n",
    "size = len(name)\n",
    "i = 0\n",
    "while i<size:\n",
    "  if name[i].isdecimal():\n",
    "    break;\n",
    "  print(name[i],end=' ')\n",
    "  i = i+1"
   ]
  },
  {
   "attachments": {},
   "cell_type": "markdown",
   "metadata": {},
   "source": [
    "2.5.2.) Continue in while loop"
   ]
  },
  {
   "cell_type": "code",
   "execution_count": 35,
   "metadata": {},
   "outputs": [
    {
     "name": "stdout",
     "output_type": "stream",
     "text": [
      "0\n",
      "1\n",
      "2\n"
     ]
    },
    {
     "ename": "KeyboardInterrupt",
     "evalue": "",
     "output_type": "error",
     "traceback": [
      "\u001b[1;31m---------------------------------------------------------------------------\u001b[0m",
      "\u001b[1;31mKeyboardInterrupt\u001b[0m                         Traceback (most recent call last)",
      "Cell \u001b[1;32mIn[35], line 3\u001b[0m\n\u001b[0;32m      1\u001b[0m \u001b[39m# Ex01:\u001b[39;00m\n\u001b[0;32m      2\u001b[0m count \u001b[39m=\u001b[39m \u001b[39m0\u001b[39m\n\u001b[1;32m----> 3\u001b[0m \u001b[39mwhile\u001b[39;00m count\u001b[39m<\u001b[39m\u001b[39m5\u001b[39m:\n\u001b[0;32m      4\u001b[0m   \u001b[39mif\u001b[39;00m count\u001b[39m==\u001b[39m\u001b[39m3\u001b[39m:\n\u001b[0;32m      5\u001b[0m     \u001b[39mcontinue\u001b[39;00m\n",
      "\u001b[1;31mKeyboardInterrupt\u001b[0m: "
     ]
    }
   ],
   "source": [
    "# Ex01:\n",
    "count = 0\n",
    "while count<5:\n",
    "  if count==3:\n",
    "    continue\n",
    "  else:\n",
    "    print(count)\n",
    "    count = count + 1"
   ]
  },
  {
   "cell_type": "code",
   "execution_count": 36,
   "metadata": {},
   "outputs": [
    {
     "name": "stdout",
     "output_type": "stream",
     "text": [
      "1\n",
      "3\n",
      "5\n",
      "7\n",
      "9\n"
     ]
    }
   ],
   "source": [
    "# Ex02 : Printing odd number less than n\n",
    "n = 10\n",
    "i = 1\n",
    "while i<n:\n",
    "  if(i%2==0):\n",
    "    i=i+1\n",
    "    continue\n",
    "  else:\n",
    "    print(i)\n",
    "    i = i+1"
   ]
  },
  {
   "cell_type": "code",
   "execution_count": 40,
   "metadata": {},
   "outputs": [
    {
     "name": "stdout",
     "output_type": "stream",
     "text": [
      "A l a n W h i t e "
     ]
    }
   ],
   "source": [
    "# Ex03 : write a while loop to display only alphabet frm a string.\n",
    "name = 'Alan99White'\n",
    "size = len(name)\n",
    "i = -1\n",
    "\n",
    "while i<size-1:\n",
    "  i=i+1\n",
    "  if not name[i].isalpha():\n",
    "    continue\n",
    "  print(name[i],end=' ')"
   ]
  },
  {
   "attachments": {},
   "cell_type": "markdown",
   "metadata": {},
   "source": [
    "2.5.3) c) pass in while loops"
   ]
  },
  {
   "cell_type": "code",
   "execution_count": 41,
   "metadata": {},
   "outputs": [],
   "source": [
    "# Ex01:\n",
    "n = 4\n",
    "while n>0:\n",
    "  n = n-1\n",
    "  pass"
   ]
  },
  {
   "attachments": {},
   "cell_type": "markdown",
   "metadata": {},
   "source": [
    "2.6) Reverse while loop<br>\n",
    "A reverse loop means an iterating loop in the backward direction. A simple example includes:\n",
    "+ Display number from 10 to 1\n",
    "+ Reverse a string or list"
   ]
  },
  {
   "cell_type": "code",
   "execution_count": 43,
   "metadata": {},
   "outputs": [
    {
     "name": "stdout",
     "output_type": "stream",
     "text": [
      "10 9 8 7 6 5 4 3 2 1 0 "
     ]
    }
   ],
   "source": [
    "# Ex01 Reverse a while loop to display number from 10 to 1\n",
    "# reverse while loop\n",
    "i = 10\n",
    "while i>=0:\n",
    "  print(i,end=' ')\n",
    "  i = i-1"
   ]
  },
  {
   "attachments": {},
   "cell_type": "markdown",
   "metadata": {},
   "source": [
    "2.7) Nested while loops"
   ]
  },
  {
   "cell_type": "code",
   "execution_count": 45,
   "metadata": {},
   "outputs": [
    {
     "name": "stdout",
     "output_type": "stream",
     "text": [
      "12345678910\n",
      "12345678910\n",
      "12345678910\n"
     ]
    }
   ],
   "source": [
    "# Ex01\n",
    "i = 1\n",
    "while i<=3:\n",
    "  j = 1\n",
    "  while j<=10:\n",
    "    print(j,end='')\n",
    "    j = j+1\n",
    "  i = i+1\n",
    "  print()"
   ]
  },
  {
   "cell_type": "code",
   "execution_count": 47,
   "metadata": {},
   "outputs": [
    {
     "name": "stdout",
     "output_type": "stream",
     "text": [
      "* \n",
      "* * \n",
      "* * * \n",
      "* * * * \n",
      "* * * * * \n"
     ]
    }
   ],
   "source": [
    "# Ex02\n",
    "i = 1\n",
    "while i<6:\n",
    "  for j in range(1,i+1):\n",
    "    print(\"*\",end=' ')\n",
    "  print('')\n",
    "  i = i+1"
   ]
  },
  {
   "cell_type": "code",
   "execution_count": 48,
   "metadata": {},
   "outputs": [
    {
     "name": "stdout",
     "output_type": "stream",
     "text": [
      "17\n",
      "19\n",
      "23\n",
      "29\n",
      "31\n",
      "37\n",
      "41\n",
      "43\n",
      "47\n",
      "53\n",
      "The total sum is 340\n"
     ]
    }
   ],
   "source": [
    "# Ex03: write a code to add all the prime numbers between 17 to 53 using while loop\n",
    "n = 17\n",
    "sum = 0\n",
    "while n<=53:\n",
    "  for i in range(2,n):\n",
    "    if(n%i)==0:\n",
    "      break\n",
    "    else:\n",
    "      i = i+1\n",
    "  else:\n",
    "    sum = sum+n\n",
    "    print(n)\n",
    "  n = n+1\n",
    "print('The total sum is',sum)"
   ]
  },
  {
   "cell_type": "code",
   "execution_count": 49,
   "metadata": {},
   "outputs": [
    {
     "name": "stdout",
     "output_type": "stream",
     "text": [
      "Show perfect number from 1 to 100\n",
      "perfect number : 6\n",
      "perfect number : 28\n"
     ]
    }
   ],
   "source": [
    "# Ex04\n",
    "print('Show perfect number from 1 to 100')\n",
    "n =2\n",
    "while n<=100:\n",
    "  x_sum = 0\n",
    "  for i in range(1,n):\n",
    "    if n%i ==0:\n",
    "      x_sum += i\n",
    "  if x_sum==n:\n",
    "    print('perfect number :',n)\n",
    "  n+=1"
   ]
  },
  {
   "attachments": {},
   "cell_type": "markdown",
   "metadata": {},
   "source": [
    "2.8) Iterate String using while loop"
   ]
  },
  {
   "cell_type": "code",
   "execution_count": 50,
   "metadata": {},
   "outputs": [
    {
     "name": "stdout",
     "output_type": "stream",
     "text": [
      "A\n",
      "l\n",
      "a\n",
      "n\n"
     ]
    }
   ],
   "source": [
    "# Ex01\n",
    "name = \"Alan\"\n",
    "i = 0\n",
    "res = len(name)-1\n",
    "while i<= res:\n",
    "  print(name[i])\n",
    "  i = i+1"
   ]
  },
  {
   "attachments": {},
   "cell_type": "markdown",
   "metadata": {},
   "source": [
    "2.9 Iterate List using while loop"
   ]
  },
  {
   "cell_type": "code",
   "execution_count": 51,
   "metadata": {},
   "outputs": [
    {
     "name": "stdout",
     "output_type": "stream",
     "text": [
      "1\n",
      "2\n",
      "3\n",
      "6\n",
      "9\n"
     ]
    }
   ],
   "source": [
    "# Ex01: use while loop to iterate over list\n",
    "numbers = [1,2,3,6,9]\n",
    "size = len(numbers)\n",
    "i = 0\n",
    "while i<size:\n",
    "  print(numbers[i])\n",
    "  i = i+1"
   ]
  },
  {
   "cell_type": "code",
   "execution_count": 53,
   "metadata": {},
   "outputs": [
    {
     "name": "stdout",
     "output_type": "stream",
     "text": [
      "60\n",
      "HelloWorld\n"
     ]
    }
   ],
   "source": [
    "# Ex02: printing the first two elemnt of a list\n",
    "list = [60,'HelloWorld',90.96]\n",
    "i = 0\n",
    "while(i<2):\n",
    "  print(list[i])\n",
    "  i = i+1"
   ]
  },
  {
   "attachments": {},
   "cell_type": "markdown",
   "metadata": {},
   "source": [
    "2.10) Iterate Numbers using while loop"
   ]
  },
  {
   "cell_type": "code",
   "execution_count": 54,
   "metadata": {},
   "outputs": [
    {
     "name": "stdout",
     "output_type": "stream",
     "text": [
      "1\n",
      "4\n",
      "9\n",
      "16\n",
      "25\n",
      "36\n",
      "49\n",
      "64\n",
      "81\n",
      "100\n"
     ]
    }
   ],
   "source": [
    "# Ex01: printing the square of numbers less than n\n",
    "i = 1\n",
    "while(i<=10):\n",
    "  print(i**2)\n",
    "  i = i+1"
   ]
  },
  {
   "cell_type": "code",
   "execution_count": 55,
   "metadata": {},
   "outputs": [
    {
     "name": "stdout",
     "output_type": "stream",
     "text": [
      "1\n",
      "8\n",
      "27\n",
      "64\n",
      "125\n",
      "216\n",
      "343\n",
      "512\n",
      "729\n"
     ]
    }
   ],
   "source": [
    "# Ex02:\n",
    "i = 1\n",
    "while(i<10):\n",
    "  print(i*i*i)\n",
    "  i = i+1"
   ]
  },
  {
   "cell_type": "code",
   "execution_count": 56,
   "metadata": {},
   "outputs": [
    {
     "name": "stdout",
     "output_type": "stream",
     "text": [
      "1\n",
      "4\n",
      "Loop over\n"
     ]
    }
   ],
   "source": [
    "i = 1\n",
    "while i<3:\n",
    "  print(i**2)\n",
    "  i += 1\n",
    "print('Loop over')"
   ]
  },
  {
   "attachments": {},
   "cell_type": "markdown",
   "metadata": {},
   "source": [
    "2.11.) While loop in Python FAQs"
   ]
  },
  {
   "attachments": {},
   "cell_type": "markdown",
   "metadata": {},
   "source": [
    "1.) A while loop in python is used for what type of iteration ?<br>\n",
    "=> A while loop is deal for iteration when the number of iteration is unknown. Also, it is deal to use a while loop when you have a condition that needs to be satisfied."
   ]
  },
  {
   "attachments": {},
   "cell_type": "markdown",
   "metadata": {},
   "source": [
    "2.) Why does infinite while loop occur in Python ?<br>\n",
    "=> A loop becomes an infinite loop is the while condition never becomes False such a loop that never terminates is called in infinite loop."
   ]
  },
  {
   "attachments": {},
   "cell_type": "markdown",
   "metadata": {},
   "source": [
    "3.) Is there a do while loop in Python ?<br>\n",
    "=> There has no do-while loop in pyton."
   ]
  },
  {
   "attachments": {},
   "cell_type": "markdown",
   "metadata": {},
   "source": [
    "4.) How do you break a while loop in Python ?<br>\n",
    "=> Usaully, the control statements like break, continue, etc to break out of the while loop or break of the particular iterations of the while loop."
   ]
  },
  {
   "attachments": {},
   "cell_type": "markdown",
   "metadata": {},
   "source": [
    "5.) How to write an empty while function in Python ?<br>\n",
    "=> You can write an empty while function in Python using the pass statements. Here is how you can write it.<br>\n",
    ">>> i = 0 <br>\n",
    ">>> while(i<10):<br>\n",
    ">>> pass<br>"
   ]
  },
  {
   "attachments": {},
   "cell_type": "markdown",
   "metadata": {},
   "source": [
    "<p style = \"text-align:center\"><b><font color = blue><font size = 5>001_Python_Functions<br>March 9 2023</font></font></b>"
   ]
  },
  {
   "attachments": {},
   "cell_type": "markdown",
   "metadata": {},
   "source": [
    "<b>1. Python Functions"
   ]
  },
  {
   "attachments": {},
   "cell_type": "markdown",
   "metadata": {},
   "source": [
    "<b>2. What is a function in Python ?<br></b>\n",
    "A function is a block of organized, reussable code with a name that is used to perform a single, specific task. <br>\n",
    "It can take argument and return the value. "
   ]
  },
  {
   "attachments": {},
   "cell_type": "markdown",
   "metadata": {},
   "source": [
    "There are two type of functions such as :<br>\n",
    "+ Built-in function\n",
    "+ User-defined function"
   ]
  },
  {
   "attachments": {},
   "cell_type": "markdown",
   "metadata": {},
   "source": [
    "<b>Built-in functions:</b>\n",
    "+ range()\n",
    "+ input()\n",
    "+ print()\n",
    "+ type()\n",
    "+ eval()\n",
    "+ ......"
   ]
  },
  {
   "attachments": {},
   "cell_type": "markdown",
   "metadata": {},
   "source": [
    "<b>User-defined function</b>\n",
    "Functions which are created by programmer explicitly according to the requirement are called a user-defined function."
   ]
  },
  {
   "attachments": {},
   "cell_type": "markdown",
   "metadata": {},
   "source": [
    "<b>2.2 Defining a function<br></b>\n",
    "+ def : is a keyword that marks the starting of function header.\n",
    "+ name of function\n",
    "+ parameter or argument with specific order position\n",
    "+ \"\"docstring\"\" documentation string is used to describe what the function does.\n",
    "+ return : is used to return the type of value in which we want to display returnback."
   ]
  },
  {
   "attachments": {},
   "cell_type": "markdown",
   "metadata": {},
   "source": [
    "<b>2.3 Defining a function without any parameters</b>"
   ]
  },
  {
   "cell_type": "code",
   "execution_count": 2,
   "metadata": {},
   "outputs": [
    {
     "name": "stdout",
     "output_type": "stream",
     "text": [
      "Welcome to python for data science\n"
     ]
    }
   ],
   "source": [
    "# Ex01\n",
    "def greet():\n",
    "  print(\"Welcome to python for data science\")\n",
    "# calling function\n",
    "greet()"
   ]
  },
  {
   "cell_type": "code",
   "execution_count": 3,
   "metadata": {},
   "outputs": [
    {
     "name": "stdout",
     "output_type": "stream",
     "text": [
      "9\n"
     ]
    }
   ],
   "source": [
    "# Ex02\n",
    "def add_two_numbers():\n",
    "  num_one = 3\n",
    "  num_two = 6\n",
    "  total = num_one+num_two\n",
    "  print(total)\n",
    "  \n",
    "add_two_numbers()"
   ]
  },
  {
   "cell_type": "code",
   "execution_count": 5,
   "metadata": {},
   "outputs": [
    {
     "name": "stdout",
     "output_type": "stream",
     "text": [
      "Milan Parmar\n"
     ]
    }
   ],
   "source": [
    "# Ex03\n",
    "def generate_full_name():\n",
    "  first_name = 'Milan'\n",
    "  last_name = 'Parmar'\n",
    "  space = ' '\n",
    "  full_name = first_name+space+last_name\n",
    "  print(full_name)\n",
    "  \n",
    "generate_full_name()"
   ]
  },
  {
   "attachments": {},
   "cell_type": "markdown",
   "metadata": {},
   "source": [
    "<b>2.4 Defining a function without parameter and return value"
   ]
  },
  {
   "cell_type": "code",
   "execution_count": 7,
   "metadata": {},
   "outputs": [
    {
     "name": "stdout",
     "output_type": "stream",
     "text": [
      "9\n"
     ]
    }
   ],
   "source": [
    "# Ex01\n",
    "def add_two_numbers():\n",
    "  num_one = 3\n",
    "  num_two = 6\n",
    "  total = num_one+num_two\n",
    "  return total\n",
    "  \n",
    "print(add_two_numbers())"
   ]
  },
  {
   "cell_type": "code",
   "execution_count": 8,
   "metadata": {},
   "outputs": [
    {
     "name": "stdout",
     "output_type": "stream",
     "text": [
      "Milan Parmar\n"
     ]
    }
   ],
   "source": [
    "# Ex02\n",
    "def generate_full_name():\n",
    "  first_name = 'Milan'\n",
    "  last_name = 'Parmar'\n",
    "  space = ' '\n",
    "  full_name = first_name+space+last_name\n",
    "  return full_name\n",
    "  \n",
    "print(generate_full_name())"
   ]
  },
  {
   "attachments": {},
   "cell_type": "markdown",
   "metadata": {},
   "source": [
    "<b>2.5 Defining function with parameters"
   ]
  },
  {
   "attachments": {},
   "cell_type": "markdown",
   "metadata": {},
   "source": [
    "<b>2.5.1 Single parameter"
   ]
  },
  {
   "cell_type": "code",
   "execution_count": 9,
   "metadata": {},
   "outputs": [],
   "source": [
    "# Ex01\n",
    "def greet(name):\n",
    "  \"\"\"\n",
    "  This function greets to the person passed in as a parameter\n",
    "  \"\"\"\n",
    "  print('Hello'+name+'. Good morning')"
   ]
  },
  {
   "cell_type": "code",
   "execution_count": 12,
   "metadata": {},
   "outputs": [
    {
     "name": "stdout",
     "output_type": "stream",
     "text": [
      "55\n",
      "None\n",
      "5050\n",
      "None\n"
     ]
    }
   ],
   "source": [
    "# Ex02\n",
    "def sum_of_numbers(n):\n",
    "  total = 0\n",
    "  for i in range(n+1):\n",
    "    total = total + i\n",
    "  print(total)\n",
    "  \n",
    "print(sum_of_numbers(10))\n",
    "print(sum_of_numbers(100))"
   ]
  },
  {
   "attachments": {},
   "cell_type": "markdown",
   "metadata": {},
   "source": [
    "<b>2.5.2 Two parameters"
   ]
  },
  {
   "cell_type": "code",
   "execution_count": 13,
   "metadata": {},
   "outputs": [
    {
     "name": "stdout",
     "output_type": "stream",
     "text": [
      "Hello Arthur Welcome to Python for Data Science\n",
      "Your course name is Python\n"
     ]
    }
   ],
   "source": [
    "# Ex01\n",
    "def course(name,course_name):\n",
    "  print('Hello', name, \"Welcome to Python for Data Science\")\n",
    "  print('Your course name is',course_name)\n",
    "\n",
    "course('Arthur','Python')"
   ]
  },
  {
   "attachments": {},
   "cell_type": "markdown",
   "metadata": {},
   "source": [
    "<b>2.6 Defining a function with parameters and return value"
   ]
  },
  {
   "cell_type": "code",
   "execution_count": 18,
   "metadata": {},
   "outputs": [
    {
     "name": "stdout",
     "output_type": "stream",
     "text": [
      "Milan, welcome to python for data science\n"
     ]
    }
   ],
   "source": [
    "# Ex01\n",
    "def greetings(name):\n",
    "  message = name + ', welcome to python for data science'\n",
    "  return message\n",
    "\n",
    "print(greetings('Milan'))"
   ]
  },
  {
   "cell_type": "code",
   "execution_count": 20,
   "metadata": {},
   "outputs": [
    {
     "name": "stdout",
     "output_type": "stream",
     "text": [
      "100\n"
     ]
    }
   ],
   "source": [
    "# Ex02\n",
    "def add_ten(num):\n",
    "  ten = 10\n",
    "  return num + ten\n",
    "\n",
    "print(add_ten(90))"
   ]
  },
  {
   "cell_type": "code",
   "execution_count": 22,
   "metadata": {},
   "outputs": [
    {
     "name": "stdout",
     "output_type": "stream",
     "text": [
      "9\n"
     ]
    }
   ],
   "source": [
    "# Ex03\n",
    "def square_number(x):\n",
    "  return x*x\n",
    "\n",
    "print(square_number(3))"
   ]
  },
  {
   "cell_type": "code",
   "execution_count": 23,
   "metadata": {},
   "outputs": [
    {
     "name": "stdout",
     "output_type": "stream",
     "text": [
      "314.0\n"
     ]
    }
   ],
   "source": [
    "# Ex04:\n",
    "def area_of_circle(r):\n",
    "  PI = 3.14\n",
    "  area = PI*(r**2)\n",
    "  return area\n",
    "\n",
    "print(area_of_circle(10))  "
   ]
  },
  {
   "cell_type": "code",
   "execution_count": 24,
   "metadata": {},
   "outputs": [
    {
     "name": "stdout",
     "output_type": "stream",
     "text": [
      "Addition : 36\n"
     ]
    }
   ],
   "source": [
    "# Ex05\n",
    "def calculator(a,b):\n",
    "  add = a+b\n",
    "  return add\n",
    "\n",
    "result = calculator(30,6)\n",
    "print('Addition :',result)"
   ]
  },
  {
   "cell_type": "code",
   "execution_count": 25,
   "metadata": {},
   "outputs": [
    {
     "name": "stdout",
     "output_type": "stream",
     "text": [
      "Full Name :  Milaan Parmar\n"
     ]
    }
   ],
   "source": [
    "# Ex06\n",
    "def generate_full_name(first_name,last_name):\n",
    "  space = ' '\n",
    "  full_name = first_name+space+last_name\n",
    "  return full_name\n",
    "  \n",
    "print('Full Name : ',generate_full_name('Milaan','Parmar'))"
   ]
  },
  {
   "cell_type": "code",
   "execution_count": 26,
   "metadata": {},
   "outputs": [
    {
     "name": "stdout",
     "output_type": "stream",
     "text": [
      "Sum of two numbers :  10\n"
     ]
    }
   ],
   "source": [
    "# Ex07\n",
    "def sum_two_numbers(num_one,num_two):\n",
    "  sum = num_one + num_two\n",
    "  return sum\n",
    "\n",
    "print('Sum of two numbers : ',sum_two_numbers(1,9))"
   ]
  },
  {
   "cell_type": "code",
   "execution_count": 27,
   "metadata": {},
   "outputs": [
    {
     "name": "stdout",
     "output_type": "stream",
     "text": [
      "Age :  202\n"
     ]
    }
   ],
   "source": [
    "# Ex08\n",
    "def calculate_age(current_year,birth_year):\n",
    "  age = current_year - birth_year\n",
    "  return age\n",
    "\n",
    "print('Age : ',calculate_age(2021,1819))"
   ]
  },
  {
   "cell_type": "code",
   "execution_count": 29,
   "metadata": {},
   "outputs": [
    {
     "name": "stdout",
     "output_type": "stream",
     "text": [
      "Weight of an object in Newtons 981.0 N\n"
     ]
    }
   ],
   "source": [
    "# Ex09:\n",
    "def weight_of_object(mass,gravity):\n",
    "  weight = str(mass*gravity)+' N'\n",
    "  return weight\n",
    "\n",
    "print('Weight of an object in Newtons', weight_of_object(100,9.81))"
   ]
  },
  {
   "attachments": {},
   "cell_type": "markdown",
   "metadata": {},
   "source": [
    "<b>2.7 Functions return statement"
   ]
  },
  {
   "attachments": {},
   "cell_type": "markdown",
   "metadata": {},
   "source": [
    "<b>2.7.1 Return single value"
   ]
  },
  {
   "cell_type": "code",
   "execution_count": 30,
   "metadata": {},
   "outputs": [
    {
     "name": "stdout",
     "output_type": "stream",
     "text": [
      "HelloCory. Good morning\n",
      "None\n"
     ]
    }
   ],
   "source": [
    "print(greet(\"Cory\"))"
   ]
  },
  {
   "attachments": {},
   "cell_type": "markdown",
   "metadata": {},
   "source": [
    "<b>2.8 Passing Argument with Key and Value"
   ]
  },
  {
   "cell_type": "code",
   "execution_count": 34,
   "metadata": {},
   "outputs": [
    {
     "name": "stdout",
     "output_type": "stream",
     "text": [
      "Milan Parmar\n"
     ]
    }
   ],
   "source": [
    "# Ex01\n",
    "def print_fullname(firstname,lastname):\n",
    "  space = ' '\n",
    "  full_name = firstname+space+lastname\n",
    "  print(full_name)\n",
    "\n",
    "print_fullname(firstname='Milan',lastname='Parmar')"
   ]
  },
  {
   "cell_type": "code",
   "execution_count": 36,
   "metadata": {},
   "outputs": [
    {
     "name": "stdout",
     "output_type": "stream",
     "text": [
      "5\n"
     ]
    }
   ],
   "source": [
    "# Ex02\n",
    "def add_two_numbers(num1,num2):\n",
    "  total = num1+num2\n",
    "  return total\n",
    "\n",
    "print(add_two_numbers(num2=3,num1=2)) # order does not matter"
   ]
  },
  {
   "cell_type": "code",
   "execution_count": 37,
   "metadata": {},
   "outputs": [
    {
     "name": "stdout",
     "output_type": "stream",
     "text": [
      "2\n",
      "4\n"
     ]
    }
   ],
   "source": [
    "# Ex03\n",
    "def absolute_vaue(num):\n",
    "  if num >= 0:\n",
    "    return num\n",
    "  else:\n",
    "    return -num\n",
    "  \n",
    "print(absolute_vaue(2))\n",
    "print(absolute_vaue(-4))"
   ]
  },
  {
   "cell_type": "code",
   "execution_count": 38,
   "metadata": {},
   "outputs": [
    {
     "name": "stdout",
     "output_type": "stream",
     "text": [
      "Adding the two values\n",
      "Printing within function\n",
      "30\n",
      "total :  30\n",
      "Hello\n",
      "Rest of code\n"
     ]
    }
   ],
   "source": [
    "# Ex04\n",
    "def sum(a,b):\n",
    "  print(\"Adding the two values\")\n",
    "  print(\"Printing within function\")\n",
    "  print(a+b)\n",
    "  return a+b\n",
    "\n",
    "def msg():\n",
    "  print('Hello')\n",
    "  return\n",
    "\n",
    "total = sum(10,20)\n",
    "print('total : ',total)\n",
    "msg()\n",
    "print('Rest of code')"
   ]
  },
  {
   "cell_type": "code",
   "execution_count": 39,
   "metadata": {},
   "outputs": [
    {
     "name": "stdout",
     "output_type": "stream",
     "text": [
      "Even numbers are :  [2, 46, 72, 90]\n"
     ]
    }
   ],
   "source": [
    "# Ex05\n",
    "def is_even(list1):\n",
    "  even_num = []\n",
    "  for n in list1:\n",
    "    if n%2==0:\n",
    "      even_num.append(n)\n",
    "  return even_num\n",
    "\n",
    "even_num = is_even([2,3,46,63,72,83,90,19])\n",
    "print('Even numbers are : ',even_num)"
   ]
  },
  {
   "attachments": {},
   "cell_type": "markdown",
   "metadata": {},
   "source": [
    "<b>2.8.1 Return Multiple Values"
   ]
  },
  {
   "cell_type": "code",
   "execution_count": 41,
   "metadata": {},
   "outputs": [
    {
     "name": "stdout",
     "output_type": "stream",
     "text": [
      "Addition :  12\n",
      "Substraction :  8\n",
      "Multiplication :  20\n",
      "Division :  5.0\n"
     ]
    }
   ],
   "source": [
    "# Ex01\n",
    "def arithmetic(num1,num2):\n",
    "  add = num1+num2\n",
    "  sub = num1-num2\n",
    "  multiply = num1*num2\n",
    "  division = num1/num2\n",
    "  return add,sub,multiply,division\n",
    "a,b,c,d = arithmetic(10,2)\n",
    "print(\"Addition : \",a)\n",
    "print(\"Substraction : \",b)\n",
    "print(\"Multiplication : \",c)\n",
    "print(\"Division : \",d)"
   ]
  },
  {
   "attachments": {},
   "cell_type": "markdown",
   "metadata": {},
   "source": [
    "<b>2.8.2 Return boolean values"
   ]
  },
  {
   "cell_type": "code",
   "execution_count": 42,
   "metadata": {},
   "outputs": [
    {
     "name": "stdout",
     "output_type": "stream",
     "text": [
      "even\n",
      "True\n",
      "False\n"
     ]
    }
   ],
   "source": [
    "# Ex01\n",
    "def is_even(n):\n",
    "  if n%2==0:\n",
    "    print('even')\n",
    "    return True\n",
    "  return False\n",
    "print(is_even(10))\n",
    "print(is_even(7))"
   ]
  },
  {
   "attachments": {},
   "cell_type": "markdown",
   "metadata": {},
   "source": [
    "<b>2.8.3 Return a List"
   ]
  },
  {
   "cell_type": "code",
   "execution_count": 43,
   "metadata": {},
   "outputs": [
    {
     "name": "stdout",
     "output_type": "stream",
     "text": [
      "[0, 2, 4, 6, 8, 10]\n"
     ]
    }
   ],
   "source": [
    "# Ex01\n",
    "def find_even_numbers(n):\n",
    "  evens = []\n",
    "  for i in range(n+1):\n",
    "    if i%2==0:\n",
    "      evens.append(i)\n",
    "  return evens\n",
    "\n",
    "print(find_even_numbers(10))"
   ]
  },
  {
   "attachments": {},
   "cell_type": "markdown",
   "metadata": {},
   "source": [
    "<b>2.9 How to call a function in Python ?"
   ]
  },
  {
   "cell_type": "code",
   "execution_count": 44,
   "metadata": {},
   "outputs": [
    {
     "name": "stdout",
     "output_type": "stream",
     "text": [
      "Happy birthday, Bill. Hope you have a wonderful day!\n"
     ]
    }
   ],
   "source": [
    "# Ex01\n",
    "def wish(name):\n",
    "  print(\"Happy birthday, \"+name+\". Hope you have a wonderful day!\")\n",
    "wish('Bill')"
   ]
  },
  {
   "cell_type": "code",
   "execution_count": 45,
   "metadata": {},
   "outputs": [
    {
     "name": "stdout",
     "output_type": "stream",
     "text": [
      "Clark, welcome to Python for Data Science\n",
      "Milaan, welcome to Python for Data Science\n"
     ]
    }
   ],
   "source": [
    "# Ex02\n",
    "def greetings(name='Clark'):\n",
    "  message = name + ', welcome to Python for Data Science'\n",
    "  return message\n",
    "print(greetings())\n",
    "print(greetings('Milaan'))"
   ]
  },
  {
   "cell_type": "code",
   "execution_count": 47,
   "metadata": {},
   "outputs": [
    {
     "name": "stdout",
     "output_type": "stream",
     "text": [
      "Milaan Parmar\n",
      "Ethan Hunt\n"
     ]
    }
   ],
   "source": [
    "# Ex03\n",
    "def generate_full_name(first_name='Milaan',last_name = 'Parmar'):\n",
    "  space = ' '\n",
    "  full_name = first_name+space+last_name\n",
    "  return full_name\n",
    "\n",
    "print(generate_full_name())\n",
    "print(generate_full_name('Ethan','Hunt'))"
   ]
  },
  {
   "cell_type": "code",
   "execution_count": 49,
   "metadata": {},
   "outputs": [
    {
     "name": "stdout",
     "output_type": "stream",
     "text": [
      "Age 200\n"
     ]
    }
   ],
   "source": [
    "def calculate_age(birth_year,current_year=2021):\n",
    "  age = current_year-birth_year\n",
    "  return age\n",
    "\n",
    "print('Age',calculate_age(1821))"
   ]
  },
  {
   "cell_type": "code",
   "execution_count": 53,
   "metadata": {},
   "outputs": [
    {
     "name": "stdout",
     "output_type": "stream",
     "text": [
      "Value of x is: 9\n",
      "Value of y is: 6\n"
     ]
    }
   ],
   "source": [
    "# Ex05\n",
    "def swap(x,y):\n",
    "  temp = x;\n",
    "  x = y;\n",
    "  y = temp;\n",
    "  print('Value of x is:',x)\n",
    "  print('Value of y is:',y)\n",
    "  return\n",
    "\n",
    "x = 6\n",
    "y = 9\n",
    "swap(x,y)"
   ]
  },
  {
   "cell_type": "code",
   "execution_count": 55,
   "metadata": {},
   "outputs": [
    {
     "name": "stdout",
     "output_type": "stream",
     "text": [
      "9 is an odd number\n"
     ]
    }
   ],
   "source": [
    "# Ex06\n",
    "def even_odd(n):\n",
    "  if n%2==0:\n",
    "    print(n,'is an even nubmer')\n",
    "  else:\n",
    "    print(n,'is an odd number')\n",
    "    \n",
    "even_odd(9)"
   ]
  },
  {
   "cell_type": "code",
   "execution_count": 56,
   "metadata": {},
   "outputs": [
    {
     "name": "stdout",
     "output_type": "stream",
     "text": [
      "981.0\n",
      "162.0\n"
     ]
    }
   ],
   "source": [
    "# Ex07\n",
    "def weight_of_object(mass,gravity=9.81):\n",
    "  weight = str(mass*gravity)\n",
    "  return weight\n",
    "print(weight_of_object(100))\n",
    "print(weight_of_object(100,1.62))"
   ]
  },
  {
   "attachments": {},
   "cell_type": "markdown",
   "metadata": {},
   "source": [
    "2.10 Docstrings"
   ]
  },
  {
   "cell_type": "code",
   "execution_count": null,
   "metadata": {},
   "outputs": [],
   "source": [
    "# Ex01\n",
    "print(greet __doc__)"
   ]
  },
  {
   "attachments": {},
   "cell_type": "markdown",
   "metadata": {},
   "source": [
    "2.11 Function pass Statement"
   ]
  },
  {
   "cell_type": "code",
   "execution_count": 58,
   "metadata": {},
   "outputs": [],
   "source": [
    "def addition(num1,num2):\n",
    "  pass\n",
    "addition(10,2)"
   ]
  },
  {
   "attachments": {},
   "cell_type": "markdown",
   "metadata": {},
   "source": [
    "<b>2.12 Exercises Functions "
   ]
  },
  {
   "attachments": {},
   "cell_type": "markdown",
   "metadata": {},
   "source": [
    "2.12.1 Exercise level 1"
   ]
  },
  {
   "attachments": {},
   "cell_type": "markdown",
   "metadata": {},
   "source": [
    "1. Write a function that calculate area of circle and perimeter of circle."
   ]
  },
  {
   "cell_type": "code",
   "execution_count": 60,
   "metadata": {},
   "outputs": [
    {
     "name": "stdout",
     "output_type": "stream",
     "text": [
      "(28.274333882308138, 18.84955592153876)\n"
     ]
    }
   ],
   "source": [
    "import math as mt\n",
    "def CalculateArea(r):\n",
    "  area = mt.pi*pow(r,2)\n",
    "  perimeter = 2*mt.pi*r\n",
    "  return area,perimeter\n",
    "if __name__ == \"__main__\":\n",
    "  radius = 3\n",
    "  print(CalculateArea(radius))"
   ]
  },
  {
   "attachments": {},
   "cell_type": "markdown",
   "metadata": {},
   "source": [
    "2. Write a function called add_all_nums which takes arbitrary number of arguments and sums of all the arguments. Check if all list items are number types. If not do give a reasonable feedback."
   ]
  },
  {
   "cell_type": "code",
   "execution_count": 61,
   "metadata": {},
   "outputs": [
    {
     "name": "stdout",
     "output_type": "stream",
     "text": [
      "15\n"
     ]
    }
   ],
   "source": [
    "def add_all_nums(*numbers):\n",
    "  total = 0\n",
    "  for i in numbers:\n",
    "    total += i\n",
    "  return total\n",
    "print(add_all_nums(1,2,3,4,5))"
   ]
  },
  {
   "cell_type": "code",
   "execution_count": 62,
   "metadata": {},
   "outputs": [
    {
     "name": "stdout",
     "output_type": "stream",
     "text": [
      "21\n"
     ]
    }
   ],
   "source": [
    "def add_all_number(nums):\n",
    "  result = 0\n",
    "  for i in nums:\n",
    "    result = result + i \n",
    "  return result\n",
    "\n",
    "if __name__ == \"__main__\":\n",
    "  nums = [1,2,3,4,5,6]\n",
    "  print(add_all_number(nums=nums))"
   ]
  },
  {
   "attachments": {},
   "cell_type": "markdown",
   "metadata": {},
   "source": [
    "3. Temperature in degree celcuis to oF using formula: F = 9/5*C+32.\n",
    "Write a function to convert from C to F"
   ]
  },
  {
   "cell_type": "code",
   "execution_count": 69,
   "metadata": {},
   "outputs": [
    {
     "name": "stdout",
     "output_type": "stream",
     "text": [
      "Celcuis convert to Farenheit equal to : 68.0\n"
     ]
    }
   ],
   "source": [
    "def Farenheit(Ceilcuis:float):\n",
    "  Farenheit = Ceilcuis*9/5 + 32\n",
    "  return Farenheit\n",
    "\n",
    "C = 12\n",
    "print(f'Celcuis convert to Farenheit equal to : {Farenheit(c)}')"
   ]
  },
  {
   "attachments": {},
   "cell_type": "markdown",
   "metadata": {},
   "source": [
    "4. Write a function called check_season. it takes a month parameter and return the seasons: Autumn, Winter, Spring, Summer."
   ]
  },
  {
   "attachments": {},
   "cell_type": "markdown",
   "metadata": {},
   "source": [
    "Meteorological Seasons : <br>\n",
    "+ spring runs from March 1 to May 31<br>\n",
    "+ summer runs from June 1 to August 31<br>\n",
    "+ autumn runs from September 1 to November 30<br>\n",
    "+ winter runs from December 1 to February 28 (February 29 in a leap year)."
   ]
  },
  {
   "cell_type": "code",
   "execution_count": 80,
   "metadata": {},
   "outputs": [
    {
     "name": "stdout",
     "output_type": "stream",
     "text": [
      "The season on month 2 is Winter\n",
      "The season on month 6 is Summer\n"
     ]
    }
   ],
   "source": [
    "# Check with list of integer type\n",
    "def check_season(month:int):\n",
    "    month1 = [[12,1,2],[3,4,5],[6,7,8],[9,10,11]]\n",
    "    if month in month1[0]:\n",
    "      return 'Winter'\n",
    "    elif month in month1[1]:\n",
    "      return 'Spring'\n",
    "    elif month in month1[2]:\n",
    "      return 'Summer'\n",
    "    elif month in month1[3]:\n",
    "      return 'Autumn'\n",
    "    else:\n",
    "      return 'Invalid'\n",
    "\n",
    "if __name__ == \"__main__\":\n",
    "  month1 = 2\n",
    "  print('The season on month',month1,'is',check_season(month=month1))\n",
    "\n",
    "  month2 = 6\n",
    "  print('The season on month',month2,'is',check_season(month=month2))"
   ]
  },
  {
   "cell_type": "code",
   "execution_count": 78,
   "metadata": {},
   "outputs": [
    {
     "name": "stdout",
     "output_type": "stream",
     "text": [
      "The season on December is Winter\n",
      "The season on September is Autumn\n",
      "The season on July is Summer\n"
     ]
    }
   ],
   "source": [
    "# Check with list of string type\n",
    "def check_season2(month:str):\n",
    "    month2 = [['December','January','Febraury'],['March','April','May'],['June','July','August'],['September','October','November']]\n",
    "    if month in month2[0]:\n",
    "      return 'Winter'\n",
    "    elif month in month2[1]:\n",
    "      return 'Spring'\n",
    "    elif month in month2[2]:\n",
    "      return 'Summer'\n",
    "    elif month in month2[3]:\n",
    "      return 'Autumn'\n",
    "    else:\n",
    "      return 'Invalid'\n",
    "\n",
    "if __name__ == \"__main__\":\n",
    "  month1 = 'December'\n",
    "  print('The season on',month1,'is',check_season2(month=month1))\n",
    "  \n",
    "  month2 = 'september'\n",
    "  print('The season on',month2.capitalize(),'is',check_season2(month=month2.capitalize()))\n",
    "  \n",
    "  month3 = 'JULY'\n",
    "  print(f'The season on',month3.capitalize(),'is',check_season2(month=month3.capitalize()))"
   ]
  },
  {
   "attachments": {},
   "cell_type": "markdown",
   "metadata": {},
   "source": [
    "5. Write a function called calculate_slope which return the slope of linear equation."
   ]
  },
  {
   "cell_type": "code",
   "execution_count": 100,
   "metadata": {},
   "outputs": [
    {
     "name": "stdout",
     "output_type": "stream",
     "text": [
      "The slope is : -6.0\n"
     ]
    }
   ],
   "source": [
    "def FindSlope(x1,y1,x2,y2)->float:\n",
    "  slope = (y2-y1)/(x2-x1)\n",
    "  return slope\n",
    "a = [2,3]\n",
    "b = [1,9]\n",
    "print(f'The slope is : {FindSlope(x1=a[0],x2=b[0],y1=a[1],y2=b[1])}')"
   ]
  },
  {
   "attachments": {},
   "cell_type": "markdown",
   "metadata": {},
   "source": [
    "6. Quadratic equation is calculated as follow : ax^2 + bx + c = 0. Write a function which calculate the solutions set of a quadratic equation, solve_quadratic_eqn."
   ]
  },
  {
   "cell_type": "code",
   "execution_count": 104,
   "metadata": {},
   "outputs": [
    {
     "name": "stdout",
     "output_type": "stream",
     "text": [
      "((-0.8333333333333334+1.1426091000668406j), (-0.8333333333333334-1.1426091000668406j))\n"
     ]
    }
   ],
   "source": [
    "import math as mt\n",
    "def solve_quadratic_eqn(a,b,c):\n",
    "  delta = pow(b,2)-4*a*c\n",
    "  x1 = (-b+pow(delta,1/2))/(2*a)\n",
    "  x2 = (-b-pow(delta,1/2))/(2*a)\n",
    "  return x1,x2\n",
    "if __name__==\"__main__\":\n",
    "  print(solve_quadratic_eqn(a=3,b=5,c=6))  \n",
    "  "
   ]
  },
  {
   "attachments": {},
   "cell_type": "markdown",
   "metadata": {},
   "source": [
    "7. Declare a functin print_list. It takes a list as a parameter and print out each element of the list."
   ]
  },
  {
   "cell_type": "code",
   "execution_count": 106,
   "metadata": {},
   "outputs": [
    {
     "name": "stdout",
     "output_type": "stream",
     "text": [
      "1\n",
      "2\n",
      "3\n",
      "4\n",
      "5\n",
      "6\n"
     ]
    }
   ],
   "source": [
    "def print_list(list1):\n",
    "  for i in list1:\n",
    "    print(i)\n",
    "  \n",
    "list1 = [1,2,3,4,5,6]\n",
    "print_list(list1)"
   ]
  },
  {
   "attachments": {},
   "cell_type": "markdown",
   "metadata": {},
   "source": [
    "8. Declare a function named reverse_list. It takes an array as a parameter and it return the reverse of the array(use loops)"
   ]
  },
  {
   "cell_type": "code",
   "execution_count": 125,
   "metadata": {},
   "outputs": [
    {
     "name": "stdout",
     "output_type": "stream",
     "text": [
      "[6, 5, 4, 3, 2, 1]\n"
     ]
    }
   ],
   "source": [
    "def reverse_list(array:list):\n",
    "  array.reverse()\n",
    "  print(array)\n",
    "  \n",
    "array = [1,2,3,4,5,6]\n",
    "reverse_list(array)"
   ]
  },
  {
   "attachments": {},
   "cell_type": "markdown",
   "metadata": {},
   "source": [
    "9. Declare a function named capitalize_list_items. It takes a list as a parameter and it returns a capitalized list of items."
   ]
  },
  {
   "cell_type": "code",
   "execution_count": 151,
   "metadata": {},
   "outputs": [
    {
     "name": "stdout",
     "output_type": "stream",
     "text": [
      "[A,B,C,D,]"
     ]
    }
   ],
   "source": [
    "def capitalize_list_items(List):\n",
    "  print('[',end='')\n",
    "  for i in List:\n",
    "    i = i.capitalize()\n",
    "    print(i,end=',')\n",
    "  print(']',end='')\n",
    "List = ['a','b','c','d']\n",
    "capitalize_list_items(List)"
   ]
  },
  {
   "attachments": {},
   "cell_type": "markdown",
   "metadata": {},
   "source": [
    "10. Declare a function named add_item. it takes a list and an item parameters. It returns a list with the item added at the end."
   ]
  },
  {
   "cell_type": "code",
   "execution_count": 163,
   "metadata": {},
   "outputs": [
    {
     "name": "stdout",
     "output_type": "stream",
     "text": [
      "[1, 2, 3, 4, 5, 45]\n"
     ]
    }
   ],
   "source": [
    "def add_item(List,item):\n",
    "  List.append(item)\n",
    "  return List\n",
    "\n",
    "List = [1,2,3,4,5]\n",
    "item = 45\n",
    "print(add_item(List,item))"
   ]
  },
  {
   "cell_type": "code",
   "execution_count": 170,
   "metadata": {},
   "outputs": [
    {
     "name": "stdout",
     "output_type": "stream",
     "text": [
      "['Potato', 'Tomato', 'Mango', 'Watermelon', 'Cucumber']\n"
     ]
    }
   ],
   "source": [
    "def add_item(List2,item2):\n",
    "  List2.append(item2)\n",
    "  return List2\n",
    "\n",
    "List2 = ['Potato','Tomato','Mango','Watermelon']\n",
    "item2 = 'Cucumber'\n",
    "print(add_item(List2,item2))"
   ]
  },
  {
   "attachments": {},
   "cell_type": "markdown",
   "metadata": {},
   "source": [
    "11. Declare a function named remove_item. It takes a list and an item parameters. It returns a list with the item removed from it."
   ]
  },
  {
   "cell_type": "code",
   "execution_count": 178,
   "metadata": {},
   "outputs": [
    {
     "name": "stdout",
     "output_type": "stream",
     "text": [
      "[1, 2, 34, 5, 6, 7, 'Sasa', 45, 64, 23]\n",
      "[1, 2, 34, 5, 6, 7, 45, 64, 23]\n"
     ]
    }
   ],
   "source": [
    "def remove_list(List,item):\n",
    "  List.remove(item)\n",
    "  return List\n",
    "\n",
    "List3 = [1,2,34,5,6,7,'Dara','Sasa',45,64,23]\n",
    "item = List3[6]\n",
    "print(remove_list(List3,item))\n",
    "\n",
    "item = 'Sasa'\n",
    "print(remove_list(List3,item))"
   ]
  },
  {
   "attachments": {},
   "cell_type": "markdown",
   "metadata": {},
   "source": [
    "12. Declare a function named sum_of_numbers. It takes a number parameter and it adds all the numbers in the range."
   ]
  },
  {
   "cell_type": "code",
   "execution_count": 6,
   "metadata": {},
   "outputs": [
    {
     "name": "stdout",
     "output_type": "stream",
     "text": [
      "sum of number in range number : 55\n"
     ]
    }
   ],
   "source": [
    "def sum_of_numbers(number):\n",
    "  sum = 0\n",
    "  for i in range(number+1):\n",
    "    sum = sum + i\n",
    "  return sum\n",
    "\n",
    "if __name__ == \"__main__\":\n",
    "  number = 10\n",
    "  print(f'sum of number in range number : {sum_of_numbers(number=number)}')"
   ]
  },
  {
   "attachments": {},
   "cell_type": "markdown",
   "metadata": {},
   "source": [
    "13. Declare a function named sum_of_odds. It takes a number parameter and it adds all the numbers in that range."
   ]
  },
  {
   "cell_type": "code",
   "execution_count": 11,
   "metadata": {},
   "outputs": [
    {
     "name": "stdout",
     "output_type": "stream",
     "text": [
      "The sum of odd number in rane 10 is 25\n"
     ]
    }
   ],
   "source": [
    "def sum_of_odd(number):\n",
    "  sum = 0\n",
    "  for j in range(number+1):\n",
    "    if j%2==0:\n",
    "      continue\n",
    "    sum = sum+j\n",
    "  return sum\n",
    "\n",
    "if __name__ ==\"__main__\":\n",
    "  number = 10\n",
    "  print(f'The sum of odd number in rane {number} is {sum_of_odd(number)}')"
   ]
  },
  {
   "attachments": {},
   "cell_type": "markdown",
   "metadata": {},
   "source": [
    "14. Declare a function named sum_of_even. It takes a number parameter and it adds all the even numbers in that range."
   ]
  },
  {
   "cell_type": "code",
   "execution_count": 13,
   "metadata": {},
   "outputs": [
    {
     "name": "stdout",
     "output_type": "stream",
     "text": [
      "The sum of odd number in rane 10 is 30\n"
     ]
    }
   ],
   "source": [
    "def sum_of_even(number):\n",
    "  sum = 0\n",
    "  for j in range(number+1):\n",
    "    if j%2!=0:\n",
    "      continue\n",
    "    sum = sum+j\n",
    "  return sum\n",
    "\n",
    "if __name__ ==\"__main__\":\n",
    "  number = 10\n",
    "  print(f'The sum of odd number in rane {number} is {sum_of_even(number)}')"
   ]
  },
  {
   "attachments": {},
   "cell_type": "markdown",
   "metadata": {},
   "source": [
    "2.12.2. Exercise level 2"
   ]
  },
  {
   "attachments": {},
   "cell_type": "markdown",
   "metadata": {},
   "source": [
    "1. Declare a function named evens_and_odds. It takes a positive integer as parameter and it count number of evens and odds in the range of number."
   ]
  },
  {
   "cell_type": "code",
   "execution_count": 14,
   "metadata": {},
   "outputs": [
    {
     "name": "stdout",
     "output_type": "stream",
     "text": [
      "#odd number = 50\n",
      "#even number = 51\n"
     ]
    }
   ],
   "source": [
    "def evens_and_odds(number:int):\n",
    "  countEven = 0\n",
    "  countOdd = 0\n",
    "  for i in range(number+1):\n",
    "    if i%2==0:\n",
    "      countEven = countEven + 1\n",
    "    else:\n",
    "      countOdd = countOdd + 1\n",
    "  return '#odd number = '+str(countOdd)+'\\n#even number = '+str(countEven)\n",
    "\n",
    "if __name__ == \"__main__\":\n",
    "  num1 = 100\n",
    "  print(evens_and_odds(num1))\n",
    "  "
   ]
  },
  {
   "attachments": {},
   "cell_type": "markdown",
   "metadata": {},
   "source": [
    "2. Call your function factorial, it take a whole number as a parameter and it return a factorial of the number."
   ]
  },
  {
   "cell_type": "code",
   "execution_count": 2,
   "metadata": {},
   "outputs": [
    {
     "name": "stdout",
     "output_type": "stream",
     "text": [
      "The factorial of  12 is :  479001600\n"
     ]
    }
   ],
   "source": [
    "def factorial(n):\n",
    "  if(n==0):\n",
    "    return 1\n",
    "  else:\n",
    "    return n*factorial(n-1)\n",
    "\n",
    "number = 12\n",
    "print('The factorial of ',number,'is : ',factorial(number))"
   ]
  },
  {
   "attachments": {},
   "cell_type": "markdown",
   "metadata": {},
   "source": [
    "3. Call your function is_empty, it takes a whole number as a parameter and it checks if it is empty or not."
   ]
  },
  {
   "cell_type": "code",
   "execution_count": 4,
   "metadata": {},
   "outputs": [
    {
     "name": "stdout",
     "output_type": "stream",
     "text": [
      "The list is empty\n",
      "The list is not empty\n"
     ]
    }
   ],
   "source": [
    "def is_empty(List):\n",
    "  if List == []:\n",
    "    print('The list is empty')\n",
    "  else:\n",
    "    print('The list is not empty')\n",
    "  \n",
    "if __name__ == \"__main__\":\n",
    "  is_empty(List=[])\n",
    "  is_empty(List=[1,2,3,4,5,6])"
   ]
  },
  {
   "attachments": {},
   "cell_type": "markdown",
   "metadata": {},
   "source": [
    "4. Write a different functions which take lists. They should calculate_mean, calculate_median, calculate_mode, calculate_range, calculate_variance, calculate_std."
   ]
  },
  {
   "cell_type": "code",
   "execution_count": 8,
   "metadata": {},
   "outputs": [
    {
     "name": "stdout",
     "output_type": "stream",
     "text": [
      "mean = 3.5\n"
     ]
    }
   ],
   "source": [
    "def calculate_mean(List:list):\n",
    "  sum = 0\n",
    "  for i in List:\n",
    "    sum = sum + i\n",
    "  mean = sum/len(List)\n",
    "  return mean\n",
    "\n",
    "list1 = [1,2,3,4,5,6]\n",
    "print('mean = '+str(calculate_mean(list1)))"
   ]
  },
  {
   "cell_type": "code",
   "execution_count": 31,
   "metadata": {},
   "outputs": [
    {
     "name": "stdout",
     "output_type": "stream",
     "text": [
      "mean =  3.5\n"
     ]
    }
   ],
   "source": [
    "def calculate_mean2(numbers):\n",
    "  mean = sum(numbers)/len(numbers)\n",
    "  return mean\n",
    "print('mean = ',calculate_mean2(list1))\n"
   ]
  },
  {
   "cell_type": "code",
   "execution_count": 34,
   "metadata": {},
   "outputs": [
    {
     "name": "stdout",
     "output_type": "stream",
     "text": [
      "The median is equal to :  6\n"
     ]
    }
   ],
   "source": [
    "def calculate_median(List):\n",
    "  median = sorted(List)[len(List)//2]\n",
    "  return median\n",
    "List = [1,2,3,4,5,6,7,8,9,10,11]\n",
    "print('The median is equal to : ',calculate_median(List))"
   ]
  },
  {
   "cell_type": "code",
   "execution_count": 35,
   "metadata": {},
   "outputs": [
    {
     "name": "stdout",
     "output_type": "stream",
     "text": [
      "mode =  6\n"
     ]
    }
   ],
   "source": [
    "def calculate_mode(List):\n",
    "  mode = max(List,key=List.count)\n",
    "  return mode\n",
    "\n",
    "List = [1,2,3,4,5,6,7,4,3,6,6]\n",
    "print('mode = ',calculate_mode(List))"
   ]
  },
  {
   "cell_type": "code",
   "execution_count": 36,
   "metadata": {},
   "outputs": [
    {
     "name": "stdout",
     "output_type": "stream",
     "text": [
      "Range = 89\n"
     ]
    }
   ],
   "source": [
    "def calculate_range(List):\n",
    "  Range = max(List)-min(List)\n",
    "  return Range\n",
    "\n",
    "if __name__ == \"__main__\":\n",
    "  List = [1,2,3,4,5,6,7,9,90]\n",
    "  print('Range = '+str(calculate_range(List)))"
   ]
  },
  {
   "cell_type": "code",
   "execution_count": 44,
   "metadata": {},
   "outputs": [
    {
     "name": "stdout",
     "output_type": "stream",
     "text": [
      "9.166666666666666\n"
     ]
    }
   ],
   "source": [
    "import statistics\n",
    "def calculate_variance(List):\n",
    "  mean = statistics.mean(List)\n",
    "  variance = statistics.variance(List,mean)\n",
    "  print(variance)\n",
    "  \n",
    "List = [1,2,3,4,5,6,7,8,9,10]\n",
    "calculate_variance(List)"
   ]
  },
  {
   "cell_type": "code",
   "execution_count": 45,
   "metadata": {},
   "outputs": [
    {
     "name": "stdout",
     "output_type": "stream",
     "text": [
      "variance = 8.25\n"
     ]
    }
   ],
   "source": [
    "import numpy as np\n",
    "def calculate_variance2(List):\n",
    "  variance2 = np.var(List)\n",
    "  return variance2\n",
    "\n",
    "List2 = [1,2,3,4,5,6,7,8,9,10]\n",
    "print('variance =',calculate_variance2(List2))"
   ]
  },
  {
   "cell_type": "code",
   "execution_count": 46,
   "metadata": {},
   "outputs": [
    {
     "name": "stdout",
     "output_type": "stream",
     "text": [
      "standard deviation = 3.0276503540974917\n"
     ]
    }
   ],
   "source": [
    "def calculate_std(List):\n",
    "  Std = statistics.stdev(List)\n",
    "  return Std\n",
    "\n",
    "List3 = [1,2,3,4,5,6,7,8,9,10]\n",
    "print('standard deviation =',calculate_std(List3))"
   ]
  },
  {
   "attachments": {},
   "cell_type": "markdown",
   "metadata": {},
   "source": [
    "2.12.3 Exercise Level 3"
   ]
  },
  {
   "attachments": {},
   "cell_type": "markdown",
   "metadata": {},
   "source": [
    "1. Write a function called is_prime which checks if a number is prime."
   ]
  },
  {
   "cell_type": "code",
   "execution_count": 58,
   "metadata": {},
   "outputs": [
    {
     "name": "stdout",
     "output_type": "stream",
     "text": [
      "11 is a prime number\n",
      "12 is not a prime number\n",
      "22 is not a prime number\n"
     ]
    }
   ],
   "source": [
    "def is_prime(n):\n",
    "  for i in range(2,n+1):\n",
    "    if(n%i==0):\n",
    "      print(n,'is not a prime number')\n",
    "      break\n",
    "    else:\n",
    "      print(n,'is a prime number')\n",
    "      break\n",
    "\n",
    "is_prime(11)\n",
    "is_prime(12)\n",
    "is_prime(22)\n",
    "    "
   ]
  },
  {
   "attachments": {},
   "cell_type": "markdown",
   "metadata": {},
   "source": [
    "2. Write a function which checks if all the items are unique in the list."
   ]
  },
  {
   "cell_type": "code",
   "execution_count": 61,
   "metadata": {},
   "outputs": [
    {
     "name": "stdout",
     "output_type": "stream",
     "text": [
      "All elements are not unique\n",
      "All elements are unique.\n"
     ]
    }
   ],
   "source": [
    "def check_unique(List):\n",
    "  if len(set(List)) == len(List):\n",
    "    print('All elements are unique.')\n",
    "  else:\n",
    "    print('All elements are not unique')\n",
    "\n",
    "if __name__ == \"__main__\":\n",
    "  check_unique(List=[1,2,3,4,3,25,6,75,45,434,3])\n",
    "  check_unique(List=[4,3,2,8,9,0,12])"
   ]
  },
  {
   "attachments": {},
   "cell_type": "markdown",
   "metadata": {},
   "source": [
    "3. Write a function which checks if all the items of the list are of the same datatype."
   ]
  },
  {
   "cell_type": "code",
   "execution_count": null,
   "metadata": {},
   "outputs": [],
   "source": [
    "def check_dtype(List):\n",
    "  verify = True\n",
    "  for i in List:\n",
    "    if not isinstance(i,type(List[0])):\n",
    "      verify = False\n",
    "      break\n",
    "  return verify\n",
    "List = [1,2,3,4,5,6,7,'Dara']\n",
    "print(f'List element has the same datatype :'+check_dtype(List))"
   ]
  },
  {
   "cell_type": "code",
   "execution_count": 73,
   "metadata": {},
   "outputs": [],
   "source": [
    "def check_item_dtype_in_list(item_range):\n",
    "  if all(map(lambda x: str(x).isdigit(), item_range)):\n",
    "    item_range = list(map(int, item_range))\n",
    "    print('all are integer')\n",
    "    print(item_range)\n",
    "    return \n",
    "  elif all(isinstance(item, str) for item in item_range):\n",
    "    print('all are string')\n",
    "    print(item_range)\n",
    "    return \n",
    "  elif any(map(lambda x: str(x), item_range)):\n",
    "    print('mixed dtype')\n",
    "    print(item_range)\n",
    "    return "
   ]
  },
  {
   "cell_type": "code",
   "execution_count": 74,
   "metadata": {},
   "outputs": [
    {
     "name": "stdout",
     "output_type": "stream",
     "text": [
      "all are integer\n",
      "[2, 2, 3]\n",
      "mixed dtype\n",
      "['2', 2, 'Two']\n",
      "all are string\n",
      "['Two', 'Two', 'Two']\n",
      "mixed dtype\n",
      "[2, 2.0, 'Two']\n"
     ]
    }
   ],
   "source": [
    "check_item_dtype_in_list(['2', 2, 3])\n",
    "check_item_dtype_in_list([\"2\", 2, 'Two'])\n",
    "check_item_dtype_in_list(['Two', 'Two', 'Two'])\n",
    "check_item_dtype_in_list([2, 2., 'Two'])"
   ]
  },
  {
   "attachments": {},
   "cell_type": "markdown",
   "metadata": {},
   "source": [
    "4. Write a function which check if provided variable python is a valid python variable."
   ]
  },
  {
   "cell_type": "code",
   "execution_count": 75,
   "metadata": {},
   "outputs": [
    {
     "ename": "SyntaxError",
     "evalue": "invalid syntax (907926562.py, line 6)",
     "output_type": "error",
     "traceback": [
      "\u001b[1;36m  Cell \u001b[1;32mIn[75], line 6\u001b[1;36m\u001b[0m\n\u001b[1;33m    except SyntaxError, ValueError, TypeError:\u001b[0m\n\u001b[1;37m                      ^\u001b[0m\n\u001b[1;31mSyntaxError\u001b[0m\u001b[1;31m:\u001b[0m invalid syntax\n"
     ]
    }
   ],
   "source": [
    "from ast import parse\n",
    "def is_valid_variable_name(name):\n",
    "  try:\n",
    "    parse('{} = None'.format(name))\n",
    "    return True\n",
    "  except SyntaxError, ValueError, TypeError:\n",
    "    return False"
   ]
  },
  {
   "attachments": {},
   "cell_type": "markdown",
   "metadata": {},
   "source": [
    "5. Go to the data folder and access the [countries-data.py] file.\n",
    "+ Create a function called the most_spoken_languages in the world. It should return 10 or 20 most spoken languages in the world descending order.\n",
    "+ Create a function called the most_populated_countries. It should return 10 or 20 most populated countries in descending order."
   ]
  },
  {
   "attachments": {},
   "cell_type": "markdown",
   "metadata": {},
   "source": [
    "<p style = \"text-align:center\"><b><font color = blue><font size = 5>006_Python_Function_Anonymous<br>March 9 2023</font></font></b>"
   ]
  },
  {
   "attachments": {},
   "cell_type": "markdown",
   "metadata": {},
   "source": [
    "<b>1. Python Anonumous/Lambda Function"
   ]
  },
  {
   "cell_type": "code",
   "execution_count": 4,
   "metadata": {},
   "outputs": [
    {
     "name": "stdout",
     "output_type": "stream",
     "text": [
      "Even numbers are :  [10, 16, 78, 2]\n"
     ]
    }
   ],
   "source": [
    "# Ex01 : program for even numbers without lambda function.\n",
    "def even_numbers(nums):\n",
    "  even_list = []\n",
    "  for n in nums:\n",
    "    if n%2==0:\n",
    "      even_list.append(n)\n",
    "  return even_list\n",
    "\n",
    "num_list = [10,9,16,78,2,3,7,1]\n",
    "ans = even_numbers(nums=num_list)\n",
    "print('Even numbers are : ',ans)"
   ]
  },
  {
   "cell_type": "code",
   "execution_count": 8,
   "metadata": {},
   "outputs": [
    {
     "name": "stdout",
     "output_type": "stream",
     "text": [
      "Even number are :  [10, 16, 78, 2]\n"
     ]
    }
   ],
   "source": [
    "# Ex01: Program for even numbe with a lambda function.\n",
    "l = [10,9,16,78,2,3,7,1]\n",
    "even_nos = list(filter(lambda x: x%2==0,l))\n",
    "print(f'Even number are : ',even_nos)"
   ]
  },
  {
   "cell_type": "code",
   "execution_count": 9,
   "metadata": {},
   "outputs": [
    {
     "name": "stdout",
     "output_type": "stream",
     "text": [
      "12\n"
     ]
    }
   ],
   "source": [
    "# Ex02: Program to show the use of lambda function.\n",
    "double = lambda x: x*2\n",
    "print(double(6))"
   ]
  },
  {
   "cell_type": "code",
   "execution_count": 10,
   "metadata": {},
   "outputs": [
    {
     "name": "stdout",
     "output_type": "stream",
     "text": [
      "Square of number is 100\n",
      "Square of number is 4\n"
     ]
    }
   ],
   "source": [
    "# Ex03: Normal function definition is here.\n",
    "def square(x):\n",
    "  return x*x\n",
    "\n",
    "sqr = lambda x: x*x\n",
    "print('Square of number is',square(10))\n",
    "print('Square of number is',sqr(2))"
   ]
  },
  {
   "attachments": {},
   "cell_type": "markdown",
   "metadata": {},
   "source": [
    "<b>1.2 Use of lambda Function in python."
   ]
  },
  {
   "attachments": {},
   "cell_type": "markdown",
   "metadata": {},
   "source": [
    "1.2.1 lambda function use with filter()"
   ]
  },
  {
   "cell_type": "code",
   "execution_count": 15,
   "metadata": {},
   "outputs": [
    {
     "name": "stdout",
     "output_type": "stream",
     "text": [
      "[1, 3, 4, 5, 6, 8, 11, 12]\n",
      "Even numbers are: [4, 6, 8, 12]\n"
     ]
    }
   ],
   "source": [
    "# Ex01: Program to filter out only the even items from a list.\n",
    "my_list = [1,5,4,6,8,11,3,12]\n",
    "new_list = list(filter(lambda x:(x%2==0),my_list))\n",
    "\n",
    "print(sorted(my_list))\n",
    "print('Even numbers are:',new_list)"
   ]
  },
  {
   "cell_type": "code",
   "execution_count": 17,
   "metadata": {},
   "outputs": [
    {
     "name": "stdout",
     "output_type": "stream",
     "text": [
      "Positive numbers are: [5, 12, 6, 9]\n"
     ]
    }
   ],
   "source": [
    "# Ex02: \n",
    "l = [-10,5,12,-78,6,-1,-7,9]\n",
    "positive_nos = list(filter(lambda x:x>0,l))\n",
    "print('Positive numbers are:',positive_nos)"
   ]
  },
  {
   "attachments": {},
   "cell_type": "markdown",
   "metadata": {},
   "source": [
    "1.2.2 Lambda function with map()<br>\n",
    "The map() function in Python takes in a function and a list."
   ]
  },
  {
   "cell_type": "code",
   "execution_count": 19,
   "metadata": {},
   "outputs": [
    {
     "name": "stdout",
     "output_type": "stream",
     "text": [
      "Double values are: [2, 10, 8, 12, 16, 22, 6, 24]\n"
     ]
    }
   ],
   "source": [
    "# Ex01 : Program to double each item in a list using map()\n",
    "my_list = [1,5,4,6,8,11,3,12]\n",
    "new_list = list(map(lambda x: x*2,my_list))\n",
    "\n",
    "print('Double values are:',new_list)"
   ]
  },
  {
   "cell_type": "code",
   "execution_count": 20,
   "metadata": {},
   "outputs": [
    {
     "name": "stdout",
     "output_type": "stream",
     "text": [
      "Cube values are: [8, 27, 64, 512, 729]\n"
     ]
    }
   ],
   "source": [
    "# Ex02 \n",
    "list1 = [2,3,4,8,9]\n",
    "list2 = list(map(lambda x:x*x*x,list1))\n",
    "\n",
    "print('Cube values are:',list2)"
   ]
  },
  {
   "attachments": {},
   "cell_type": "markdown",
   "metadata": {},
   "source": [
    "1.2.3 Lambda function with reduce()"
   ]
  },
  {
   "cell_type": "code",
   "execution_count": 22,
   "metadata": {},
   "outputs": [
    {
     "name": "stdout",
     "output_type": "stream",
     "text": [
      "Addition of all list elements is :  54\n"
     ]
    }
   ],
   "source": [
    "# Ex01\n",
    "from functools import reduce\n",
    "list1 = [20,13,4,8,9]\n",
    "add = reduce(lambda x,y:x+y,list1)\n",
    "\n",
    "print('Addition of all list elements is : ',add)"
   ]
  },
  {
   "attachments": {},
   "cell_type": "markdown",
   "metadata": {},
   "source": [
    "<p style = \"text-align:center\"><b><font color = blue><font size = 5>005_Python_Function_Recursion<br>March 9 2023</font></font></b>"
   ]
  },
  {
   "attachments": {},
   "cell_type": "markdown",
   "metadata": {},
   "source": [
    "<b>1. Python Recursion<br></b>\n",
    "In this class, you will learn how to create a recursive function(a function that calls itself again and again)."
   ]
  },
  {
   "attachments": {},
   "cell_type": "markdown",
   "metadata": {},
   "source": [
    "<b>2. What is recursion</b><br>\n",
    "Recursion is the process of defining something in terms of itself"
   ]
  },
  {
   "attachments": {},
   "cell_type": "markdown",
   "metadata": {},
   "source": [
    "<b>2.1 Python Recursive Function"
   ]
  },
  {
   "cell_type": "code",
   "execution_count": 25,
   "metadata": {},
   "outputs": [
    {
     "name": "stdout",
     "output_type": "stream",
     "text": [
      "The factorial of 3 is 6\n"
     ]
    }
   ],
   "source": [
    " # Ex01\n",
    "def factorial(n):\n",
    "  if n==1:\n",
    "    return 1\n",
    "  else:\n",
    "    return(n*factorial(n-1))\n",
    "   \n",
    "num = 3\n",
    "print('The factorial of',num,'is',factorial(num))"
   ]
  },
  {
   "cell_type": "code",
   "execution_count": null,
   "metadata": {},
   "outputs": [
    {
     "ename": "",
     "evalue": "",
     "output_type": "error",
     "traceback": [
      "\u001b[1;31mCanceled future for execute_request message before replies were done"
     ]
    },
    {
     "ename": "",
     "evalue": "",
     "output_type": "error",
     "traceback": [
      "\u001b[1;31mThe Kernel crashed while executing code in the the current cell or a previous cell. Please review the code in the cell(s) to identify a possible cause of the failure. Click <a href='https://aka.ms/vscodeJupyterKernelCrash'>here</a> for more info. View Jupyter <a href='command:jupyter.viewOutput'>log</a> for further details."
     ]
    }
   ],
   "source": [
    "def recursor():\n",
    "  recursor()\n",
    "recursor()"
   ]
  },
  {
   "attachments": {},
   "cell_type": "markdown",
   "metadata": {},
   "source": [
    "<b>2.2 Advantages of Recursion</b><br>\n",
    "1. Recursive functions make the code look clean and elegant.\n",
    "2. A complex task can be broken down into \n",
    "3. Sequence generation is easier with recursion"
   ]
  },
  {
   "attachments": {},
   "cell_type": "markdown",
   "metadata": {},
   "source": [
    "<b>2.3 Disadvantages of Recursion</b><br>\n",
    "1. Sometimes the logic behind recursion is hard to follow through\n",
    "2. Recursive calls are expensive(inefficient) as they take up a lot of memory and time.\n",
    "3. Recursive functions are hard to debug."
   ]
  },
  {
   "attachments": {},
   "cell_type": "markdown",
   "metadata": {},
   "source": [
    "<font size = 6><p style = 'text-align:center'><b><font color = blue>The End</font></b>"
   ]
  }
 ],
 "metadata": {
  "kernelspec": {
   "display_name": "Python 3",
   "language": "python",
   "name": "python3"
  },
  "language_info": {
   "codemirror_mode": {
    "name": "ipython",
    "version": 3
   },
   "file_extension": ".py",
   "mimetype": "text/x-python",
   "name": "python",
   "nbconvert_exporter": "python",
   "pygments_lexer": "ipython3",
   "version": "3.9.7"
  },
  "orig_nbformat": 4
 },
 "nbformat": 4,
 "nbformat_minor": 2
}
