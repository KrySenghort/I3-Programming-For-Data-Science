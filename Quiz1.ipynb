{
 "cells": [
  {
   "cell_type": "code",
   "execution_count": 1,
   "id": "d66e7c8f",
   "metadata": {},
   "outputs": [
    {
     "name": "stdout",
     "output_type": "stream",
     "text": [
      "True\n"
     ]
    }
   ],
   "source": [
    "a = {5,4}\n",
    "b = {1,2,4,5}\n",
    "print(a<b)"
   ]
  },
  {
   "cell_type": "code",
   "execution_count": 2,
   "id": "a80a09d8",
   "metadata": {},
   "outputs": [
    {
     "name": "stdout",
     "output_type": "stream",
     "text": [
      "True True\n"
     ]
    }
   ],
   "source": [
    "print(\"PhnomPenh\">\"Cambodia\",\"Pursat\"<\"pursat\")"
   ]
  },
  {
   "cell_type": "code",
   "execution_count": 3,
   "id": "46d0943f",
   "metadata": {},
   "outputs": [
    {
     "ename": "NameError",
     "evalue": "name 'linecolor' is not defined",
     "output_type": "error",
     "traceback": [
      "\u001b[1;31m---------------------------------------------------------------------------\u001b[0m",
      "\u001b[1;31mNameError\u001b[0m                                 Traceback (most recent call last)",
      "Cell \u001b[1;32mIn[3], line 8\u001b[0m\n\u001b[0;32m      6\u001b[0m     exitonclick()\n\u001b[0;32m      7\u001b[0m t \u001b[39m=\u001b[39m Turtle()\n\u001b[1;32m----> 8\u001b[0m line100(\u001b[39m'\u001b[39;49m\u001b[39mblue\u001b[39;49m\u001b[39m'\u001b[39;49m,\u001b[39m5\u001b[39;49m,t)\n",
      "Cell \u001b[1;32mIn[3], line 3\u001b[0m, in \u001b[0;36mline100\u001b[1;34m(lineColor, width, painty)\u001b[0m\n\u001b[0;32m      2\u001b[0m \u001b[39mdef\u001b[39;00m \u001b[39mline100\u001b[39m(lineColor, width, painty):\n\u001b[1;32m----> 3\u001b[0m     painty\u001b[39m.\u001b[39mcolor(linecolor)\n\u001b[0;32m      4\u001b[0m     painty\u001b[39m.\u001b[39mwidth(width)\n\u001b[0;32m      5\u001b[0m     painty\u001b[39m.\u001b[39mforward(\u001b[39m100\u001b[39m)\n",
      "\u001b[1;31mNameError\u001b[0m: name 'linecolor' is not defined"
     ]
    }
   ],
   "source": [
    "from turtle import *\n",
    "def line100(lineColor, width, painty):\n",
    "    painty.color(linecolor)\n",
    "    painty.width(width)\n",
    "    painty.forward(100)\n",
    "    exitonclick()\n",
    "t = Turtle()\n",
    "line100('blue',5,t)"
   ]
  },
  {
   "cell_type": "code",
   "execution_count": null,
   "id": "fa10959c",
   "metadata": {},
   "outputs": [
    {
     "name": "stdout",
     "output_type": "stream",
     "text": [
      "{'p', 'q', 'a', 'c', 'comp', 'b'}\n"
     ]
    }
   ],
   "source": [
    "z = set('abc')\n",
    "z.add('comp')\n",
    "z.update(set(['p','q']))\n",
    "print(z)"
   ]
  },
  {
   "cell_type": "code",
   "execution_count": null,
   "id": "c2bb0880",
   "metadata": {},
   "outputs": [
    {
     "name": "stdout",
     "output_type": "stream",
     "text": [
      "[[7, 39, 42], 39, 123]\n"
     ]
    }
   ],
   "source": [
    "a = [42,39,123]\n",
    "b = sorted(a,reverse=True)\n",
    "a[0] = b\n",
    "b[0] = 7\n",
    "b.sort()\n",
    "print(a)"
   ]
  },
  {
   "cell_type": "code",
   "execution_count": null,
   "id": "164a0d45",
   "metadata": {},
   "outputs": [
    {
     "name": "stdout",
     "output_type": "stream",
     "text": [
      "I love cambodia!\n"
     ]
    }
   ],
   "source": [
    "str = \"i love cambodia!\"\n",
    "print(str.capitalize())"
   ]
  },
  {
   "cell_type": "code",
   "execution_count": null,
   "id": "3cacfe4c",
   "metadata": {},
   "outputs": [
    {
     "name": "stdout",
     "output_type": "stream",
     "text": [
      "[[1, 2, 3], [1, 2, 3]]\n"
     ]
    }
   ],
   "source": [
    "a = [1,2]\n",
    "b = []\n",
    "b.append(a)\n",
    "b.append(a)\n",
    "a.append(3)\n",
    "print(b)"
   ]
  },
  {
   "cell_type": "code",
   "execution_count": null,
   "id": "2ce8cb39",
   "metadata": {},
   "outputs": [
    {
     "data": {
      "text/plain": [
       "{0: 9, 1: 9, 2: 9, 3: 9, 4: 9}"
      ]
     },
     "execution_count": 2,
     "metadata": {},
     "output_type": "execute_result"
    }
   ],
   "source": [
    "result = {}\n",
    "for i in range(5):\n",
    "    for j in range(10):\n",
    "        result[i]=j\n",
    "result"
   ]
  },
  {
   "cell_type": "code",
   "execution_count": null,
   "id": "5f1d5018",
   "metadata": {},
   "outputs": [
    {
     "data": {
      "text/plain": [
       "{5, 6, 7}"
      ]
     },
     "execution_count": 3,
     "metadata": {},
     "output_type": "execute_result"
    }
   ],
   "source": [
    "a = {5,6,7}\n",
    "a.add(5)\n",
    "a"
   ]
  },
  {
   "cell_type": "code",
   "execution_count": null,
   "id": "ebeb82ef",
   "metadata": {},
   "outputs": [
    {
     "data": {
      "text/plain": [
       "{11: (1, 10), 21: (1, 20), 12: (2, 10), 22: (2, 20)}"
      ]
     },
     "execution_count": 5,
     "metadata": {},
     "output_type": "execute_result"
    }
   ],
   "source": [
    "result = {x+y: (x,y) for x in range(1,3) for y in range(10,30,10)}\n",
    "result"
   ]
  },
  {
   "cell_type": "code",
   "execution_count": null,
   "id": "6f8d9d75",
   "metadata": {},
   "outputs": [
    {
     "name": "stdout",
     "output_type": "stream",
     "text": [
      "556777"
     ]
    }
   ],
   "source": [
    "a = [5,5,6,7,7,7]\n",
    "b = set(a)\n",
    "def test(lst):\n",
    "    if lst in b:\n",
    "        return 1\n",
    "    else:\n",
    "        return 0\n",
    "for i in filter(test,a):\n",
    "    print(i,end=\"\")"
   ]
  },
  {
   "cell_type": "code",
   "execution_count": null,
   "id": "68d165b3",
   "metadata": {},
   "outputs": [
    {
     "name": "stdout",
     "output_type": "stream",
     "text": [
      "4\n"
     ]
    }
   ],
   "source": [
    "thing = 1\n",
    "index = 0\n",
    "while index<2:\n",
    "    thing += thing\n",
    "    index+=1\n",
    "print(thing)"
   ]
  },
  {
   "cell_type": "code",
   "execution_count": null,
   "id": "a55c6e0f",
   "metadata": {},
   "outputs": [
    {
     "data": {
      "text/plain": [
       "[3, 5, 7, 9, 11, 13, 15]"
      ]
     },
     "execution_count": 9,
     "metadata": {},
     "output_type": "execute_result"
    }
   ],
   "source": [
    "result = [2*x+1 for x in range(1,8)]\n",
    "result"
   ]
  },
  {
   "cell_type": "code",
   "execution_count": null,
   "id": "2105aa1c",
   "metadata": {},
   "outputs": [
    {
     "name": "stdout",
     "output_type": "stream",
     "text": [
      "Welcom CAmbodia\n"
     ]
    }
   ],
   "source": [
    "str1 = 'Welcome'\n",
    "print(str1[:6]+' CAmbodia')"
   ]
  },
  {
   "cell_type": "code",
   "execution_count": null,
   "id": "2331da75",
   "metadata": {},
   "outputs": [
    {
     "ename": "TypeError",
     "evalue": "unsupported operand type(s) for +: 'set' and 'set'",
     "output_type": "error",
     "traceback": [
      "\u001b[1;31m---------------------------------------------------------------------------\u001b[0m",
      "\u001b[1;31mTypeError\u001b[0m                                 Traceback (most recent call last)",
      "Input \u001b[1;32mIn [11]\u001b[0m, in \u001b[0;36m<cell line: 3>\u001b[1;34m()\u001b[0m\n\u001b[0;32m      1\u001b[0m a \u001b[38;5;241m=\u001b[39m {\u001b[38;5;241m5\u001b[39m,\u001b[38;5;241m6\u001b[39m,\u001b[38;5;241m7\u001b[39m,\u001b[38;5;241m8\u001b[39m}\n\u001b[0;32m      2\u001b[0m b \u001b[38;5;241m=\u001b[39m {\u001b[38;5;241m7\u001b[39m,\u001b[38;5;241m8\u001b[39m,\u001b[38;5;241m9\u001b[39m,\u001b[38;5;241m10\u001b[39m}\n\u001b[1;32m----> 3\u001b[0m \u001b[38;5;28mprint\u001b[39m(\u001b[38;5;28mlen\u001b[39m(\u001b[43ma\u001b[49m\u001b[38;5;241;43m+\u001b[39;49m\u001b[43mb\u001b[49m))\n",
      "\u001b[1;31mTypeError\u001b[0m: unsupported operand type(s) for +: 'set' and 'set'"
     ]
    }
   ],
   "source": [
    "a = {5,6,7,8}\n",
    "b = {7,8,9,10}\n",
    "print(len(a+b))"
   ]
  },
  {
   "cell_type": "code",
   "execution_count": null,
   "id": "9485ff53",
   "metadata": {},
   "outputs": [
    {
     "name": "stdout",
     "output_type": "stream",
     "text": [
      "{1, 2}\n"
     ]
    }
   ],
   "source": [
    "a = {1,2,3}\n",
    "b = a\n",
    "b.remove(3)\n",
    "print(a)"
   ]
  },
  {
   "cell_type": "code",
   "execution_count": null,
   "id": "52a65eba",
   "metadata": {},
   "outputs": [
    {
     "name": "stdout",
     "output_type": "stream",
     "text": [
      "Sovath Sereymon\n"
     ]
    }
   ],
   "source": [
    "def paramTest(a,b):\n",
    "    c = a+ ' ' + b\n",
    "    return c\n",
    "p0 = 'Sovath'\n",
    "p1 = 'Sereymon'\n",
    "c = paramTest(p0,p1)\n",
    "print(c)"
   ]
  },
  {
   "cell_type": "code",
   "execution_count": null,
   "id": "9c20e15d",
   "metadata": {},
   "outputs": [
    {
     "name": "stdout",
     "output_type": "stream",
     "text": [
      "[2021, 2020, 30303] 1\n"
     ]
    }
   ],
   "source": [
    "lst = [1,2020,30303]\n",
    "myvar = lst[0]\n",
    "lst[0] = 2021\n",
    "print(lst,myvar)"
   ]
  },
  {
   "cell_type": "code",
   "execution_count": null,
   "id": "76c82ae4",
   "metadata": {},
   "outputs": [
    {
     "data": {
      "text/plain": [
       "{1: 20, 2: 10, 3: 6, 4: 5}"
      ]
     },
     "execution_count": 16,
     "metadata": {},
     "output_type": "execute_result"
    }
   ],
   "source": [
    "result = {}\n",
    "for x in range(1,5):\n",
    "    result[x] = 0\n",
    "    for y in range(1,21):\n",
    "        if y % x ==0:\n",
    "            result[x] += 1\n",
    "result"
   ]
  },
  {
   "cell_type": "code",
   "execution_count": null,
   "id": "551884ad",
   "metadata": {},
   "outputs": [
    {
     "name": "stdout",
     "output_type": "stream",
     "text": [
      "1\n"
     ]
    }
   ],
   "source": [
    "for i in range(1,11,12):\n",
    "    print(i*i)"
   ]
  },
  {
   "cell_type": "code",
   "execution_count": null,
   "id": "e0cd2bec",
   "metadata": {},
   "outputs": [
    {
     "data": {
      "text/plain": [
       "1"
      ]
     },
     "execution_count": 19,
     "metadata": {},
     "output_type": "execute_result"
    }
   ],
   "source": [
    "_a = 1\n",
    "_a"
   ]
  },
  {
   "cell_type": "code",
   "execution_count": null,
   "id": "45dbbd18",
   "metadata": {},
   "outputs": [
    {
     "data": {
      "text/plain": [
       "1"
      ]
     },
     "execution_count": 20,
     "metadata": {},
     "output_type": "execute_result"
    }
   ],
   "source": [
    "__a = 1\n",
    "__a"
   ]
  },
  {
   "cell_type": "code",
   "execution_count": null,
   "id": "e40fee80",
   "metadata": {},
   "outputs": [
    {
     "data": {
      "text/plain": [
       "1"
      ]
     },
     "execution_count": 21,
     "metadata": {},
     "output_type": "execute_result"
    }
   ],
   "source": [
    "__str__=1\n",
    "__str__"
   ]
  },
  {
   "cell_type": "code",
   "execution_count": null,
   "id": "97bf59a7",
   "metadata": {},
   "outputs": [
    {
     "data": {
      "text/plain": [
       "{'a': 3, 'man': 3, 'plan': 8, 'canal': 5}"
      ]
     },
     "execution_count": 22,
     "metadata": {},
     "output_type": "execute_result"
    }
   ],
   "source": [
    "result = {}\n",
    "for s in \"a man a plan a canal plan\".split():\n",
    "    if s not in result:\n",
    "        result[s] = 0\n",
    "    result[s] += len(s)\n",
    "result"
   ]
  },
  {
   "cell_type": "code",
   "execution_count": null,
   "id": "8afa580b",
   "metadata": {},
   "outputs": [
    {
     "name": "stdout",
     "output_type": "stream",
     "text": [
      "True True\n"
     ]
    }
   ],
   "source": [
    "a = \"Cambodia\"\n",
    "b = ['Thailand', 'Cambodia', 'Vietnam']\n",
    "print(b[1]==a, b[1] is a)"
   ]
  },
  {
   "cell_type": "code",
   "execution_count": null,
   "id": "092819ad",
   "metadata": {},
   "outputs": [
    {
     "data": {
      "text/plain": [
       "(6, 7)"
      ]
     },
     "execution_count": 24,
     "metadata": {},
     "output_type": "execute_result"
    }
   ],
   "source": [
    "b = (5,6,7,4)\n",
    "b[1:-1]"
   ]
  },
  {
   "cell_type": "code",
   "execution_count": null,
   "id": "cb1e05ec",
   "metadata": {},
   "outputs": [
    {
     "ename": "TypeError",
     "evalue": "unsupported operand type(s) for +: 'set' and 'set'",
     "output_type": "error",
     "traceback": [
      "\u001b[1;31m---------------------------------------------------------------------------\u001b[0m",
      "\u001b[1;31mTypeError\u001b[0m                                 Traceback (most recent call last)",
      "Input \u001b[1;32mIn [25]\u001b[0m, in \u001b[0;36m<cell line: 3>\u001b[1;34m()\u001b[0m\n\u001b[0;32m      1\u001b[0m a \u001b[38;5;241m=\u001b[39m {\u001b[38;5;241m4\u001b[39m,\u001b[38;5;241m5\u001b[39m,\u001b[38;5;241m6\u001b[39m}\n\u001b[0;32m      2\u001b[0m b \u001b[38;5;241m=\u001b[39m {\u001b[38;5;241m2\u001b[39m,\u001b[38;5;241m8\u001b[39m,\u001b[38;5;241m6\u001b[39m}\n\u001b[1;32m----> 3\u001b[0m \u001b[43ma\u001b[49m\u001b[38;5;241;43m+\u001b[39;49m\u001b[43mb\u001b[49m\n",
      "\u001b[1;31mTypeError\u001b[0m: unsupported operand type(s) for +: 'set' and 'set'"
     ]
    }
   ],
   "source": [
    "a = {4,5,6}\n",
    "b = {2,8,6}\n",
    "a+b"
   ]
  },
  {
   "cell_type": "code",
   "execution_count": null,
   "id": "4d2ad288",
   "metadata": {},
   "outputs": [
    {
     "name": "stdout",
     "output_type": "stream",
     "text": [
      "1 is a str , none is an int\n"
     ]
    }
   ],
   "source": [
    "def paramTest(a,b):\n",
    "    print(a, 'is a str ,' ,b, 'is an int')\n",
    "paramTest(1,'none')"
   ]
  },
  {
   "cell_type": "code",
   "execution_count": null,
   "id": "f4a4c5ef",
   "metadata": {},
   "outputs": [
    {
     "data": {
      "text/plain": [
       "'CAmbodi'"
      ]
     },
     "execution_count": 27,
     "metadata": {},
     "output_type": "execute_result"
    }
   ],
   "source": [
    "a = 'CAmbodia'\n",
    "a[0:-1]"
   ]
  },
  {
   "cell_type": "code",
   "execution_count": null,
   "id": "50984f16",
   "metadata": {},
   "outputs": [
    {
     "data": {
      "text/plain": [
       "'CAmbodi'"
      ]
     },
     "execution_count": 28,
     "metadata": {},
     "output_type": "execute_result"
    }
   ],
   "source": [
    "a[:-1]"
   ]
  },
  {
   "cell_type": "code",
   "execution_count": null,
   "id": "f49c9635",
   "metadata": {},
   "outputs": [
    {
     "ename": "SyntaxError",
     "evalue": "invalid syntax (67022689.py, line 4)",
     "output_type": "error",
     "traceback": [
      "\u001b[1;36m  Input \u001b[1;32mIn [29]\u001b[1;36m\u001b[0m\n\u001b[1;33m    for in in range(n):\u001b[0m\n\u001b[1;37m        ^\u001b[0m\n\u001b[1;31mSyntaxError\u001b[0m\u001b[1;31m:\u001b[0m invalid syntax\n"
     ]
    }
   ],
   "source": [
    "total = 0\n",
    "def sum1(n):\n",
    "    total = 0\n",
    "    for in in range(n):\n",
    "        total += i\n",
    "    return total\n",
    "def sum2(n):\n",
    "    total = 0\n",
    "    for i in range(n):\n",
    "        total += i\n",
    "print(total, sum1(5), total, sum2(5), total)"
   ]
  },
  {
   "cell_type": "code",
   "execution_count": null,
   "id": "5b144bb5",
   "metadata": {},
   "outputs": [
    {
     "data": {
      "text/plain": [
       "{2, 4, 6, 8, 10}"
      ]
     },
     "execution_count": 33,
     "metadata": {},
     "output_type": "execute_result"
    }
   ],
   "source": [
    "a = {1,2,3}\n",
    "{x*2 for x in a|{4,5}}"
   ]
  }
 ],
 "metadata": {
  "kernelspec": {
   "display_name": "Python 3",
   "language": "python",
   "name": "python3"
  },
  "language_info": {
   "codemirror_mode": {
    "name": "ipython",
    "version": 3
   },
   "file_extension": ".py",
   "mimetype": "text/x-python",
   "name": "python",
   "nbconvert_exporter": "python",
   "pygments_lexer": "ipython3",
   "version": "3.9.7"
  },
  "vscode": {
   "interpreter": {
    "hash": "c2c6c802744550c4999ab05f348c6cbdea7d30b4eb26f6322e634f81da96d8ed"
   }
  }
 },
 "nbformat": 4,
 "nbformat_minor": 5
}
