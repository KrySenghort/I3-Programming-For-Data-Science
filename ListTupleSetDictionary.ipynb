{
 "cells": [
  {
   "cell_type": "code",
   "execution_count": 1,
   "metadata": {},
   "outputs": [
    {
     "name": "stdout",
     "output_type": "stream",
     "text": [
      "{'name': 'Narender Modi', 'occupation': 'Prime Minister', 'education': 'Graduated', 'age': '65'}\n"
     ]
    }
   ],
   "source": [
    "# Step 1\n",
    "# Create the list(iterator), and init with some varibales\n",
    "key = ['name','occupation','education', 'age']\n",
    "value = ['Narender Modi', 'Prime Minister', 'Graduated', '65']\n",
    "\n",
    "# Step 2\n",
    "# call the zip function, and pass the iterators i.e., the lists.\n",
    "dct = zip(key, value)\n",
    "\n",
    "# Step 3\n",
    "# type cast our zip object i.e., dct, ad convert it into dictionary.\n",
    "output_dict = dict(dct)\n",
    "print(output_dict)"
   ]
  },
  {
   "cell_type": "code",
   "execution_count": 2,
   "metadata": {},
   "outputs": [
    {
     "name": "stdout",
     "output_type": "stream",
     "text": [
      "{'red': 'colors', 'blue': 'colors', 'orange': 'colors'}\n"
     ]
    }
   ],
   "source": [
    "l1=['red','blue','orange']\n",
    "d1=dict.fromkeys(l1,\"colors\")\n",
    "print (d1)\n",
    "#Output:{'red': 'colors', 'blue': 'colors', 'orange': 'colors'}"
   ]
  },
  {
   "cell_type": "code",
   "execution_count": null,
   "metadata": {},
   "outputs": [],
   "source": []
  }
 ],
 "metadata": {
  "kernelspec": {
   "display_name": "Python 3",
   "language": "python",
   "name": "python3"
  },
  "language_info": {
   "codemirror_mode": {
    "name": "ipython",
    "version": 3
   },
   "file_extension": ".py",
   "mimetype": "text/x-python",
   "name": "python",
   "nbconvert_exporter": "python",
   "pygments_lexer": "ipython3",
   "version": "3.9.7"
  },
  "orig_nbformat": 4
 },
 "nbformat": 4,
 "nbformat_minor": 2
}
