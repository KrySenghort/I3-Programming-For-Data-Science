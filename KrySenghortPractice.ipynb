{
 "cells": [
  {
   "attachments": {},
   "cell_type": "markdown",
   "metadata": {},
   "source": [
    "<p style = \"text-align:center\"><b>004_Python_Nested_if_statement</b><br>March 9, 2023</p>"
   ]
  },
  {
   "attachments": {},
   "cell_type": "markdown",
   "metadata": {},
   "source": [
    "<b>1 Python Nested if statement</b><br>\n",
    "We can have a nested-<b>[if-else]</b> or nested-<b>[if-elif-else]</b> statement inside another if-else statement.\n",
    "This is called <b>nesting</b> in computer programming. The nested if statements is useful when we want\n",
    "to make a series of decisions.<br>\n",
    "Any number of these statements can be nested inside one another. Indentation is the only way to\n",
    "figure out the level of nesting. They can get confusing, so they must be avoided unless necessary.<br>\n",
    "We can use nested if statements for situations where we want to check for a <b>secondary condition</b>\n",
    "if the first condition executes as True."
   ]
  },
  {
   "attachments": {},
   "cell_type": "markdown",
   "metadata": {},
   "source": [
    "<b>1.0.1 Syntax:<br>\n",
    "Example 1:"
   ]
  },
  {
   "attachments": {},
   "cell_type": "markdown",
   "metadata": {},
   "source": [
    "if condition_outer:\n",
    "    if condition_inner:\n",
    "        statement of nested if\n",
    "    else:\n",
    "        statement of nested if else:\n",
    "    statement ot outer if\n",
    "else:\n",
    "    Outer else\n",
    "statement outside if block"
   ]
  },
  {
   "attachments": {},
   "cell_type": "markdown",
   "metadata": {},
   "source": [
    "Example 1:"
   ]
  },
  {
   "attachments": {},
   "cell_type": "markdown",
   "metadata": {},
   "source": [
    "if expression1:\n",
    "  statement(s)\n",
    "  if expression2:\n",
    "      statement(s)\n",
    "  elif expression3:\n",
    "      statement(s)\n",
    "  elif expression4:\n",
    "      statement(s)\n",
    "  else:\n",
    "      statement(s)\n",
    "else:\n",
    "  stament(s)"
   ]
  },
  {
   "cell_type": "code",
   "execution_count": 3,
   "metadata": {},
   "outputs": [
    {
     "name": "stdout",
     "output_type": "stream",
     "text": [
      "Äll conditions are false\n"
     ]
    }
   ],
   "source": [
    "# Example 1:\n",
    "a = 10\n",
    "if a>=20:\n",
    "  print(\"Condition is True\")\n",
    "else:\n",
    "  if a>=15:\n",
    "    print(\"Checking second value\")\n",
    "  else:\n",
    "    print(\"Äll conditions are false\")"
   ]
  },
  {
   "cell_type": "code",
   "execution_count": 4,
   "metadata": {},
   "outputs": [
    {
     "name": "stdout",
     "output_type": "stream",
     "text": [
      "x<y\n",
      "x=10\n"
     ]
    }
   ],
   "source": [
    "# Example 2\n",
    "x = 10\n",
    "y = 12\n",
    "if x>y:\n",
    "  print(\"x>y\")\n",
    "elif x<y:\n",
    "  print(\"x<y\")\n",
    "  if x==10:\n",
    "    print(\"x=10\")\n",
    "  else:\n",
    "    print(\"invalid\")\n",
    "else:\n",
    "  print(\"x=y\")"
   ]
  },
  {
   "cell_type": "code",
   "execution_count": 5,
   "metadata": {},
   "outputs": [
    {
     "name": "stdout",
     "output_type": "stream",
     "text": [
      "num1 is neither positive nor negative\n"
     ]
    }
   ],
   "source": [
    "# Example 3\n",
    "num1 = 0\n",
    "if(num1!=0):\n",
    "  if(num1>0):\n",
    "    print(\"num1 is a positive number\")\n",
    "  else:\n",
    "    print(\"num1 is a negative number\")\n",
    "else:\n",
    "  print(\"num1 is neither positive nor negative\")"
   ]
  },
  {
   "cell_type": "code",
   "execution_count": 6,
   "metadata": {},
   "outputs": [
    {
     "name": "stdout",
     "output_type": "stream",
     "text": [
      "positive number\n"
     ]
    }
   ],
   "source": [
    "# Example 4:\n",
    "num = float(input(\"Enter a number : \"))\n",
    "if num >= 0:\n",
    "  if num==0:\n",
    "    print(\"zero\")\n",
    "  else:\n",
    "    print(\"positive number\")\n",
    "else:\n",
    "  print(\"Negative number\")"
   ]
  },
  {
   "cell_type": "code",
   "execution_count": 8,
   "metadata": {},
   "outputs": [
    {
     "name": "stdout",
     "output_type": "stream",
     "text": [
      "96 is greater than 66\n",
      "96 and 96 are equal\n"
     ]
    }
   ],
   "source": [
    "# Example 5\n",
    "def number_arithmetic(num1,num2):\n",
    "  if num1>= num2:\n",
    "    if num1 == num2:\n",
    "      print(f'{num1} and {num2} are equal')\n",
    "    else:\n",
    "      print(f'{num1} is greater than {num2}')\n",
    "  else:\n",
    "      print(f'{num1} is smaller than {num2}')     \n",
    "\n",
    "number_arithmetic(96,66)\n",
    "number_arithmetic(96,96)  "
   ]
  }
 ],
 "metadata": {
  "kernelspec": {
   "display_name": "Python 3",
   "language": "python",
   "name": "python3"
  },
  "language_info": {
   "codemirror_mode": {
    "name": "ipython",
    "version": 3
   },
   "file_extension": ".py",
   "mimetype": "text/x-python",
   "name": "python",
   "nbconvert_exporter": "python",
   "pygments_lexer": "ipython3",
   "version": "3.9.7"
  },
  "orig_nbformat": 4
 },
 "nbformat": 4,
 "nbformat_minor": 2
}
